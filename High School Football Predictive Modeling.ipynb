{
 "cells": [
  {
   "cell_type": "markdown",
   "metadata": {},
   "source": [
    "## Improting all the necessary Libraries"
   ]
  },
  {
   "cell_type": "code",
   "execution_count": 1,
   "metadata": {},
   "outputs": [],
   "source": [
    "import numpy as np   \n",
    "import pandas as pd    \n",
    "import seaborn as sns\n",
    "import matplotlib.pyplot as plt \n",
    "\n",
    "import warnings\n",
    "warnings.filterwarnings(\"ignore\")"
   ]
  },
  {
   "cell_type": "markdown",
   "metadata": {},
   "source": [
    "# Problem Statement"
   ]
  },
  {
   "cell_type": "markdown",
   "metadata": {},
   "source": [
    "##  Problem 1: Linear Regression"
   ]
  },
  {
   "cell_type": "markdown",
   "metadata": {},
   "source": [
    "Your objective is to accurately predict prices of the zircon pieces. Since the company profits at a different rate at different price levels, for revenue management, it is important that prices are predicted as accurately as possible. At the same time, it is important to understand which of the predictors are more important in determining the price.\n",
    "\n",
    "The data dictionary is given below.\n",
    "\n",
    "Data Dictionary:\n",
    "\n",
    "Variable Name - Description\n",
    "\n",
    "Carat - Carat weight of the cubic zirconia.\n",
    "\n",
    "Cut - Describes the cut quality of the cubic zirconia. Quality is in increasing order: Fair, Good, Very Good, Premium, Ideal.\n",
    "\n",
    "Colour - Colour of the cubic zirconia.\n",
    "\n",
    "Clarity - Cubic zirconia Clarity refers to the absence of the Inclusions and Blemishes. (In order from Best to Worst, FL = flawless, I3= level 3 inclusions) FL, IF, VVS1, VVS2, VS1, VS2, SI1, SI2, I1, I2, I3\n",
    "\n",
    "Depth - The Height of a cubic zirconia piece, measured from the Culet to the table, divided by its average Girdle Diameter.\n",
    "\n",
    "Table - The Width of the cubic zirconia's Table expressed as a Percentage of its Average Diameter.\n",
    "\n",
    "Price -Price of the cubic zirconia.\n",
    "\n",
    "X - Length of the cubic zirconia in mm.\n",
    "\n",
    "Y - Width of the cubic zirconia in mm.\n",
    "\n",
    "Z - Height of the cubic zirconia in mm."
   ]
  },
  {
   "cell_type": "code",
   "execution_count": 2,
   "metadata": {},
   "outputs": [
    {
     "data": {
      "text/html": [
       "<div>\n",
       "<style scoped>\n",
       "    .dataframe tbody tr th:only-of-type {\n",
       "        vertical-align: middle;\n",
       "    }\n",
       "\n",
       "    .dataframe tbody tr th {\n",
       "        vertical-align: top;\n",
       "    }\n",
       "\n",
       "    .dataframe thead th {\n",
       "        text-align: right;\n",
       "    }\n",
       "</style>\n",
       "<table border=\"1\" class=\"dataframe\">\n",
       "  <thead>\n",
       "    <tr style=\"text-align: right;\">\n",
       "      <th></th>\n",
       "      <th>Sl No</th>\n",
       "      <th>carat</th>\n",
       "      <th>cut</th>\n",
       "      <th>color</th>\n",
       "      <th>clarity</th>\n",
       "      <th>depth</th>\n",
       "      <th>table</th>\n",
       "      <th>x</th>\n",
       "      <th>y</th>\n",
       "      <th>z</th>\n",
       "      <th>price</th>\n",
       "    </tr>\n",
       "  </thead>\n",
       "  <tbody>\n",
       "    <tr>\n",
       "      <td>0</td>\n",
       "      <td>1</td>\n",
       "      <td>0.30</td>\n",
       "      <td>Ideal</td>\n",
       "      <td>E</td>\n",
       "      <td>SI1</td>\n",
       "      <td>62.1</td>\n",
       "      <td>58.0</td>\n",
       "      <td>4.27</td>\n",
       "      <td>4.29</td>\n",
       "      <td>2.66</td>\n",
       "      <td>499</td>\n",
       "    </tr>\n",
       "    <tr>\n",
       "      <td>1</td>\n",
       "      <td>2</td>\n",
       "      <td>0.33</td>\n",
       "      <td>Premium</td>\n",
       "      <td>G</td>\n",
       "      <td>IF</td>\n",
       "      <td>60.8</td>\n",
       "      <td>58.0</td>\n",
       "      <td>4.42</td>\n",
       "      <td>4.46</td>\n",
       "      <td>2.70</td>\n",
       "      <td>984</td>\n",
       "    </tr>\n",
       "    <tr>\n",
       "      <td>2</td>\n",
       "      <td>3</td>\n",
       "      <td>0.90</td>\n",
       "      <td>Very Good</td>\n",
       "      <td>E</td>\n",
       "      <td>VVS2</td>\n",
       "      <td>62.2</td>\n",
       "      <td>60.0</td>\n",
       "      <td>6.04</td>\n",
       "      <td>6.12</td>\n",
       "      <td>3.78</td>\n",
       "      <td>6289</td>\n",
       "    </tr>\n",
       "    <tr>\n",
       "      <td>3</td>\n",
       "      <td>4</td>\n",
       "      <td>0.42</td>\n",
       "      <td>Ideal</td>\n",
       "      <td>F</td>\n",
       "      <td>VS1</td>\n",
       "      <td>61.6</td>\n",
       "      <td>56.0</td>\n",
       "      <td>4.82</td>\n",
       "      <td>4.80</td>\n",
       "      <td>2.96</td>\n",
       "      <td>1082</td>\n",
       "    </tr>\n",
       "    <tr>\n",
       "      <td>4</td>\n",
       "      <td>5</td>\n",
       "      <td>0.31</td>\n",
       "      <td>Ideal</td>\n",
       "      <td>F</td>\n",
       "      <td>VVS1</td>\n",
       "      <td>60.4</td>\n",
       "      <td>59.0</td>\n",
       "      <td>4.35</td>\n",
       "      <td>4.43</td>\n",
       "      <td>2.65</td>\n",
       "      <td>779</td>\n",
       "    </tr>\n",
       "  </tbody>\n",
       "</table>\n",
       "</div>"
      ],
      "text/plain": [
       "   Sl No  carat        cut color clarity  depth  table     x     y     z  \\\n",
       "0      1   0.30      Ideal     E     SI1   62.1   58.0  4.27  4.29  2.66   \n",
       "1      2   0.33    Premium     G      IF   60.8   58.0  4.42  4.46  2.70   \n",
       "2      3   0.90  Very Good     E    VVS2   62.2   60.0  6.04  6.12  3.78   \n",
       "3      4   0.42      Ideal     F     VS1   61.6   56.0  4.82  4.80  2.96   \n",
       "4      5   0.31      Ideal     F    VVS1   60.4   59.0  4.35  4.43  2.65   \n",
       "\n",
       "   price  \n",
       "0    499  \n",
       "1    984  \n",
       "2   6289  \n",
       "3   1082  \n",
       "4    779  "
      ]
     },
     "execution_count": 2,
     "metadata": {},
     "output_type": "execute_result"
    }
   ],
   "source": [
    "#Read csv file\n",
    "df=pd.read_csv('cubic_zirconia.csv')\n",
    "df.head()"
   ]
  },
  {
   "cell_type": "markdown",
   "metadata": {},
   "source": [
    "1. The very first step of any data analysis assignment is to do the exploratory data analysis (EDA). Once you have understood the nature of all the variables, identified the response and the predictors, apply appropriate methods to determine whether there is any duplicate observation or missing data and whether the variables have symmetric or skewed distribution. Note that data may contain various types of attributes and numerical and/or visual data summarization techniques need to be appropriately decided. Both univariate and bivariate analyses and pre-processing of data are important. Check for outliers and comment on removing or keeping them while model building. Since this is a regression problem, the dependence of the response on the predictors needs to be thoroughly investigated."
   ]
  },
  {
   "cell_type": "markdown",
   "metadata": {},
   "source": [
    "# Exploratory Data Analysis"
   ]
  },
  {
   "cell_type": "markdown",
   "metadata": {},
   "source": [
    "### Identify data types of each column and validate"
   ]
  },
  {
   "cell_type": "code",
   "execution_count": 3,
   "metadata": {},
   "outputs": [
    {
     "name": "stdout",
     "output_type": "stream",
     "text": [
      "<class 'pandas.core.frame.DataFrame'>\n",
      "RangeIndex: 26967 entries, 0 to 26966\n",
      "Data columns (total 11 columns):\n",
      "Sl No      26967 non-null int64\n",
      "carat      26967 non-null float64\n",
      "cut        26967 non-null object\n",
      "color      26967 non-null object\n",
      "clarity    26967 non-null object\n",
      "depth      26270 non-null float64\n",
      "table      26967 non-null float64\n",
      "x          26967 non-null float64\n",
      "y          26967 non-null float64\n",
      "z          26967 non-null float64\n",
      "price      26967 non-null int64\n",
      "dtypes: float64(6), int64(2), object(3)\n",
      "memory usage: 2.3+ MB\n"
     ]
    }
   ],
   "source": [
    "df.info()"
   ]
  },
  {
   "cell_type": "markdown",
   "metadata": {},
   "source": [
    "### Check for duplicate data across columns and drop those"
   ]
  },
  {
   "cell_type": "code",
   "execution_count": 4,
   "metadata": {},
   "outputs": [
    {
     "name": "stdout",
     "output_type": "stream",
     "text": [
      "Number of duplicate rows = 0\n",
      "(26967, 11)\n"
     ]
    }
   ],
   "source": [
    "dups = df.duplicated()\n",
    "print('Number of duplicate rows = %d' % (dups.sum()))\n",
    "print(df.shape)"
   ]
  },
  {
   "cell_type": "markdown",
   "metadata": {},
   "source": [
    "## Inference: There are no duplicate data"
   ]
  },
  {
   "cell_type": "markdown",
   "metadata": {},
   "source": [
    "### Check for missing values and impute the missing values, if any is present."
   ]
  },
  {
   "cell_type": "code",
   "execution_count": 5,
   "metadata": {},
   "outputs": [
    {
     "data": {
      "text/plain": [
       "Sl No        0\n",
       "carat        0\n",
       "cut          0\n",
       "color        0\n",
       "clarity      0\n",
       "depth      697\n",
       "table        0\n",
       "x            0\n",
       "y            0\n",
       "z            0\n",
       "price        0\n",
       "dtype: int64"
      ]
     },
     "execution_count": 5,
     "metadata": {},
     "output_type": "execute_result"
    }
   ],
   "source": [
    "df.isna().sum()"
   ]
  },
  {
   "cell_type": "code",
   "execution_count": 6,
   "metadata": {},
   "outputs": [
    {
     "data": {
      "text/plain": [
       "61.745146555006194"
      ]
     },
     "execution_count": 6,
     "metadata": {},
     "output_type": "execute_result"
    }
   ],
   "source": [
    "avg_depth=np.mean(df['depth'])\n",
    "avg_depth"
   ]
  },
  {
   "cell_type": "code",
   "execution_count": 9,
   "metadata": {},
   "outputs": [
    {
     "data": {
      "text/plain": [
       "61.8"
      ]
     },
     "execution_count": 9,
     "metadata": {},
     "output_type": "execute_result"
    }
   ],
   "source": [
    "avg_depth=np.median(df['depth'])\n",
    "avg_depth"
   ]
  },
  {
   "cell_type": "code",
   "execution_count": 10,
   "metadata": {},
   "outputs": [
    {
     "data": {
      "text/plain": [
       "dtype('float64')"
      ]
     },
     "execution_count": 10,
     "metadata": {},
     "output_type": "execute_result"
    }
   ],
   "source": [
    "df['depth'].fillna(value=61.75, inplace=True)\n",
    "df['depth'].dtype"
   ]
  },
  {
   "cell_type": "code",
   "execution_count": 11,
   "metadata": {},
   "outputs": [
    {
     "data": {
      "text/plain": [
       "Sl No      0\n",
       "carat      0\n",
       "cut        0\n",
       "color      0\n",
       "clarity    0\n",
       "depth      0\n",
       "table      0\n",
       "x          0\n",
       "y          0\n",
       "z          0\n",
       "price      0\n",
       "dtype: int64"
      ]
     },
     "execution_count": 11,
     "metadata": {},
     "output_type": "execute_result"
    }
   ],
   "source": [
    "df.isna().sum()"
   ]
  },
  {
   "cell_type": "code",
   "execution_count": 12,
   "metadata": {},
   "outputs": [
    {
     "name": "stdout",
     "output_type": "stream",
     "text": [
      "<class 'pandas.core.frame.DataFrame'>\n",
      "RangeIndex: 26967 entries, 0 to 26966\n",
      "Data columns (total 11 columns):\n",
      "Sl No      26967 non-null int64\n",
      "carat      26967 non-null float64\n",
      "cut        26967 non-null object\n",
      "color      26967 non-null object\n",
      "clarity    26967 non-null object\n",
      "depth      26967 non-null float64\n",
      "table      26967 non-null float64\n",
      "x          26967 non-null float64\n",
      "y          26967 non-null float64\n",
      "z          26967 non-null float64\n",
      "price      26967 non-null int64\n",
      "dtypes: float64(6), int64(2), object(3)\n",
      "memory usage: 2.3+ MB\n"
     ]
    }
   ],
   "source": [
    "df.info()"
   ]
  },
  {
   "cell_type": "markdown",
   "metadata": {},
   "source": [
    "### Check the data types of all the variables and get the unique counts of all the 'Object' type variables."
   ]
  },
  {
   "cell_type": "code",
   "execution_count": 13,
   "metadata": {},
   "outputs": [
    {
     "name": "stdout",
     "output_type": "stream",
     "text": [
      "cut\n",
      "Ideal        10816\n",
      "Premium       6899\n",
      "Very Good     6030\n",
      "Good          2441\n",
      "Fair           781\n",
      "Name: cut, dtype: int64\n",
      "\n",
      "\n",
      "color\n",
      "G    5661\n",
      "E    4917\n",
      "F    4729\n",
      "H    4102\n",
      "D    3344\n",
      "I    2771\n",
      "J    1443\n",
      "Name: color, dtype: int64\n",
      "\n",
      "\n",
      "clarity\n",
      "SI1     6571\n",
      "VS2     6099\n",
      "SI2     4575\n",
      "VS1     4093\n",
      "VVS2    2531\n",
      "VVS1    1839\n",
      "IF       894\n",
      "I1       365\n",
      "Name: clarity, dtype: int64\n",
      "\n",
      "\n"
     ]
    }
   ],
   "source": [
    "for feature in df.columns: \n",
    "    if df[feature].dtype == 'object': \n",
    "        print(feature)\n",
    "        print(df[feature].value_counts())\n",
    "        print('\\n')"
   ]
  },
  {
   "cell_type": "markdown",
   "metadata": {},
   "source": [
    "## Univariate Analysis"
   ]
  },
  {
   "cell_type": "markdown",
   "metadata": {},
   "source": [
    "**Histogram and boxplot for numeric variables**"
   ]
  },
  {
   "cell_type": "code",
   "execution_count": 14,
   "metadata": {},
   "outputs": [
    {
     "data": {
      "text/plain": [
       "<matplotlib.axes._subplots.AxesSubplot at 0x201ee872208>"
      ]
     },
     "execution_count": 14,
     "metadata": {},
     "output_type": "execute_result"
    },
    {
     "data": {
      "image/png": "[encoded data removed]",
      "text/plain": [
       "<Figure size 432x288 with 1 Axes>"
      ]
     },
     "metadata": {
      "needs_background": "light"
     },
     "output_type": "display_data"
    }
   ],
   "source": [
    "sns.distplot(df['price'])"
   ]
  },
  {
   "cell_type": "code",
   "execution_count": 15,
   "metadata": {},
   "outputs": [
    {
     "data": {
      "text/plain": [
       "<matplotlib.axes._subplots.AxesSubplot at 0x201eeb1a688>"
      ]
     },
     "execution_count": 15,
     "metadata": {},
     "output_type": "execute_result"
    },
    {
     "data": {
      "image/png": "[encoded data removed]",
      "text/plain": [
       "<Figure size 432x288 with 1 Axes>"
      ]
     },
     "metadata": {
      "needs_background": "light"
     },
     "output_type": "display_data"
    }
   ],
   "source": [
    "sns.distplot(df['carat'])"
   ]
  },
  {
   "cell_type": "code",
   "execution_count": 16,
   "metadata": {},
   "outputs": [
    {
     "data": {
      "text/plain": [
       "<matplotlib.axes._subplots.AxesSubplot at 0x201eec24e48>"
      ]
     },
     "execution_count": 16,
     "metadata": {},
     "output_type": "execute_result"
    },
    {
     "data": {
      "image/png": "[encoded data removed]",
      "text/plain": [
       "<Figure size 432x288 with 1 Axes>"
      ]
     },
     "metadata": {
      "needs_background": "light"
     },
     "output_type": "display_data"
    }
   ],
   "source": [
    "sns.distplot(df['depth'])"
   ]
  },
  {
   "cell_type": "code",
   "execution_count": 17,
   "metadata": {},
   "outputs": [
    {
     "data": {
      "text/plain": [
       "<matplotlib.axes._subplots.AxesSubplot at 0x201eed0d9c8>"
      ]
     },
     "execution_count": 17,
     "metadata": {},
     "output_type": "execute_result"
    },
    {
     "data": {
      "image/png": "[encoded data removed]",
      "text/plain": [
       "<Figure size 432x288 with 1 Axes>"
      ]
     },
     "metadata": {
      "needs_background": "light"
     },
     "output_type": "display_data"
    }
   ],
   "source": [
    "sns.distplot(df['table'])"
   ]
  },
  {
   "cell_type": "code",
   "execution_count": 18,
   "metadata": {},
   "outputs": [
    {
     "data": {
      "text/plain": [
       "<matplotlib.axes._subplots.AxesSubplot at 0x201eee07088>"
      ]
     },
     "execution_count": 18,
     "metadata": {},
     "output_type": "execute_result"
    },
    {
     "data": {
      "image/png": "[encoded data removed]",
      "text/plain": [
       "<Figure size 432x288 with 1 Axes>"
      ]
     },
     "metadata": {
      "needs_background": "light"
     },
     "output_type": "display_data"
    }
   ],
   "source": [
    "sns.distplot(df['x'])"
   ]
  },
  {
   "cell_type": "code",
   "execution_count": 19,
   "metadata": {},
   "outputs": [
    {
     "data": {
      "text/plain": [
       "<matplotlib.axes._subplots.AxesSubplot at 0x201eefe8108>"
      ]
     },
     "execution_count": 19,
     "metadata": {},
     "output_type": "execute_result"
    },
    {
     "data": {
      "image/png": "[encoded data removed]",
      "text/plain": [
       "<Figure size 432x288 with 1 Axes>"
      ]
     },
     "metadata": {
      "needs_background": "light"
     },
     "output_type": "display_data"
    }
   ],
   "source": [
    "sns.distplot(df['y'])"
   ]
  },
  {
   "cell_type": "code",
   "execution_count": 20,
   "metadata": {},
   "outputs": [
    {
     "data": {
      "text/plain": [
       "<matplotlib.axes._subplots.AxesSubplot at 0x201ef0e6fc8>"
      ]
     },
     "execution_count": 20,
     "metadata": {},
     "output_type": "execute_result"
    },
    {
     "data": {
      "image/png": "[encoded data removed]",
      "text/plain": [
       "<Figure size 432x288 with 1 Axes>"
      ]
     },
     "metadata": {
      "needs_background": "light"
     },
     "output_type": "display_data"
    }
   ],
   "source": [
    "sns.distplot(df['z'])"
   ]
  },
  {
   "cell_type": "code",
   "execution_count": 21,
   "metadata": {
    "scrolled": true
   },
   "outputs": [
    {
     "data": {
      "image/png": "[encoded data removed]",
      "text/plain": [
       "<Figure size 432x288 with 1 Axes>"
      ]
     },
     "metadata": {
      "needs_background": "light"
     },
     "output_type": "display_data"
    },
    {
     "data": {
      "image/png": "[encoded data removed]",
      "text/plain": [
       "<Figure size 432x288 with 1 Axes>"
      ]
     },
     "metadata": {
      "needs_background": "light"
     },
     "output_type": "display_data"
    },
    {
     "data": {
      "image/png": "[encoded data removed]",
      "text/plain": [
       "<Figure size 432x288 with 1 Axes>"
      ]
     },
     "metadata": {
      "needs_background": "light"
     },
     "output_type": "display_data"
    },
    {
     "data": {
      "image/png": "[encoded data removed]",
      "text/plain": [
       "<Figure size 432x288 with 1 Axes>"
      ]
     },
     "metadata": {
      "needs_background": "light"
     },
     "output_type": "display_data"
    },
    {
     "data": {
      "image/png": "[encoded data removed]",
      "text/plain": [
       "<Figure size 432x288 with 1 Axes>"
      ]
     },
     "metadata": {
      "needs_background": "light"
     },
     "output_type": "display_data"
    },
    {
     "data": {
      "image/png": "[encoded data removed]",
      "text/plain": [
       "<Figure size 432x288 with 1 Axes>"
      ]
     },
     "metadata": {
      "needs_background": "light"
     },
     "output_type": "display_data"
    },
    {
     "data": {
      "image/png": "[encoded data removed]",
      "text/plain": [
       "<Figure size 432x288 with 1 Axes>"
      ]
     },
     "metadata": {
      "needs_background": "light"
     },
     "output_type": "display_data"
    }
   ],
   "source": [
    "cols = ['price','carat','depth','table','x','y','z']\n",
    "for i in cols:\n",
    "    sns.boxplot(df[i],whis=1.5)\n",
    "    plt.grid()\n",
    "    plt.show();"
   ]
  },
  {
   "cell_type": "markdown",
   "metadata": {},
   "source": [
    "## Categorical variables - table and barplot"
   ]
  },
  {
   "cell_type": "code",
   "execution_count": 22,
   "metadata": {},
   "outputs": [
    {
     "data": {
      "text/plain": [
       "Ideal        10816\n",
       "Premium       6899\n",
       "Very Good     6030\n",
       "Good          2441\n",
       "Fair           781\n",
       "Name: cut, dtype: int64"
      ]
     },
     "execution_count": 22,
     "metadata": {},
     "output_type": "execute_result"
    }
   ],
   "source": [
    "df['cut'].value_counts()"
   ]
  },
  {
   "cell_type": "code",
   "execution_count": 23,
   "metadata": {},
   "outputs": [
    {
     "data": {
      "text/plain": [
       "<matplotlib.axes._subplots.AxesSubplot at 0x201ef3f7308>"
      ]
     },
     "execution_count": 23,
     "metadata": {},
     "output_type": "execute_result"
    },
    {
     "data": {
      "image/png": "[encoded data removed]",
      "text/plain": [
       "<Figure size 432x288 with 1 Axes>"
      ]
     },
     "metadata": {
      "needs_background": "light"
     },
     "output_type": "display_data"
    }
   ],
   "source": [
    "sns.countplot(df['cut'])"
   ]
  },
  {
   "cell_type": "code",
   "execution_count": 24,
   "metadata": {},
   "outputs": [
    {
     "data": {
      "text/plain": [
       "<matplotlib.axes._subplots.AxesSubplot at 0x201ef442b48>"
      ]
     },
     "execution_count": 24,
     "metadata": {},
     "output_type": "execute_result"
    },
    {
     "data": {
      "image/png": "[encoded data removed]",
      "text/plain": [
       "<Figure size 432x288 with 1 Axes>"
      ]
     },
     "metadata": {
      "needs_background": "light"
     },
     "output_type": "display_data"
    }
   ],
   "source": [
    "sns.countplot(df['color'])"
   ]
  },
  {
   "cell_type": "code",
   "execution_count": 25,
   "metadata": {},
   "outputs": [
    {
     "data": {
      "text/plain": [
       "<matplotlib.axes._subplots.AxesSubplot at 0x201ef4c7908>"
      ]
     },
     "execution_count": 25,
     "metadata": {},
     "output_type": "execute_result"
    },
    {
     "data": {
      "image/png": "[encoded data removed]",
      "text/plain": [
       "<Figure size 432x288 with 1 Axes>"
      ]
     },
     "metadata": {
      "needs_background": "light"
     },
     "output_type": "display_data"
    }
   ],
   "source": [
    "sns.countplot(df['clarity'])"
   ]
  },
  {
   "cell_type": "markdown",
   "metadata": {},
   "source": [
    "## Bivariate Analysis\n",
    "* correlation plot for continuous vs continuous\n",
    "* boxplot for continuous vs categorical\n",
    "* crosstab for continuous vs categorical"
   ]
  },
  {
   "cell_type": "markdown",
   "metadata": {},
   "source": [
    "### Correlation plot for continuous vs continuous"
   ]
  },
  {
   "cell_type": "code",
   "execution_count": 26,
   "metadata": {},
   "outputs": [
    {
     "data": {
      "text/plain": [
       "<seaborn.axisgrid.FacetGrid at 0x201ef54ef48>"
      ]
     },
     "execution_count": 26,
     "metadata": {},
     "output_type": "execute_result"
    },
    {
     "data": {
      "image/png": "[encoded data removed]",
      "text/plain": [
       "<Figure size 360x360 with 1 Axes>"
      ]
     },
     "metadata": {
      "needs_background": "light"
     },
     "output_type": "display_data"
    }
   ],
   "source": [
    "#Lmplot gives best fit line in addition to scatter\n",
    "sns.lmplot(x='carat', y='price',data=df)"
   ]
  },
  {
   "cell_type": "code",
   "execution_count": 27,
   "metadata": {},
   "outputs": [
    {
     "data": {
      "text/plain": [
       "<seaborn.axisgrid.FacetGrid at 0x201ef5d8108>"
      ]
     },
     "execution_count": 27,
     "metadata": {},
     "output_type": "execute_result"
    },
    {
     "data": {
      "image/png": "[encoded data removed]",
      "text/plain": [
       "<Figure size 360x360 with 1 Axes>"
      ]
     },
     "metadata": {
      "needs_background": "light"
     },
     "output_type": "display_data"
    }
   ],
   "source": [
    "sns.lmplot(x='depth', y='price',data=df)"
   ]
  },
  {
   "cell_type": "code",
   "execution_count": 28,
   "metadata": {},
   "outputs": [
    {
     "data": {
      "text/plain": [
       "<seaborn.axisgrid.FacetGrid at 0x201f0975f08>"
      ]
     },
     "execution_count": 28,
     "metadata": {},
     "output_type": "execute_result"
    },
    {
     "data": {
      "image/png": "[encoded data removed]",
      "text/plain": [
       "<Figure size 360x360 with 1 Axes>"
      ]
     },
     "metadata": {
      "needs_background": "light"
     },
     "output_type": "display_data"
    }
   ],
   "source": [
    "sns.lmplot(x='table', y='price',data=df)"
   ]
  },
  {
   "cell_type": "code",
   "execution_count": 29,
   "metadata": {},
   "outputs": [
    {
     "data": {
      "text/plain": [
       "<seaborn.axisgrid.FacetGrid at 0x201f09e8048>"
      ]
     },
     "execution_count": 29,
     "metadata": {},
     "output_type": "execute_result"
    },
    {
     "data": {
      "image/png": "[encoded data removed]",
      "text/plain": [
       "<Figure size 360x360 with 1 Axes>"
      ]
     },
     "metadata": {
      "needs_background": "light"
     },
     "output_type": "display_data"
    }
   ],
   "source": [
    "sns.lmplot(x='x', y='price',data=df)"
   ]
  },
  {
   "cell_type": "code",
   "execution_count": 30,
   "metadata": {},
   "outputs": [
    {
     "data": {
      "text/plain": [
       "<seaborn.axisgrid.FacetGrid at 0x201f0a5d1c8>"
      ]
     },
     "execution_count": 30,
     "metadata": {},
     "output_type": "execute_result"
    },
    {
     "data": {
      "image/png": "[encoded data removed]",
      "text/plain": [
       "<Figure size 360x360 with 1 Axes>"
      ]
     },
     "metadata": {
      "needs_background": "light"
     },
     "output_type": "display_data"
    }
   ],
   "source": [
    "sns.lmplot(x='y', y='price',data=df)"
   ]
  },
  {
   "cell_type": "code",
   "execution_count": 31,
   "metadata": {},
   "outputs": [
    {
     "data": {
      "text/plain": [
       "<seaborn.axisgrid.FacetGrid at 0x201f0aabdc8>"
      ]
     },
     "execution_count": 31,
     "metadata": {},
     "output_type": "execute_result"
    },
    {
     "data": {
      "image/png": "[encoded data removed]",
      "text/plain": [
       "<Figure size 360x360 with 1 Axes>"
      ]
     },
     "metadata": {
      "needs_background": "light"
     },
     "output_type": "display_data"
    }
   ],
   "source": [
    "sns.lmplot(x='z', y='price',data=df)"
   ]
  },
  {
   "cell_type": "markdown",
   "metadata": {},
   "source": [
    "### Boxplot for continuous vs categorical"
   ]
  },
  {
   "cell_type": "code",
   "execution_count": 32,
   "metadata": {},
   "outputs": [
    {
     "data": {
      "text/plain": [
       "<matplotlib.axes._subplots.AxesSubplot at 0x201f1b14ec8>"
      ]
     },
     "execution_count": 32,
     "metadata": {},
     "output_type": "execute_result"
    },
    {
     "data": {
      "image/png": "[encoded data removed]",
      "text/plain": [
       "<Figure size 432x288 with 1 Axes>"
      ]
     },
     "metadata": {
      "needs_background": "light"
     },
     "output_type": "display_data"
    }
   ],
   "source": [
    "sns.barplot(data = df, x='cut',y='price')"
   ]
  },
  {
   "cell_type": "code",
   "execution_count": 33,
   "metadata": {},
   "outputs": [
    {
     "data": {
      "text/plain": [
       "<matplotlib.axes._subplots.AxesSubplot at 0x201f0b30088>"
      ]
     },
     "execution_count": 33,
     "metadata": {},
     "output_type": "execute_result"
    },
    {
     "data": {
      "image/png": "[encoded data removed]",
      "text/plain": [
       "<Figure size 432x288 with 1 Axes>"
      ]
     },
     "metadata": {
      "needs_background": "light"
     },
     "output_type": "display_data"
    }
   ],
   "source": [
    "\n",
    "sns.barplot(data = df, x='color',y='price')"
   ]
  },
  {
   "cell_type": "code",
   "execution_count": 34,
   "metadata": {},
   "outputs": [
    {
     "data": {
      "text/plain": [
       "<matplotlib.axes._subplots.AxesSubplot at 0x201ef363748>"
      ]
     },
     "execution_count": 34,
     "metadata": {},
     "output_type": "execute_result"
    },
    {
     "data": {
      "image/png": "[encoded data removed]",
      "text/plain": [
       "<Figure size 432x288 with 1 Axes>"
      ]
     },
     "metadata": {
      "needs_background": "light"
     },
     "output_type": "display_data"
    }
   ],
   "source": [
    "sns.barplot(data = df, x='clarity',y='price')"
   ]
  },
  {
   "cell_type": "markdown",
   "metadata": {},
   "source": [
    "### Crosstab for continuous vs categorical"
   ]
  },
  {
   "cell_type": "code",
   "execution_count": 35,
   "metadata": {},
   "outputs": [
    {
     "data": {
      "text/html": [
       "<div>\n",
       "<style scoped>\n",
       "    .dataframe tbody tr th:only-of-type {\n",
       "        vertical-align: middle;\n",
       "    }\n",
       "\n",
       "    .dataframe tbody tr th {\n",
       "        vertical-align: top;\n",
       "    }\n",
       "\n",
       "    .dataframe thead th {\n",
       "        text-align: right;\n",
       "    }\n",
       "</style>\n",
       "<table border=\"1\" class=\"dataframe\">\n",
       "  <thead>\n",
       "    <tr style=\"text-align: right;\">\n",
       "      <th>color</th>\n",
       "      <th>D</th>\n",
       "      <th>E</th>\n",
       "      <th>F</th>\n",
       "      <th>G</th>\n",
       "      <th>H</th>\n",
       "      <th>I</th>\n",
       "      <th>J</th>\n",
       "    </tr>\n",
       "    <tr>\n",
       "      <th>cut</th>\n",
       "      <th></th>\n",
       "      <th></th>\n",
       "      <th></th>\n",
       "      <th></th>\n",
       "      <th></th>\n",
       "      <th></th>\n",
       "      <th></th>\n",
       "    </tr>\n",
       "  </thead>\n",
       "  <tbody>\n",
       "    <tr>\n",
       "      <td>Fair</td>\n",
       "      <td>74</td>\n",
       "      <td>100</td>\n",
       "      <td>148</td>\n",
       "      <td>147</td>\n",
       "      <td>150</td>\n",
       "      <td>94</td>\n",
       "      <td>68</td>\n",
       "    </tr>\n",
       "    <tr>\n",
       "      <td>Good</td>\n",
       "      <td>311</td>\n",
       "      <td>491</td>\n",
       "      <td>454</td>\n",
       "      <td>419</td>\n",
       "      <td>352</td>\n",
       "      <td>253</td>\n",
       "      <td>161</td>\n",
       "    </tr>\n",
       "    <tr>\n",
       "      <td>Ideal</td>\n",
       "      <td>1409</td>\n",
       "      <td>1966</td>\n",
       "      <td>1893</td>\n",
       "      <td>2470</td>\n",
       "      <td>1552</td>\n",
       "      <td>1073</td>\n",
       "      <td>453</td>\n",
       "    </tr>\n",
       "    <tr>\n",
       "      <td>Premium</td>\n",
       "      <td>808</td>\n",
       "      <td>1174</td>\n",
       "      <td>1167</td>\n",
       "      <td>1471</td>\n",
       "      <td>1161</td>\n",
       "      <td>711</td>\n",
       "      <td>407</td>\n",
       "    </tr>\n",
       "    <tr>\n",
       "      <td>Very Good</td>\n",
       "      <td>742</td>\n",
       "      <td>1186</td>\n",
       "      <td>1067</td>\n",
       "      <td>1154</td>\n",
       "      <td>887</td>\n",
       "      <td>640</td>\n",
       "      <td>354</td>\n",
       "    </tr>\n",
       "  </tbody>\n",
       "</table>\n",
       "</div>"
      ],
      "text/plain": [
       "color         D     E     F     G     H     I    J\n",
       "cut                                               \n",
       "Fair         74   100   148   147   150    94   68\n",
       "Good        311   491   454   419   352   253  161\n",
       "Ideal      1409  1966  1893  2470  1552  1073  453\n",
       "Premium     808  1174  1167  1471  1161   711  407\n",
       "Very Good   742  1186  1067  1154   887   640  354"
      ]
     },
     "execution_count": 35,
     "metadata": {},
     "output_type": "execute_result"
    }
   ],
   "source": [
    "pd.crosstab(df['cut'], df['color'])"
   ]
  },
  {
   "cell_type": "code",
   "execution_count": 36,
   "metadata": {},
   "outputs": [
    {
     "data": {
      "text/plain": [
       "<matplotlib.axes._subplots.AxesSubplot at 0x201ef31bbc8>"
      ]
     },
     "execution_count": 36,
     "metadata": {},
     "output_type": "execute_result"
    },
    {
     "data": {
      "image/png": "[encoded data removed]",
      "text/plain": [
       "<Figure size 432x288 with 1 Axes>"
      ]
     },
     "metadata": {
      "needs_background": "light"
     },
     "output_type": "display_data"
    }
   ],
   "source": [
    "pd.crosstab(df['cut'], df['color']).plot(kind = 'bar', stacked = True)"
   ]
  },
  {
   "cell_type": "code",
   "execution_count": 37,
   "metadata": {},
   "outputs": [
    {
     "data": {
      "text/html": [
       "<div>\n",
       "<style scoped>\n",
       "    .dataframe tbody tr th:only-of-type {\n",
       "        vertical-align: middle;\n",
       "    }\n",
       "\n",
       "    .dataframe tbody tr th {\n",
       "        vertical-align: top;\n",
       "    }\n",
       "\n",
       "    .dataframe thead th {\n",
       "        text-align: right;\n",
       "    }\n",
       "</style>\n",
       "<table border=\"1\" class=\"dataframe\">\n",
       "  <thead>\n",
       "    <tr style=\"text-align: right;\">\n",
       "      <th>clarity</th>\n",
       "      <th>I1</th>\n",
       "      <th>IF</th>\n",
       "      <th>SI1</th>\n",
       "      <th>SI2</th>\n",
       "      <th>VS1</th>\n",
       "      <th>VS2</th>\n",
       "      <th>VVS1</th>\n",
       "      <th>VVS2</th>\n",
       "    </tr>\n",
       "    <tr>\n",
       "      <th>cut</th>\n",
       "      <th></th>\n",
       "      <th></th>\n",
       "      <th></th>\n",
       "      <th></th>\n",
       "      <th></th>\n",
       "      <th></th>\n",
       "      <th></th>\n",
       "      <th></th>\n",
       "    </tr>\n",
       "  </thead>\n",
       "  <tbody>\n",
       "    <tr>\n",
       "      <td>Fair</td>\n",
       "      <td>89</td>\n",
       "      <td>4</td>\n",
       "      <td>193</td>\n",
       "      <td>225</td>\n",
       "      <td>93</td>\n",
       "      <td>129</td>\n",
       "      <td>10</td>\n",
       "      <td>38</td>\n",
       "    </tr>\n",
       "    <tr>\n",
       "      <td>Good</td>\n",
       "      <td>51</td>\n",
       "      <td>30</td>\n",
       "      <td>765</td>\n",
       "      <td>530</td>\n",
       "      <td>331</td>\n",
       "      <td>491</td>\n",
       "      <td>100</td>\n",
       "      <td>143</td>\n",
       "    </tr>\n",
       "    <tr>\n",
       "      <td>Ideal</td>\n",
       "      <td>74</td>\n",
       "      <td>613</td>\n",
       "      <td>2150</td>\n",
       "      <td>1324</td>\n",
       "      <td>1784</td>\n",
       "      <td>2528</td>\n",
       "      <td>1036</td>\n",
       "      <td>1307</td>\n",
       "    </tr>\n",
       "    <tr>\n",
       "      <td>Premium</td>\n",
       "      <td>108</td>\n",
       "      <td>115</td>\n",
       "      <td>1809</td>\n",
       "      <td>1449</td>\n",
       "      <td>998</td>\n",
       "      <td>1697</td>\n",
       "      <td>307</td>\n",
       "      <td>416</td>\n",
       "    </tr>\n",
       "    <tr>\n",
       "      <td>Very Good</td>\n",
       "      <td>43</td>\n",
       "      <td>132</td>\n",
       "      <td>1654</td>\n",
       "      <td>1047</td>\n",
       "      <td>887</td>\n",
       "      <td>1254</td>\n",
       "      <td>386</td>\n",
       "      <td>627</td>\n",
       "    </tr>\n",
       "  </tbody>\n",
       "</table>\n",
       "</div>"
      ],
      "text/plain": [
       "clarity     I1   IF   SI1   SI2   VS1   VS2  VVS1  VVS2\n",
       "cut                                                    \n",
       "Fair        89    4   193   225    93   129    10    38\n",
       "Good        51   30   765   530   331   491   100   143\n",
       "Ideal       74  613  2150  1324  1784  2528  1036  1307\n",
       "Premium    108  115  1809  1449   998  1697   307   416\n",
       "Very Good   43  132  1654  1047   887  1254   386   627"
      ]
     },
     "execution_count": 37,
     "metadata": {},
     "output_type": "execute_result"
    }
   ],
   "source": [
    "pd.crosstab(df['cut'], df['clarity'])"
   ]
  },
  {
   "cell_type": "code",
   "execution_count": 38,
   "metadata": {},
   "outputs": [
    {
     "data": {
      "text/plain": [
       "<matplotlib.axes._subplots.AxesSubplot at 0x201ef3442c8>"
      ]
     },
     "execution_count": 38,
     "metadata": {},
     "output_type": "execute_result"
    },
    {
     "data": {
      "image/png": "[encoded data removed]",
      "text/plain": [
       "<Figure size 432x288 with 1 Axes>"
      ]
     },
     "metadata": {
      "needs_background": "light"
     },
     "output_type": "display_data"
    }
   ],
   "source": [
    "pd.crosstab(df['cut'], df['clarity']).plot(kind = 'bar', stacked = True)"
   ]
  },
  {
   "cell_type": "markdown",
   "metadata": {},
   "source": [
    "# High Level Findings from EDA"
   ]
  },
  {
   "cell_type": "markdown",
   "metadata": {},
   "source": [
    "### Dropping the first column as not adding any value"
   ]
  },
  {
   "cell_type": "code",
   "execution_count": 39,
   "metadata": {},
   "outputs": [
    {
     "data": {
      "text/html": [
       "<div>\n",
       "<style scoped>\n",
       "    .dataframe tbody tr th:only-of-type {\n",
       "        vertical-align: middle;\n",
       "    }\n",
       "\n",
       "    .dataframe tbody tr th {\n",
       "        vertical-align: top;\n",
       "    }\n",
       "\n",
       "    .dataframe thead th {\n",
       "        text-align: right;\n",
       "    }\n",
       "</style>\n",
       "<table border=\"1\" class=\"dataframe\">\n",
       "  <thead>\n",
       "    <tr style=\"text-align: right;\">\n",
       "      <th></th>\n",
       "      <th>carat</th>\n",
       "      <th>cut</th>\n",
       "      <th>color</th>\n",
       "      <th>clarity</th>\n",
       "      <th>depth</th>\n",
       "      <th>table</th>\n",
       "      <th>x</th>\n",
       "      <th>y</th>\n",
       "      <th>z</th>\n",
       "      <th>price</th>\n",
       "    </tr>\n",
       "  </thead>\n",
       "  <tbody>\n",
       "    <tr>\n",
       "      <td>0</td>\n",
       "      <td>0.30</td>\n",
       "      <td>Ideal</td>\n",
       "      <td>E</td>\n",
       "      <td>SI1</td>\n",
       "      <td>62.1</td>\n",
       "      <td>58.0</td>\n",
       "      <td>4.27</td>\n",
       "      <td>4.29</td>\n",
       "      <td>2.66</td>\n",
       "      <td>499</td>\n",
       "    </tr>\n",
       "    <tr>\n",
       "      <td>1</td>\n",
       "      <td>0.33</td>\n",
       "      <td>Premium</td>\n",
       "      <td>G</td>\n",
       "      <td>IF</td>\n",
       "      <td>60.8</td>\n",
       "      <td>58.0</td>\n",
       "      <td>4.42</td>\n",
       "      <td>4.46</td>\n",
       "      <td>2.70</td>\n",
       "      <td>984</td>\n",
       "    </tr>\n",
       "    <tr>\n",
       "      <td>2</td>\n",
       "      <td>0.90</td>\n",
       "      <td>Very Good</td>\n",
       "      <td>E</td>\n",
       "      <td>VVS2</td>\n",
       "      <td>62.2</td>\n",
       "      <td>60.0</td>\n",
       "      <td>6.04</td>\n",
       "      <td>6.12</td>\n",
       "      <td>3.78</td>\n",
       "      <td>6289</td>\n",
       "    </tr>\n",
       "    <tr>\n",
       "      <td>3</td>\n",
       "      <td>0.42</td>\n",
       "      <td>Ideal</td>\n",
       "      <td>F</td>\n",
       "      <td>VS1</td>\n",
       "      <td>61.6</td>\n",
       "      <td>56.0</td>\n",
       "      <td>4.82</td>\n",
       "      <td>4.80</td>\n",
       "      <td>2.96</td>\n",
       "      <td>1082</td>\n",
       "    </tr>\n",
       "    <tr>\n",
       "      <td>4</td>\n",
       "      <td>0.31</td>\n",
       "      <td>Ideal</td>\n",
       "      <td>F</td>\n",
       "      <td>VVS1</td>\n",
       "      <td>60.4</td>\n",
       "      <td>59.0</td>\n",
       "      <td>4.35</td>\n",
       "      <td>4.43</td>\n",
       "      <td>2.65</td>\n",
       "      <td>779</td>\n",
       "    </tr>\n",
       "  </tbody>\n",
       "</table>\n",
       "</div>"
      ],
      "text/plain": [
       "   carat        cut color clarity  depth  table     x     y     z  price\n",
       "0   0.30      Ideal     E     SI1   62.1   58.0  4.27  4.29  2.66    499\n",
       "1   0.33    Premium     G      IF   60.8   58.0  4.42  4.46  2.70    984\n",
       "2   0.90  Very Good     E    VVS2   62.2   60.0  6.04  6.12  3.78   6289\n",
       "3   0.42      Ideal     F     VS1   61.6   56.0  4.82  4.80  2.96   1082\n",
       "4   0.31      Ideal     F    VVS1   60.4   59.0  4.35  4.43  2.65    779"
      ]
     },
     "execution_count": 39,
     "metadata": {},
     "output_type": "execute_result"
    }
   ],
   "source": [
    "df.drop(labels=['Sl No'],axis=1,inplace=True)\n",
    "df.head()"
   ]
  },
  {
   "cell_type": "markdown",
   "metadata": {},
   "source": [
    "### Treating the outliers at 1.5 * IQR (Inter-Quartile Range)."
   ]
  },
  {
   "cell_type": "code",
   "execution_count": 40,
   "metadata": {},
   "outputs": [],
   "source": [
    "def remove_outlier(col):\n",
    "    sorted(col)\n",
    "    Q1,Q3=np.percentile(col,[25,75])\n",
    "    IQR=Q3-Q1\n",
    "    lower_range= Q1-(1.5 * IQR)\n",
    "    upper_range= Q3+(1.5 * IQR)\n",
    "    return lower_range, upper_range"
   ]
  },
  {
   "cell_type": "code",
   "execution_count": 41,
   "metadata": {},
   "outputs": [],
   "source": [
    "for column in df.columns:\n",
    "    if df[column].dtype != 'object': \n",
    "       lr,ur=remove_outlier(df[column])\n",
    "       df[column]=np.where(df[column]>ur,ur,df[column])\n",
    "       df[column]=np.where(df[column]<lr,lr,df[column])"
   ]
  },
  {
   "cell_type": "markdown",
   "metadata": {},
   "source": [
    "### Checking for Correlations. Print the correlation matrix and the correlation heatmap."
   ]
  },
  {
   "cell_type": "code",
   "execution_count": 42,
   "metadata": {},
   "outputs": [
    {
     "data": {
      "text/html": [
       "<div>\n",
       "<style scoped>\n",
       "    .dataframe tbody tr th:only-of-type {\n",
       "        vertical-align: middle;\n",
       "    }\n",
       "\n",
       "    .dataframe tbody tr th {\n",
       "        vertical-align: top;\n",
       "    }\n",
       "\n",
       "    .dataframe thead th {\n",
       "        text-align: right;\n",
       "    }\n",
       "</style>\n",
       "<table border=\"1\" class=\"dataframe\">\n",
       "  <thead>\n",
       "    <tr style=\"text-align: right;\">\n",
       "      <th></th>\n",
       "      <th>carat</th>\n",
       "      <th>depth</th>\n",
       "      <th>table</th>\n",
       "      <th>x</th>\n",
       "      <th>y</th>\n",
       "      <th>z</th>\n",
       "      <th>price</th>\n",
       "    </tr>\n",
       "  </thead>\n",
       "  <tbody>\n",
       "    <tr>\n",
       "      <td>carat</td>\n",
       "      <td>1.000000</td>\n",
       "      <td>0.029497</td>\n",
       "      <td>0.187395</td>\n",
       "      <td>0.982207</td>\n",
       "      <td>0.981285</td>\n",
       "      <td>0.977328</td>\n",
       "      <td>0.936741</td>\n",
       "    </tr>\n",
       "    <tr>\n",
       "      <td>depth</td>\n",
       "      <td>0.029497</td>\n",
       "      <td>1.000000</td>\n",
       "      <td>-0.289572</td>\n",
       "      <td>-0.019962</td>\n",
       "      <td>-0.022989</td>\n",
       "      <td>0.095136</td>\n",
       "      <td>-0.000804</td>\n",
       "    </tr>\n",
       "    <tr>\n",
       "      <td>table</td>\n",
       "      <td>0.187395</td>\n",
       "      <td>-0.289572</td>\n",
       "      <td>1.000000</td>\n",
       "      <td>0.199146</td>\n",
       "      <td>0.193530</td>\n",
       "      <td>0.159425</td>\n",
       "      <td>0.137971</td>\n",
       "    </tr>\n",
       "    <tr>\n",
       "      <td>x</td>\n",
       "      <td>0.982207</td>\n",
       "      <td>-0.019962</td>\n",
       "      <td>0.199146</td>\n",
       "      <td>1.000000</td>\n",
       "      <td>0.998495</td>\n",
       "      <td>0.988179</td>\n",
       "      <td>0.912759</td>\n",
       "    </tr>\n",
       "    <tr>\n",
       "      <td>y</td>\n",
       "      <td>0.981285</td>\n",
       "      <td>-0.022989</td>\n",
       "      <td>0.193530</td>\n",
       "      <td>0.998495</td>\n",
       "      <td>1.000000</td>\n",
       "      <td>0.987853</td>\n",
       "      <td>0.914191</td>\n",
       "    </tr>\n",
       "    <tr>\n",
       "      <td>z</td>\n",
       "      <td>0.977328</td>\n",
       "      <td>0.095136</td>\n",
       "      <td>0.159425</td>\n",
       "      <td>0.988179</td>\n",
       "      <td>0.987853</td>\n",
       "      <td>1.000000</td>\n",
       "      <td>0.905737</td>\n",
       "    </tr>\n",
       "    <tr>\n",
       "      <td>price</td>\n",
       "      <td>0.936741</td>\n",
       "      <td>-0.000804</td>\n",
       "      <td>0.137971</td>\n",
       "      <td>0.912759</td>\n",
       "      <td>0.914191</td>\n",
       "      <td>0.905737</td>\n",
       "      <td>1.000000</td>\n",
       "    </tr>\n",
       "  </tbody>\n",
       "</table>\n",
       "</div>"
      ],
      "text/plain": [
       "          carat     depth     table         x         y         z     price\n",
       "carat  1.000000  0.029497  0.187395  0.982207  0.981285  0.977328  0.936741\n",
       "depth  0.029497  1.000000 -0.289572 -0.019962 -0.022989  0.095136 -0.000804\n",
       "table  0.187395 -0.289572  1.000000  0.199146  0.193530  0.159425  0.137971\n",
       "x      0.982207 -0.019962  0.199146  1.000000  0.998495  0.988179  0.912759\n",
       "y      0.981285 -0.022989  0.193530  0.998495  1.000000  0.987853  0.914191\n",
       "z      0.977328  0.095136  0.159425  0.988179  0.987853  1.000000  0.905737\n",
       "price  0.936741 -0.000804  0.137971  0.912759  0.914191  0.905737  1.000000"
      ]
     },
     "execution_count": 42,
     "metadata": {},
     "output_type": "execute_result"
    }
   ],
   "source": [
    "# Correlation matrix\n",
    "cor = df.corr()\n",
    "cor"
   ]
  },
  {
   "cell_type": "code",
   "execution_count": 43,
   "metadata": {},
   "outputs": [
    {
     "data": {
      "image/png": "[encoded data removed]",
      "text/plain": [
       "<Figure size 864x864 with 2 Axes>"
      ]
     },
     "metadata": {
      "needs_background": "light"
     },
     "output_type": "display_data"
    }
   ],
   "source": [
    "# View heat map of the correlation matrix\n",
    "fig, ax = plt.subplots(figsize=(12,12))\n",
    "sns.heatmap(cor, vmin = -1, vmax = 1, cmap = 'plasma', annot = True);"
   ]
  },
  {
   "cell_type": "code",
   "execution_count": 44,
   "metadata": {},
   "outputs": [
    {
     "data": {
      "text/plain": [
       "x      y        0.998495\n",
       "y      x        0.998495\n",
       "x      z        0.988179\n",
       "z      x        0.988179\n",
       "       y        0.987853\n",
       "y      z        0.987853\n",
       "x      carat    0.982207\n",
       "carat  x        0.982207\n",
       "y      carat    0.981285\n",
       "carat  y        0.981285\n",
       "z      carat    0.977328\n",
       "carat  z        0.977328\n",
       "       price    0.936741\n",
       "price  carat    0.936741\n",
       "y      price    0.914191\n",
       "dtype: float64"
      ]
     },
     "execution_count": 44,
     "metadata": {},
     "output_type": "execute_result"
    }
   ],
   "source": [
    "#Highly correlated variables\n",
    "c = cor.abs()\n",
    "\n",
    "# Unstack the correlation matrix\n",
    "s = c.unstack()\n",
    "\n",
    "#Filter to exclude values of 1\n",
    "s = s[s != 1]\n",
    "\n",
    "# Sort descending to find the highly correlated variables\n",
    "so = s.sort_values(kind=\"quicksort\", ascending=False)[:15]\n",
    "so"
   ]
  },
  {
   "cell_type": "markdown",
   "metadata": {},
   "source": [
    "2. Use Full Data to develop a model to identify significant predictors. Check whether the proposed model is free of multicollinearity. Apply variable selection method as required. Show all intermediate models leading to the final model. Justify your choice of the final model. Which are the significant predictors?"
   ]
  },
  {
   "cell_type": "markdown",
   "metadata": {},
   "source": [
    "## Model Building"
   ]
  },
  {
   "cell_type": "code",
   "execution_count": 45,
   "metadata": {},
   "outputs": [],
   "source": [
    "import statsmodels.api as sm"
   ]
  },
  {
   "cell_type": "markdown",
   "metadata": {},
   "source": [
    "## Simple Linear Regression"
   ]
  },
  {
   "cell_type": "code",
   "execution_count": 46,
   "metadata": {},
   "outputs": [],
   "source": [
    "X1 = df[['carat']]\n",
    "Y = df[['price']]"
   ]
  },
  {
   "cell_type": "code",
   "execution_count": 47,
   "metadata": {},
   "outputs": [],
   "source": [
    "# Add an intercept to X for our model\n",
    "X1  = sm.add_constant(X1)"
   ]
  },
  {
   "cell_type": "code",
   "execution_count": 48,
   "metadata": {},
   "outputs": [
    {
     "data": {
      "text/html": [
       "<table class=\"simpletable\">\n",
       "<caption>OLS Regression Results</caption>\n",
       "<tr>\n",
       "  <th>Dep. Variable:</th>          <td>price</td>      <th>  R-squared:         </th>  <td>   0.877</td>  \n",
       "</tr>\n",
       "<tr>\n",
       "  <th>Model:</th>                   <td>OLS</td>       <th>  Adj. R-squared:    </th>  <td>   0.877</td>  \n",
       "</tr>\n",
       "<tr>\n",
       "  <th>Method:</th>             <td>Least Squares</td>  <th>  F-statistic:       </th>  <td>1.931e+05</td> \n",
       "</tr>\n",
       "<tr>\n",
       "  <th>Date:</th>             <td>Sun, 11 Apr 2021</td> <th>  Prob (F-statistic):</th>   <td>  0.00</td>   \n",
       "</tr>\n",
       "<tr>\n",
       "  <th>Time:</th>                 <td>00:53:58</td>     <th>  Log-Likelihood:    </th> <td>-2.2979e+05</td>\n",
       "</tr>\n",
       "<tr>\n",
       "  <th>No. Observations:</th>      <td> 26967</td>      <th>  AIC:               </th>  <td>4.596e+05</td> \n",
       "</tr>\n",
       "<tr>\n",
       "  <th>Df Residuals:</th>          <td> 26965</td>      <th>  BIC:               </th>  <td>4.596e+05</td> \n",
       "</tr>\n",
       "<tr>\n",
       "  <th>Df Model:</th>              <td>     1</td>      <th>                     </th>      <td> </td>     \n",
       "</tr>\n",
       "<tr>\n",
       "  <th>Covariance Type:</th>      <td>nonrobust</td>    <th>                     </th>      <td> </td>     \n",
       "</tr>\n",
       "</table>\n",
       "<table class=\"simpletable\">\n",
       "<tr>\n",
       "    <td></td>       <th>coef</th>     <th>std err</th>      <th>t</th>      <th>P>|t|</th>  <th>[0.025</th>    <th>0.975]</th>  \n",
       "</tr>\n",
       "<tr>\n",
       "  <th>const</th> <td>-1841.7894</td> <td>   14.695</td> <td> -125.336</td> <td> 0.000</td> <td>-1870.592</td> <td>-1812.987</td>\n",
       "</tr>\n",
       "<tr>\n",
       "  <th>carat</th> <td> 7030.9392</td> <td>   15.999</td> <td>  439.463</td> <td> 0.000</td> <td> 6999.580</td> <td> 7062.298</td>\n",
       "</tr>\n",
       "</table>\n",
       "<table class=\"simpletable\">\n",
       "<tr>\n",
       "  <th>Omnibus:</th>       <td>6285.528</td> <th>  Durbin-Watson:     </th> <td>   2.005</td> \n",
       "</tr>\n",
       "<tr>\n",
       "  <th>Prob(Omnibus):</th>  <td> 0.000</td>  <th>  Jarque-Bera (JB):  </th> <td>30335.382</td>\n",
       "</tr>\n",
       "<tr>\n",
       "  <th>Skew:</th>           <td> 1.052</td>  <th>  Prob(JB):          </th> <td>    0.00</td> \n",
       "</tr>\n",
       "<tr>\n",
       "  <th>Kurtosis:</th>       <td> 7.751</td>  <th>  Cond. No.          </th> <td>    3.72</td> \n",
       "</tr>\n",
       "</table><br/><br/>Warnings:<br/>[1] Standard Errors assume that the covariance matrix of the errors is correctly specified."
      ],
      "text/plain": [
       "<class 'statsmodels.iolib.summary.Summary'>\n",
       "\"\"\"\n",
       "                            OLS Regression Results                            \n",
       "==============================================================================\n",
       "Dep. Variable:                  price   R-squared:                       0.877\n",
       "Model:                            OLS   Adj. R-squared:                  0.877\n",
       "Method:                 Least Squares   F-statistic:                 1.931e+05\n",
       "Date:                Sun, 11 Apr 2021   Prob (F-statistic):               0.00\n",
       "Time:                        00:53:58   Log-Likelihood:            -2.2979e+05\n",
       "No. Observations:               26967   AIC:                         4.596e+05\n",
       "Df Residuals:                   26965   BIC:                         4.596e+05\n",
       "Df Model:                           1                                         \n",
       "Covariance Type:            nonrobust                                         \n",
       "==============================================================================\n",
       "                 coef    std err          t      P>|t|      [0.025      0.975]\n",
       "------------------------------------------------------------------------------\n",
       "const      -1841.7894     14.695   -125.336      0.000   -1870.592   -1812.987\n",
       "carat       7030.9392     15.999    439.463      0.000    6999.580    7062.298\n",
       "==============================================================================\n",
       "Omnibus:                     6285.528   Durbin-Watson:                   2.005\n",
       "Prob(Omnibus):                  0.000   Jarque-Bera (JB):            30335.382\n",
       "Skew:                           1.052   Prob(JB):                         0.00\n",
       "Kurtosis:                       7.751   Cond. No.                         3.72\n",
       "==============================================================================\n",
       "\n",
       "Warnings:\n",
       "[1] Standard Errors assume that the covariance matrix of the errors is correctly specified.\n",
       "\"\"\""
      ]
     },
     "execution_count": 48,
     "metadata": {},
     "output_type": "execute_result"
    }
   ],
   "source": [
    "#Build model and model summary\n",
    "model_SLR_carat = sm.OLS(Y,X1).fit()\n",
    "model_SLR_carat.summary()"
   ]
  },
  {
   "cell_type": "markdown",
   "metadata": {},
   "source": [
    "## Compare Rsq and correlation coef"
   ]
  },
  {
   "cell_type": "code",
   "execution_count": 49,
   "metadata": {},
   "outputs": [],
   "source": [
    "from scipy.stats import pearsonr"
   ]
  },
  {
   "cell_type": "code",
   "execution_count": 50,
   "metadata": {},
   "outputs": [
    {
     "data": {
      "text/plain": [
       "0.9367408567138602"
      ]
     },
     "execution_count": 50,
     "metadata": {},
     "output_type": "execute_result"
    }
   ],
   "source": [
    "#Correlation coefficient\n",
    "pearsonr(df['carat'],df['price'])[0]"
   ]
  },
  {
   "cell_type": "code",
   "execution_count": 51,
   "metadata": {},
   "outputs": [
    {
     "data": {
      "text/plain": [
       "0.8774834326370168"
      ]
     },
     "execution_count": 51,
     "metadata": {},
     "output_type": "execute_result"
    }
   ],
   "source": [
    "#Square of correlation coefficient\n",
    "np.square(pearsonr(df['carat'],df['price'])[0])"
   ]
  },
  {
   "cell_type": "code",
   "execution_count": 52,
   "metadata": {},
   "outputs": [
    {
     "data": {
      "text/plain": [
       "0.8774834326370169"
      ]
     },
     "execution_count": 52,
     "metadata": {},
     "output_type": "execute_result"
    }
   ],
   "source": [
    "#R squared from model\n",
    "model_SLR_carat.rsquared"
   ]
  },
  {
   "cell_type": "markdown",
   "metadata": {},
   "source": [
    "## Multiple Linear Regression"
   ]
  },
  {
   "cell_type": "markdown",
   "metadata": {},
   "source": [
    "* Build Model Summary\n",
    "* Overall Significance of the Model\n",
    "* R square and goodness of fit\n",
    "* Individual coef significance\n",
    "* Interpret coef beta"
   ]
  },
  {
   "cell_type": "code",
   "execution_count": 53,
   "metadata": {},
   "outputs": [],
   "source": [
    "#Split data into X and Y\n",
    "X = df.drop(['price'], axis=1)\n",
    "Y = df[['price']]"
   ]
  },
  {
   "cell_type": "code",
   "execution_count": 54,
   "metadata": {},
   "outputs": [
    {
     "data": {
      "text/plain": [
       "Index(['carat', 'depth', 'table', 'x', 'y', 'z', 'cut_Fair', 'cut_Good',\n",
       "       'cut_Ideal', 'cut_Premium', 'cut_Very Good', 'color_D', 'color_E',\n",
       "       'color_F', 'color_G', 'color_H', 'color_I', 'color_J', 'clarity_I1',\n",
       "       'clarity_IF', 'clarity_SI1', 'clarity_SI2', 'clarity_VS1',\n",
       "       'clarity_VS2', 'clarity_VVS1', 'clarity_VVS2'],\n",
       "      dtype='object')"
      ]
     },
     "execution_count": 54,
     "metadata": {},
     "output_type": "execute_result"
    }
   ],
   "source": [
    "#One hot encoding X\n",
    "X = pd.get_dummies(X)\n",
    "X.columns"
   ]
  },
  {
   "cell_type": "code",
   "execution_count": 55,
   "metadata": {},
   "outputs": [],
   "source": [
    "# Add an intercept to X for our model\n",
    "X  = sm.add_constant(X)"
   ]
  },
  {
   "cell_type": "code",
   "execution_count": 56,
   "metadata": {},
   "outputs": [],
   "source": [
    "#Build Model\n",
    "model_MLR = sm.OLS(Y, X).fit()"
   ]
  },
  {
   "cell_type": "code",
   "execution_count": 57,
   "metadata": {},
   "outputs": [
    {
     "data": {
      "text/html": [
       "<table class=\"simpletable\">\n",
       "<caption>OLS Regression Results</caption>\n",
       "<tr>\n",
       "  <th>Dep. Variable:</th>          <td>price</td>      <th>  R-squared:         </th>  <td>   0.941</td>  \n",
       "</tr>\n",
       "<tr>\n",
       "  <th>Model:</th>                   <td>OLS</td>       <th>  Adj. R-squared:    </th>  <td>   0.941</td>  \n",
       "</tr>\n",
       "<tr>\n",
       "  <th>Method:</th>             <td>Least Squares</td>  <th>  F-statistic:       </th>  <td>1.860e+04</td> \n",
       "</tr>\n",
       "<tr>\n",
       "  <th>Date:</th>             <td>Sun, 11 Apr 2021</td> <th>  Prob (F-statistic):</th>   <td>  0.00</td>   \n",
       "</tr>\n",
       "<tr>\n",
       "  <th>Time:</th>                 <td>00:56:38</td>     <th>  Log-Likelihood:    </th> <td>-2.2000e+05</td>\n",
       "</tr>\n",
       "<tr>\n",
       "  <th>No. Observations:</th>      <td> 26967</td>      <th>  AIC:               </th>  <td>4.401e+05</td> \n",
       "</tr>\n",
       "<tr>\n",
       "  <th>Df Residuals:</th>          <td> 26943</td>      <th>  BIC:               </th>  <td>4.402e+05</td> \n",
       "</tr>\n",
       "<tr>\n",
       "  <th>Df Model:</th>              <td>    23</td>      <th>                     </th>      <td> </td>     \n",
       "</tr>\n",
       "<tr>\n",
       "  <th>Covariance Type:</th>      <td>nonrobust</td>    <th>                     </th>      <td> </td>     \n",
       "</tr>\n",
       "</table>\n",
       "<table class=\"simpletable\">\n",
       "<tr>\n",
       "        <td></td>           <th>coef</th>     <th>std err</th>      <th>t</th>      <th>P>|t|</th>  <th>[0.025</th>    <th>0.975]</th>  \n",
       "</tr>\n",
       "<tr>\n",
       "  <th>const</th>         <td>  377.2766</td> <td>  371.354</td> <td>    1.016</td> <td> 0.310</td> <td> -350.597</td> <td> 1105.150</td>\n",
       "</tr>\n",
       "<tr>\n",
       "  <th>carat</th>         <td> 9083.0554</td> <td>   62.756</td> <td>  144.736</td> <td> 0.000</td> <td> 8960.051</td> <td> 9206.060</td>\n",
       "</tr>\n",
       "<tr>\n",
       "  <th>depth</th>         <td>  -11.9477</td> <td>    7.132</td> <td>   -1.675</td> <td> 0.094</td> <td>  -25.927</td> <td>    2.032</td>\n",
       "</tr>\n",
       "<tr>\n",
       "  <th>table</th>         <td>  -19.8292</td> <td>    3.206</td> <td>   -6.185</td> <td> 0.000</td> <td>  -26.114</td> <td>  -13.545</td>\n",
       "</tr>\n",
       "<tr>\n",
       "  <th>x</th>             <td>-1222.6822</td> <td>   96.235</td> <td>  -12.705</td> <td> 0.000</td> <td>-1411.308</td> <td>-1034.056</td>\n",
       "</tr>\n",
       "<tr>\n",
       "  <th>y</th>             <td>  910.7283</td> <td>   96.204</td> <td>    9.467</td> <td> 0.000</td> <td>  722.163</td> <td> 1099.294</td>\n",
       "</tr>\n",
       "<tr>\n",
       "  <th>z</th>             <td> -214.6259</td> <td>   76.049</td> <td>   -2.822</td> <td> 0.005</td> <td> -363.685</td> <td>  -65.567</td>\n",
       "</tr>\n",
       "<tr>\n",
       "  <th>cut_Fair</th>      <td> -371.8861</td> <td>   82.483</td> <td>   -4.509</td> <td> 0.000</td> <td> -533.558</td> <td> -210.214</td>\n",
       "</tr>\n",
       "<tr>\n",
       "  <th>cut_Good</th>      <td>   46.3092</td> <td>   79.171</td> <td>    0.585</td> <td> 0.559</td> <td> -108.871</td> <td>  201.489</td>\n",
       "</tr>\n",
       "<tr>\n",
       "  <th>cut_Ideal</th>     <td>  279.9350</td> <td>   70.492</td> <td>    3.971</td> <td> 0.000</td> <td>  141.766</td> <td>  418.104</td>\n",
       "</tr>\n",
       "<tr>\n",
       "  <th>cut_Premium</th>   <td>  253.2498</td> <td>   73.376</td> <td>    3.451</td> <td> 0.001</td> <td>  109.430</td> <td>  397.070</td>\n",
       "</tr>\n",
       "<tr>\n",
       "  <th>cut_Very Good</th> <td>  169.6685</td> <td>   74.561</td> <td>    2.276</td> <td> 0.023</td> <td>   23.526</td> <td>  315.811</td>\n",
       "</tr>\n",
       "<tr>\n",
       "  <th>color_D</th>       <td>  760.5513</td> <td>   54.684</td> <td>   13.908</td> <td> 0.000</td> <td>  653.367</td> <td>  867.735</td>\n",
       "</tr>\n",
       "<tr>\n",
       "  <th>color_E</th>       <td>  560.0972</td> <td>   54.155</td> <td>   10.342</td> <td> 0.000</td> <td>  453.951</td> <td>  666.244</td>\n",
       "</tr>\n",
       "<tr>\n",
       "  <th>color_F</th>       <td>  505.1340</td> <td>   54.234</td> <td>    9.314</td> <td> 0.000</td> <td>  398.833</td> <td>  611.435</td>\n",
       "</tr>\n",
       "<tr>\n",
       "  <th>color_G</th>       <td>  337.6416</td> <td>   54.324</td> <td>    6.215</td> <td> 0.000</td> <td>  231.165</td> <td>  444.119</td>\n",
       "</tr>\n",
       "<tr>\n",
       "  <th>color_H</th>       <td>  -88.7852</td> <td>   54.586</td> <td>   -1.627</td> <td> 0.104</td> <td> -195.776</td> <td>   18.205</td>\n",
       "</tr>\n",
       "<tr>\n",
       "  <th>color_I</th>       <td> -559.0392</td> <td>   55.299</td> <td>  -10.109</td> <td> 0.000</td> <td> -667.428</td> <td> -450.650</td>\n",
       "</tr>\n",
       "<tr>\n",
       "  <th>color_J</th>       <td>-1138.3232</td> <td>   56.831</td> <td>  -20.030</td> <td> 0.000</td> <td>-1249.716</td> <td>-1026.931</td>\n",
       "</tr>\n",
       "<tr>\n",
       "  <th>clarity_I1</th>    <td>-2835.4127</td> <td>   62.258</td> <td>  -45.543</td> <td> 0.000</td> <td>-2957.442</td> <td>-2713.383</td>\n",
       "</tr>\n",
       "<tr>\n",
       "  <th>clarity_IF</th>    <td> 1271.2510</td> <td>   52.143</td> <td>   24.380</td> <td> 0.000</td> <td> 1169.048</td> <td> 1373.454</td>\n",
       "</tr>\n",
       "<tr>\n",
       "  <th>clarity_SI1</th>   <td> -172.0993</td> <td>   48.782</td> <td>   -3.528</td> <td> 0.000</td> <td> -267.714</td> <td>  -76.485</td>\n",
       "</tr>\n",
       "<tr>\n",
       "  <th>clarity_SI2</th>   <td> -995.7202</td> <td>   49.026</td> <td>  -20.310</td> <td> 0.000</td> <td>-1091.813</td> <td> -899.627</td>\n",
       "</tr>\n",
       "<tr>\n",
       "  <th>clarity_VS1</th>   <td>  642.6909</td> <td>   48.328</td> <td>   13.298</td> <td> 0.000</td> <td>  547.965</td> <td>  737.417</td>\n",
       "</tr>\n",
       "<tr>\n",
       "  <th>clarity_VS2</th>   <td>  354.8233</td> <td>   48.250</td> <td>    7.354</td> <td> 0.000</td> <td>  260.250</td> <td>  449.396</td>\n",
       "</tr>\n",
       "<tr>\n",
       "  <th>clarity_VVS1</th>  <td> 1067.1504</td> <td>   49.469</td> <td>   21.572</td> <td> 0.000</td> <td>  970.190</td> <td> 1164.111</td>\n",
       "</tr>\n",
       "<tr>\n",
       "  <th>clarity_VVS2</th>  <td> 1044.5933</td> <td>   48.976</td> <td>   21.329</td> <td> 0.000</td> <td>  948.599</td> <td> 1140.588</td>\n",
       "</tr>\n",
       "</table>\n",
       "<table class=\"simpletable\">\n",
       "<tr>\n",
       "  <th>Omnibus:</th>       <td>6587.607</td> <th>  Durbin-Watson:     </th> <td>   2.007</td> \n",
       "</tr>\n",
       "<tr>\n",
       "  <th>Prob(Omnibus):</th>  <td> 0.000</td>  <th>  Jarque-Bera (JB):  </th> <td>24698.550</td>\n",
       "</tr>\n",
       "<tr>\n",
       "  <th>Skew:</th>           <td> 1.187</td>  <th>  Prob(JB):          </th> <td>    0.00</td> \n",
       "</tr>\n",
       "<tr>\n",
       "  <th>Kurtosis:</th>       <td> 7.043</td>  <th>  Cond. No.          </th> <td>1.05e+17</td> \n",
       "</tr>\n",
       "</table><br/><br/>Warnings:<br/>[1] Standard Errors assume that the covariance matrix of the errors is correctly specified.<br/>[2] The smallest eigenvalue is 1.77e-26. This might indicate that there are<br/>strong multicollinearity problems or that the design matrix is singular."
      ],
      "text/plain": [
       "<class 'statsmodels.iolib.summary.Summary'>\n",
       "\"\"\"\n",
       "                            OLS Regression Results                            \n",
       "==============================================================================\n",
       "Dep. Variable:                  price   R-squared:                       0.941\n",
       "Model:                            OLS   Adj. R-squared:                  0.941\n",
       "Method:                 Least Squares   F-statistic:                 1.860e+04\n",
       "Date:                Sun, 11 Apr 2021   Prob (F-statistic):               0.00\n",
       "Time:                        00:56:38   Log-Likelihood:            -2.2000e+05\n",
       "No. Observations:               26967   AIC:                         4.401e+05\n",
       "Df Residuals:                   26943   BIC:                         4.402e+05\n",
       "Df Model:                          23                                         \n",
       "Covariance Type:            nonrobust                                         \n",
       "=================================================================================\n",
       "                    coef    std err          t      P>|t|      [0.025      0.975]\n",
       "---------------------------------------------------------------------------------\n",
       "const           377.2766    371.354      1.016      0.310    -350.597    1105.150\n",
       "carat          9083.0554     62.756    144.736      0.000    8960.051    9206.060\n",
       "depth           -11.9477      7.132     -1.675      0.094     -25.927       2.032\n",
       "table           -19.8292      3.206     -6.185      0.000     -26.114     -13.545\n",
       "x             -1222.6822     96.235    -12.705      0.000   -1411.308   -1034.056\n",
       "y               910.7283     96.204      9.467      0.000     722.163    1099.294\n",
       "z              -214.6259     76.049     -2.822      0.005    -363.685     -65.567\n",
       "cut_Fair       -371.8861     82.483     -4.509      0.000    -533.558    -210.214\n",
       "cut_Good         46.3092     79.171      0.585      0.559    -108.871     201.489\n",
       "cut_Ideal       279.9350     70.492      3.971      0.000     141.766     418.104\n",
       "cut_Premium     253.2498     73.376      3.451      0.001     109.430     397.070\n",
       "cut_Very Good   169.6685     74.561      2.276      0.023      23.526     315.811\n",
       "color_D         760.5513     54.684     13.908      0.000     653.367     867.735\n",
       "color_E         560.0972     54.155     10.342      0.000     453.951     666.244\n",
       "color_F         505.1340     54.234      9.314      0.000     398.833     611.435\n",
       "color_G         337.6416     54.324      6.215      0.000     231.165     444.119\n",
       "color_H         -88.7852     54.586     -1.627      0.104    -195.776      18.205\n",
       "color_I        -559.0392     55.299    -10.109      0.000    -667.428    -450.650\n",
       "color_J       -1138.3232     56.831    -20.030      0.000   -1249.716   -1026.931\n",
       "clarity_I1    -2835.4127     62.258    -45.543      0.000   -2957.442   -2713.383\n",
       "clarity_IF     1271.2510     52.143     24.380      0.000    1169.048    1373.454\n",
       "clarity_SI1    -172.0993     48.782     -3.528      0.000    -267.714     -76.485\n",
       "clarity_SI2    -995.7202     49.026    -20.310      0.000   -1091.813    -899.627\n",
       "clarity_VS1     642.6909     48.328     13.298      0.000     547.965     737.417\n",
       "clarity_VS2     354.8233     48.250      7.354      0.000     260.250     449.396\n",
       "clarity_VVS1   1067.1504     49.469     21.572      0.000     970.190    1164.111\n",
       "clarity_VVS2   1044.5933     48.976     21.329      0.000     948.599    1140.588\n",
       "==============================================================================\n",
       "Omnibus:                     6587.607   Durbin-Watson:                   2.007\n",
       "Prob(Omnibus):                  0.000   Jarque-Bera (JB):            24698.550\n",
       "Skew:                           1.187   Prob(JB):                         0.00\n",
       "Kurtosis:                       7.043   Cond. No.                     1.05e+17\n",
       "==============================================================================\n",
       "\n",
       "Warnings:\n",
       "[1] Standard Errors assume that the covariance matrix of the errors is correctly specified.\n",
       "[2] The smallest eigenvalue is 1.77e-26. This might indicate that there are\n",
       "strong multicollinearity problems or that the design matrix is singular.\n",
       "\"\"\""
      ]
     },
     "execution_count": 57,
     "metadata": {},
     "output_type": "execute_result"
    }
   ],
   "source": [
    "model_MLR.summary()"
   ]
  },
  {
   "cell_type": "markdown",
   "metadata": {},
   "source": [
    "**Collect the regression coefficients and p-values of independent variables in a new dataframe. Find out which coefficients are significant and their impact on the Y variable.**"
   ]
  },
  {
   "cell_type": "code",
   "execution_count": 58,
   "metadata": {
    "scrolled": true
   },
   "outputs": [
    {
     "data": {
      "text/html": [
       "<div>\n",
       "<style scoped>\n",
       "    .dataframe tbody tr th:only-of-type {\n",
       "        vertical-align: middle;\n",
       "    }\n",
       "\n",
       "    .dataframe tbody tr th {\n",
       "        vertical-align: top;\n",
       "    }\n",
       "\n",
       "    .dataframe thead th {\n",
       "        text-align: right;\n",
       "    }\n",
       "</style>\n",
       "<table border=\"1\" class=\"dataframe\">\n",
       "  <thead>\n",
       "    <tr style=\"text-align: right;\">\n",
       "      <th></th>\n",
       "      <th>coef</th>\n",
       "    </tr>\n",
       "  </thead>\n",
       "  <tbody>\n",
       "    <tr>\n",
       "      <td>const</td>\n",
       "      <td>377.276567</td>\n",
       "    </tr>\n",
       "    <tr>\n",
       "      <td>carat</td>\n",
       "      <td>9083.055447</td>\n",
       "    </tr>\n",
       "    <tr>\n",
       "      <td>depth</td>\n",
       "      <td>-11.947662</td>\n",
       "    </tr>\n",
       "    <tr>\n",
       "      <td>table</td>\n",
       "      <td>-19.829162</td>\n",
       "    </tr>\n",
       "    <tr>\n",
       "      <td>x</td>\n",
       "      <td>-1222.682161</td>\n",
       "    </tr>\n",
       "    <tr>\n",
       "      <td>y</td>\n",
       "      <td>910.728294</td>\n",
       "    </tr>\n",
       "    <tr>\n",
       "      <td>z</td>\n",
       "      <td>-214.625905</td>\n",
       "    </tr>\n",
       "    <tr>\n",
       "      <td>cut_Fair</td>\n",
       "      <td>-371.886074</td>\n",
       "    </tr>\n",
       "    <tr>\n",
       "      <td>cut_Good</td>\n",
       "      <td>46.309245</td>\n",
       "    </tr>\n",
       "    <tr>\n",
       "      <td>cut_Ideal</td>\n",
       "      <td>279.935032</td>\n",
       "    </tr>\n",
       "    <tr>\n",
       "      <td>cut_Premium</td>\n",
       "      <td>253.249845</td>\n",
       "    </tr>\n",
       "    <tr>\n",
       "      <td>cut_Very Good</td>\n",
       "      <td>169.668519</td>\n",
       "    </tr>\n",
       "    <tr>\n",
       "      <td>color_D</td>\n",
       "      <td>760.551316</td>\n",
       "    </tr>\n",
       "    <tr>\n",
       "      <td>color_E</td>\n",
       "      <td>560.097237</td>\n",
       "    </tr>\n",
       "    <tr>\n",
       "      <td>color_F</td>\n",
       "      <td>505.133953</td>\n",
       "    </tr>\n",
       "    <tr>\n",
       "      <td>color_G</td>\n",
       "      <td>337.641583</td>\n",
       "    </tr>\n",
       "    <tr>\n",
       "      <td>color_H</td>\n",
       "      <td>-88.785176</td>\n",
       "    </tr>\n",
       "    <tr>\n",
       "      <td>color_I</td>\n",
       "      <td>-559.039181</td>\n",
       "    </tr>\n",
       "    <tr>\n",
       "      <td>color_J</td>\n",
       "      <td>-1138.323165</td>\n",
       "    </tr>\n",
       "    <tr>\n",
       "      <td>clarity_I1</td>\n",
       "      <td>-2835.412709</td>\n",
       "    </tr>\n",
       "    <tr>\n",
       "      <td>clarity_IF</td>\n",
       "      <td>1271.251009</td>\n",
       "    </tr>\n",
       "    <tr>\n",
       "      <td>clarity_SI1</td>\n",
       "      <td>-172.099348</td>\n",
       "    </tr>\n",
       "    <tr>\n",
       "      <td>clarity_SI2</td>\n",
       "      <td>-995.720233</td>\n",
       "    </tr>\n",
       "    <tr>\n",
       "      <td>clarity_VS1</td>\n",
       "      <td>642.690877</td>\n",
       "    </tr>\n",
       "    <tr>\n",
       "      <td>clarity_VS2</td>\n",
       "      <td>354.823299</td>\n",
       "    </tr>\n",
       "    <tr>\n",
       "      <td>clarity_VVS1</td>\n",
       "      <td>1067.150389</td>\n",
       "    </tr>\n",
       "    <tr>\n",
       "      <td>clarity_VVS2</td>\n",
       "      <td>1044.593283</td>\n",
       "    </tr>\n",
       "  </tbody>\n",
       "</table>\n",
       "</div>"
      ],
      "text/plain": [
       "                      coef\n",
       "const           377.276567\n",
       "carat          9083.055447\n",
       "depth           -11.947662\n",
       "table           -19.829162\n",
       "x             -1222.682161\n",
       "y               910.728294\n",
       "z              -214.625905\n",
       "cut_Fair       -371.886074\n",
       "cut_Good         46.309245\n",
       "cut_Ideal       279.935032\n",
       "cut_Premium     253.249845\n",
       "cut_Very Good   169.668519\n",
       "color_D         760.551316\n",
       "color_E         560.097237\n",
       "color_F         505.133953\n",
       "color_G         337.641583\n",
       "color_H         -88.785176\n",
       "color_I        -559.039181\n",
       "color_J       -1138.323165\n",
       "clarity_I1    -2835.412709\n",
       "clarity_IF     1271.251009\n",
       "clarity_SI1    -172.099348\n",
       "clarity_SI2    -995.720233\n",
       "clarity_VS1     642.690877\n",
       "clarity_VS2     354.823299\n",
       "clarity_VVS1   1067.150389\n",
       "clarity_VVS2   1044.593283"
      ]
     },
     "execution_count": 58,
     "metadata": {},
     "output_type": "execute_result"
    }
   ],
   "source": [
    "reg_coeff = pd.DataFrame(model_MLR.params, columns=['coef'])\n",
    "reg_coeff"
   ]
  },
  {
   "cell_type": "code",
   "execution_count": 59,
   "metadata": {
    "scrolled": true
   },
   "outputs": [
    {
     "data": {
      "text/html": [
       "<div>\n",
       "<style scoped>\n",
       "    .dataframe tbody tr th:only-of-type {\n",
       "        vertical-align: middle;\n",
       "    }\n",
       "\n",
       "    .dataframe tbody tr th {\n",
       "        vertical-align: top;\n",
       "    }\n",
       "\n",
       "    .dataframe thead th {\n",
       "        text-align: right;\n",
       "    }\n",
       "</style>\n",
       "<table border=\"1\" class=\"dataframe\">\n",
       "  <thead>\n",
       "    <tr style=\"text-align: right;\">\n",
       "      <th></th>\n",
       "      <th>coef</th>\n",
       "      <th>pval</th>\n",
       "    </tr>\n",
       "  </thead>\n",
       "  <tbody>\n",
       "    <tr>\n",
       "      <td>const</td>\n",
       "      <td>377.276567</td>\n",
       "      <td>0.310</td>\n",
       "    </tr>\n",
       "    <tr>\n",
       "      <td>carat</td>\n",
       "      <td>9083.055447</td>\n",
       "      <td>0.000</td>\n",
       "    </tr>\n",
       "    <tr>\n",
       "      <td>depth</td>\n",
       "      <td>-11.947662</td>\n",
       "      <td>0.094</td>\n",
       "    </tr>\n",
       "    <tr>\n",
       "      <td>table</td>\n",
       "      <td>-19.829162</td>\n",
       "      <td>0.000</td>\n",
       "    </tr>\n",
       "    <tr>\n",
       "      <td>x</td>\n",
       "      <td>-1222.682161</td>\n",
       "      <td>0.000</td>\n",
       "    </tr>\n",
       "    <tr>\n",
       "      <td>y</td>\n",
       "      <td>910.728294</td>\n",
       "      <td>0.000</td>\n",
       "    </tr>\n",
       "    <tr>\n",
       "      <td>z</td>\n",
       "      <td>-214.625905</td>\n",
       "      <td>0.005</td>\n",
       "    </tr>\n",
       "    <tr>\n",
       "      <td>cut_Fair</td>\n",
       "      <td>-371.886074</td>\n",
       "      <td>0.000</td>\n",
       "    </tr>\n",
       "    <tr>\n",
       "      <td>cut_Good</td>\n",
       "      <td>46.309245</td>\n",
       "      <td>0.559</td>\n",
       "    </tr>\n",
       "    <tr>\n",
       "      <td>cut_Ideal</td>\n",
       "      <td>279.935032</td>\n",
       "      <td>0.000</td>\n",
       "    </tr>\n",
       "    <tr>\n",
       "      <td>cut_Premium</td>\n",
       "      <td>253.249845</td>\n",
       "      <td>0.001</td>\n",
       "    </tr>\n",
       "    <tr>\n",
       "      <td>cut_Very Good</td>\n",
       "      <td>169.668519</td>\n",
       "      <td>0.023</td>\n",
       "    </tr>\n",
       "    <tr>\n",
       "      <td>color_D</td>\n",
       "      <td>760.551316</td>\n",
       "      <td>0.000</td>\n",
       "    </tr>\n",
       "    <tr>\n",
       "      <td>color_E</td>\n",
       "      <td>560.097237</td>\n",
       "      <td>0.000</td>\n",
       "    </tr>\n",
       "    <tr>\n",
       "      <td>color_F</td>\n",
       "      <td>505.133953</td>\n",
       "      <td>0.000</td>\n",
       "    </tr>\n",
       "    <tr>\n",
       "      <td>color_G</td>\n",
       "      <td>337.641583</td>\n",
       "      <td>0.000</td>\n",
       "    </tr>\n",
       "    <tr>\n",
       "      <td>color_H</td>\n",
       "      <td>-88.785176</td>\n",
       "      <td>0.104</td>\n",
       "    </tr>\n",
       "    <tr>\n",
       "      <td>color_I</td>\n",
       "      <td>-559.039181</td>\n",
       "      <td>0.000</td>\n",
       "    </tr>\n",
       "    <tr>\n",
       "      <td>color_J</td>\n",
       "      <td>-1138.323165</td>\n",
       "      <td>0.000</td>\n",
       "    </tr>\n",
       "    <tr>\n",
       "      <td>clarity_I1</td>\n",
       "      <td>-2835.412709</td>\n",
       "      <td>0.000</td>\n",
       "    </tr>\n",
       "    <tr>\n",
       "      <td>clarity_IF</td>\n",
       "      <td>1271.251009</td>\n",
       "      <td>0.000</td>\n",
       "    </tr>\n",
       "    <tr>\n",
       "      <td>clarity_SI1</td>\n",
       "      <td>-172.099348</td>\n",
       "      <td>0.000</td>\n",
       "    </tr>\n",
       "    <tr>\n",
       "      <td>clarity_SI2</td>\n",
       "      <td>-995.720233</td>\n",
       "      <td>0.000</td>\n",
       "    </tr>\n",
       "    <tr>\n",
       "      <td>clarity_VS1</td>\n",
       "      <td>642.690877</td>\n",
       "      <td>0.000</td>\n",
       "    </tr>\n",
       "    <tr>\n",
       "      <td>clarity_VS2</td>\n",
       "      <td>354.823299</td>\n",
       "      <td>0.000</td>\n",
       "    </tr>\n",
       "    <tr>\n",
       "      <td>clarity_VVS1</td>\n",
       "      <td>1067.150389</td>\n",
       "      <td>0.000</td>\n",
       "    </tr>\n",
       "    <tr>\n",
       "      <td>clarity_VVS2</td>\n",
       "      <td>1044.593283</td>\n",
       "      <td>0.000</td>\n",
       "    </tr>\n",
       "  </tbody>\n",
       "</table>\n",
       "</div>"
      ],
      "text/plain": [
       "                      coef   pval\n",
       "const           377.276567  0.310\n",
       "carat          9083.055447  0.000\n",
       "depth           -11.947662  0.094\n",
       "table           -19.829162  0.000\n",
       "x             -1222.682161  0.000\n",
       "y               910.728294  0.000\n",
       "z              -214.625905  0.005\n",
       "cut_Fair       -371.886074  0.000\n",
       "cut_Good         46.309245  0.559\n",
       "cut_Ideal       279.935032  0.000\n",
       "cut_Premium     253.249845  0.001\n",
       "cut_Very Good   169.668519  0.023\n",
       "color_D         760.551316  0.000\n",
       "color_E         560.097237  0.000\n",
       "color_F         505.133953  0.000\n",
       "color_G         337.641583  0.000\n",
       "color_H         -88.785176  0.104\n",
       "color_I        -559.039181  0.000\n",
       "color_J       -1138.323165  0.000\n",
       "clarity_I1    -2835.412709  0.000\n",
       "clarity_IF     1271.251009  0.000\n",
       "clarity_SI1    -172.099348  0.000\n",
       "clarity_SI2    -995.720233  0.000\n",
       "clarity_VS1     642.690877  0.000\n",
       "clarity_VS2     354.823299  0.000\n",
       "clarity_VVS1   1067.150389  0.000\n",
       "clarity_VVS2   1044.593283  0.000"
      ]
     },
     "execution_count": 59,
     "metadata": {},
     "output_type": "execute_result"
    }
   ],
   "source": [
    "reg_coeff['pval'] = model_MLR.pvalues.round(3)\n",
    "reg_coeff"
   ]
  },
  {
   "cell_type": "markdown",
   "metadata": {},
   "source": [
    "### Feature Selection - Remove education and population - pval not significant"
   ]
  },
  {
   "cell_type": "code",
   "execution_count": 60,
   "metadata": {},
   "outputs": [],
   "source": [
    "X.drop(['depth', 'cut_Good', 'cut_Very Good', 'color_H'], axis=1, inplace=True)"
   ]
  },
  {
   "cell_type": "code",
   "execution_count": 61,
   "metadata": {},
   "outputs": [],
   "source": [
    "# Add an intercept to X for our model\n",
    "X  = sm.add_constant(X)\n",
    "\n",
    "model_MLR_new = sm.OLS(Y, X).fit()"
   ]
  },
  {
   "cell_type": "code",
   "execution_count": 62,
   "metadata": {
    "scrolled": true
   },
   "outputs": [
    {
     "data": {
      "text/html": [
       "<table class=\"simpletable\">\n",
       "<caption>OLS Regression Results</caption>\n",
       "<tr>\n",
       "  <th>Dep. Variable:</th>          <td>price</td>      <th>  R-squared:         </th>  <td>   0.941</td>  \n",
       "</tr>\n",
       "<tr>\n",
       "  <th>Model:</th>                   <td>OLS</td>       <th>  Adj. R-squared:    </th>  <td>   0.941</td>  \n",
       "</tr>\n",
       "<tr>\n",
       "  <th>Method:</th>             <td>Least Squares</td>  <th>  F-statistic:       </th>  <td>2.033e+04</td> \n",
       "</tr>\n",
       "<tr>\n",
       "  <th>Date:</th>             <td>Sun, 11 Apr 2021</td> <th>  Prob (F-statistic):</th>   <td>  0.00</td>   \n",
       "</tr>\n",
       "<tr>\n",
       "  <th>Time:</th>                 <td>00:56:51</td>     <th>  Log-Likelihood:    </th> <td>-2.2002e+05</td>\n",
       "</tr>\n",
       "<tr>\n",
       "  <th>No. Observations:</th>      <td> 26967</td>      <th>  AIC:               </th>  <td>4.401e+05</td> \n",
       "</tr>\n",
       "<tr>\n",
       "  <th>Df Residuals:</th>          <td> 26945</td>      <th>  BIC:               </th>  <td>4.403e+05</td> \n",
       "</tr>\n",
       "<tr>\n",
       "  <th>Df Model:</th>              <td>    21</td>      <th>                     </th>      <td> </td>     \n",
       "</tr>\n",
       "<tr>\n",
       "  <th>Covariance Type:</th>      <td>nonrobust</td>    <th>                     </th>      <td> </td>     \n",
       "</tr>\n",
       "</table>\n",
       "<table class=\"simpletable\">\n",
       "<tr>\n",
       "        <td></td>          <th>coef</th>     <th>std err</th>      <th>t</th>      <th>P>|t|</th>  <th>[0.025</th>    <th>0.975]</th>  \n",
       "</tr>\n",
       "<tr>\n",
       "  <th>const</th>        <td> -214.8355</td> <td>  179.538</td> <td>   -1.197</td> <td> 0.231</td> <td> -566.738</td> <td>  137.067</td>\n",
       "</tr>\n",
       "<tr>\n",
       "  <th>carat</th>        <td> 9069.5460</td> <td>   62.044</td> <td>  146.178</td> <td> 0.000</td> <td> 8947.936</td> <td> 9191.156</td>\n",
       "</tr>\n",
       "<tr>\n",
       "  <th>table</th>        <td>  -20.7187</td> <td>    3.069</td> <td>   -6.752</td> <td> 0.000</td> <td>  -26.733</td> <td>  -14.704</td>\n",
       "</tr>\n",
       "<tr>\n",
       "  <th>x</th>            <td>-1224.5569</td> <td>   95.620</td> <td>  -12.807</td> <td> 0.000</td> <td>-1411.976</td> <td>-1037.138</td>\n",
       "</tr>\n",
       "<tr>\n",
       "  <th>y</th>            <td>  994.2538</td> <td>   92.557</td> <td>   10.742</td> <td> 0.000</td> <td>  812.836</td> <td> 1175.671</td>\n",
       "</tr>\n",
       "<tr>\n",
       "  <th>z</th>            <td> -337.3598</td> <td>   54.260</td> <td>   -6.217</td> <td> 0.000</td> <td> -443.713</td> <td> -231.007</td>\n",
       "</tr>\n",
       "<tr>\n",
       "  <th>cut_Fair</th>     <td> -500.5697</td> <td>   33.672</td> <td>  -14.866</td> <td> 0.000</td> <td> -566.568</td> <td> -434.572</td>\n",
       "</tr>\n",
       "<tr>\n",
       "  <th>cut_Ideal</th>    <td>  145.5430</td> <td>   14.334</td> <td>   10.154</td> <td> 0.000</td> <td>  117.448</td> <td>  173.638</td>\n",
       "</tr>\n",
       "<tr>\n",
       "  <th>cut_Premium</th>  <td>  125.4902</td> <td>   14.948</td> <td>    8.395</td> <td> 0.000</td> <td>   96.192</td> <td>  154.788</td>\n",
       "</tr>\n",
       "<tr>\n",
       "  <th>color_D</th>      <td>  849.5787</td> <td>   20.057</td> <td>   42.359</td> <td> 0.000</td> <td>  810.267</td> <td>  888.891</td>\n",
       "</tr>\n",
       "<tr>\n",
       "  <th>color_E</th>      <td>  649.3613</td> <td>   18.201</td> <td>   35.678</td> <td> 0.000</td> <td>  613.687</td> <td>  685.036</td>\n",
       "</tr>\n",
       "<tr>\n",
       "  <th>color_F</th>      <td>  593.5582</td> <td>   18.205</td> <td>   32.605</td> <td> 0.000</td> <td>  557.876</td> <td>  629.241</td>\n",
       "</tr>\n",
       "<tr>\n",
       "  <th>color_G</th>      <td>  426.5962</td> <td>   17.488</td> <td>   24.393</td> <td> 0.000</td> <td>  392.318</td> <td>  460.874</td>\n",
       "</tr>\n",
       "<tr>\n",
       "  <th>color_I</th>      <td> -470.2298</td> <td>   20.885</td> <td>  -22.515</td> <td> 0.000</td> <td> -511.165</td> <td> -429.294</td>\n",
       "</tr>\n",
       "<tr>\n",
       "  <th>color_J</th>      <td>-1050.4329</td> <td>   26.106</td> <td>  -40.237</td> <td> 0.000</td> <td>-1101.603</td> <td> -999.263</td>\n",
       "</tr>\n",
       "<tr>\n",
       "  <th>clarity_I1</th>   <td>-2917.2630</td> <td>   46.997</td> <td>  -62.073</td> <td> 0.000</td> <td>-3009.380</td> <td>-2825.147</td>\n",
       "</tr>\n",
       "<tr>\n",
       "  <th>clarity_IF</th>   <td> 1200.4841</td> <td>   33.725</td> <td>   35.596</td> <td> 0.000</td> <td> 1134.381</td> <td> 1266.587</td>\n",
       "</tr>\n",
       "<tr>\n",
       "  <th>clarity_SI1</th>  <td> -248.1941</td> <td>   25.928</td> <td>   -9.573</td> <td> 0.000</td> <td> -299.014</td> <td> -197.375</td>\n",
       "</tr>\n",
       "<tr>\n",
       "  <th>clarity_SI2</th>  <td>-1071.9767</td> <td>   27.025</td> <td>  -39.666</td> <td> 0.000</td> <td>-1124.947</td> <td>-1019.006</td>\n",
       "</tr>\n",
       "<tr>\n",
       "  <th>clarity_VS1</th>  <td>  569.5323</td> <td>   26.322</td> <td>   21.637</td> <td> 0.000</td> <td>  517.940</td> <td>  621.125</td>\n",
       "</tr>\n",
       "<tr>\n",
       "  <th>clarity_VS2</th>  <td>  280.9524</td> <td>   25.605</td> <td>   10.973</td> <td> 0.000</td> <td>  230.765</td> <td>  331.140</td>\n",
       "</tr>\n",
       "<tr>\n",
       "  <th>clarity_VVS1</th> <td>  996.7640</td> <td>   28.751</td> <td>   34.669</td> <td> 0.000</td> <td>  940.411</td> <td> 1053.117</td>\n",
       "</tr>\n",
       "<tr>\n",
       "  <th>clarity_VVS2</th> <td>  974.8656</td> <td>   27.500</td> <td>   35.450</td> <td> 0.000</td> <td>  920.964</td> <td> 1028.767</td>\n",
       "</tr>\n",
       "</table>\n",
       "<table class=\"simpletable\">\n",
       "<tr>\n",
       "  <th>Omnibus:</th>       <td>6556.430</td> <th>  Durbin-Watson:     </th> <td>   2.007</td> \n",
       "</tr>\n",
       "<tr>\n",
       "  <th>Prob(Omnibus):</th>  <td> 0.000</td>  <th>  Jarque-Bera (JB):  </th> <td>24572.237</td>\n",
       "</tr>\n",
       "<tr>\n",
       "  <th>Skew:</th>           <td> 1.181</td>  <th>  Prob(JB):          </th> <td>    0.00</td> \n",
       "</tr>\n",
       "<tr>\n",
       "  <th>Kurtosis:</th>       <td> 7.036</td>  <th>  Cond. No.          </th> <td>2.20e+17</td> \n",
       "</tr>\n",
       "</table><br/><br/>Warnings:<br/>[1] Standard Errors assume that the covariance matrix of the errors is correctly specified.<br/>[2] The smallest eigenvalue is 1.89e-27. This might indicate that there are<br/>strong multicollinearity problems or that the design matrix is singular."
      ],
      "text/plain": [
       "<class 'statsmodels.iolib.summary.Summary'>\n",
       "\"\"\"\n",
       "                            OLS Regression Results                            \n",
       "==============================================================================\n",
       "Dep. Variable:                  price   R-squared:                       0.941\n",
       "Model:                            OLS   Adj. R-squared:                  0.941\n",
       "Method:                 Least Squares   F-statistic:                 2.033e+04\n",
       "Date:                Sun, 11 Apr 2021   Prob (F-statistic):               0.00\n",
       "Time:                        00:56:51   Log-Likelihood:            -2.2002e+05\n",
       "No. Observations:               26967   AIC:                         4.401e+05\n",
       "Df Residuals:                   26945   BIC:                         4.403e+05\n",
       "Df Model:                          21                                         \n",
       "Covariance Type:            nonrobust                                         \n",
       "================================================================================\n",
       "                   coef    std err          t      P>|t|      [0.025      0.975]\n",
       "--------------------------------------------------------------------------------\n",
       "const         -214.8355    179.538     -1.197      0.231    -566.738     137.067\n",
       "carat         9069.5460     62.044    146.178      0.000    8947.936    9191.156\n",
       "table          -20.7187      3.069     -6.752      0.000     -26.733     -14.704\n",
       "x            -1224.5569     95.620    -12.807      0.000   -1411.976   -1037.138\n",
       "y              994.2538     92.557     10.742      0.000     812.836    1175.671\n",
       "z             -337.3598     54.260     -6.217      0.000    -443.713    -231.007\n",
       "cut_Fair      -500.5697     33.672    -14.866      0.000    -566.568    -434.572\n",
       "cut_Ideal      145.5430     14.334     10.154      0.000     117.448     173.638\n",
       "cut_Premium    125.4902     14.948      8.395      0.000      96.192     154.788\n",
       "color_D        849.5787     20.057     42.359      0.000     810.267     888.891\n",
       "color_E        649.3613     18.201     35.678      0.000     613.687     685.036\n",
       "color_F        593.5582     18.205     32.605      0.000     557.876     629.241\n",
       "color_G        426.5962     17.488     24.393      0.000     392.318     460.874\n",
       "color_I       -470.2298     20.885    -22.515      0.000    -511.165    -429.294\n",
       "color_J      -1050.4329     26.106    -40.237      0.000   -1101.603    -999.263\n",
       "clarity_I1   -2917.2630     46.997    -62.073      0.000   -3009.380   -2825.147\n",
       "clarity_IF    1200.4841     33.725     35.596      0.000    1134.381    1266.587\n",
       "clarity_SI1   -248.1941     25.928     -9.573      0.000    -299.014    -197.375\n",
       "clarity_SI2  -1071.9767     27.025    -39.666      0.000   -1124.947   -1019.006\n",
       "clarity_VS1    569.5323     26.322     21.637      0.000     517.940     621.125\n",
       "clarity_VS2    280.9524     25.605     10.973      0.000     230.765     331.140\n",
       "clarity_VVS1   996.7640     28.751     34.669      0.000     940.411    1053.117\n",
       "clarity_VVS2   974.8656     27.500     35.450      0.000     920.964    1028.767\n",
       "==============================================================================\n",
       "Omnibus:                     6556.430   Durbin-Watson:                   2.007\n",
       "Prob(Omnibus):                  0.000   Jarque-Bera (JB):            24572.237\n",
       "Skew:                           1.181   Prob(JB):                         0.00\n",
       "Kurtosis:                       7.036   Cond. No.                     2.20e+17\n",
       "==============================================================================\n",
       "\n",
       "Warnings:\n",
       "[1] Standard Errors assume that the covariance matrix of the errors is correctly specified.\n",
       "[2] The smallest eigenvalue is 1.89e-27. This might indicate that there are\n",
       "strong multicollinearity problems or that the design matrix is singular.\n",
       "\"\"\""
      ]
     },
     "execution_count": 62,
     "metadata": {},
     "output_type": "execute_result"
    }
   ],
   "source": [
    "model_MLR_new.summary()"
   ]
  },
  {
   "cell_type": "markdown",
   "metadata": {},
   "source": [
    "## Interpret Coef and significance"
   ]
  },
  {
   "cell_type": "code",
   "execution_count": 63,
   "metadata": {},
   "outputs": [
    {
     "data": {
      "text/html": [
       "<div>\n",
       "<style scoped>\n",
       "    .dataframe tbody tr th:only-of-type {\n",
       "        vertical-align: middle;\n",
       "    }\n",
       "\n",
       "    .dataframe tbody tr th {\n",
       "        vertical-align: top;\n",
       "    }\n",
       "\n",
       "    .dataframe thead th {\n",
       "        text-align: right;\n",
       "    }\n",
       "</style>\n",
       "<table border=\"1\" class=\"dataframe\">\n",
       "  <thead>\n",
       "    <tr style=\"text-align: right;\">\n",
       "      <th></th>\n",
       "      <th>coef</th>\n",
       "      <th>pval</th>\n",
       "    </tr>\n",
       "  </thead>\n",
       "  <tbody>\n",
       "    <tr>\n",
       "      <td>carat</td>\n",
       "      <td>9069.546020</td>\n",
       "      <td>0.000</td>\n",
       "    </tr>\n",
       "    <tr>\n",
       "      <td>clarity_IF</td>\n",
       "      <td>1200.484073</td>\n",
       "      <td>0.000</td>\n",
       "    </tr>\n",
       "    <tr>\n",
       "      <td>clarity_VVS1</td>\n",
       "      <td>996.764005</td>\n",
       "      <td>0.000</td>\n",
       "    </tr>\n",
       "    <tr>\n",
       "      <td>y</td>\n",
       "      <td>994.253759</td>\n",
       "      <td>0.000</td>\n",
       "    </tr>\n",
       "    <tr>\n",
       "      <td>clarity_VVS2</td>\n",
       "      <td>974.865601</td>\n",
       "      <td>0.000</td>\n",
       "    </tr>\n",
       "    <tr>\n",
       "      <td>color_D</td>\n",
       "      <td>849.578679</td>\n",
       "      <td>0.000</td>\n",
       "    </tr>\n",
       "    <tr>\n",
       "      <td>color_E</td>\n",
       "      <td>649.361294</td>\n",
       "      <td>0.000</td>\n",
       "    </tr>\n",
       "    <tr>\n",
       "      <td>color_F</td>\n",
       "      <td>593.558236</td>\n",
       "      <td>0.000</td>\n",
       "    </tr>\n",
       "    <tr>\n",
       "      <td>clarity_VS1</td>\n",
       "      <td>569.532289</td>\n",
       "      <td>0.000</td>\n",
       "    </tr>\n",
       "    <tr>\n",
       "      <td>color_G</td>\n",
       "      <td>426.596159</td>\n",
       "      <td>0.000</td>\n",
       "    </tr>\n",
       "    <tr>\n",
       "      <td>clarity_VS2</td>\n",
       "      <td>280.952408</td>\n",
       "      <td>0.000</td>\n",
       "    </tr>\n",
       "    <tr>\n",
       "      <td>cut_Ideal</td>\n",
       "      <td>145.543005</td>\n",
       "      <td>0.000</td>\n",
       "    </tr>\n",
       "    <tr>\n",
       "      <td>cut_Premium</td>\n",
       "      <td>125.490192</td>\n",
       "      <td>0.000</td>\n",
       "    </tr>\n",
       "    <tr>\n",
       "      <td>table</td>\n",
       "      <td>-20.718665</td>\n",
       "      <td>0.000</td>\n",
       "    </tr>\n",
       "    <tr>\n",
       "      <td>const</td>\n",
       "      <td>-214.835539</td>\n",
       "      <td>0.231</td>\n",
       "    </tr>\n",
       "    <tr>\n",
       "      <td>clarity_SI1</td>\n",
       "      <td>-248.194137</td>\n",
       "      <td>0.000</td>\n",
       "    </tr>\n",
       "    <tr>\n",
       "      <td>z</td>\n",
       "      <td>-337.359816</td>\n",
       "      <td>0.000</td>\n",
       "    </tr>\n",
       "    <tr>\n",
       "      <td>color_I</td>\n",
       "      <td>-470.229799</td>\n",
       "      <td>0.000</td>\n",
       "    </tr>\n",
       "    <tr>\n",
       "      <td>cut_Fair</td>\n",
       "      <td>-500.569718</td>\n",
       "      <td>0.000</td>\n",
       "    </tr>\n",
       "    <tr>\n",
       "      <td>color_J</td>\n",
       "      <td>-1050.432910</td>\n",
       "      <td>0.000</td>\n",
       "    </tr>\n",
       "    <tr>\n",
       "      <td>clarity_SI2</td>\n",
       "      <td>-1071.976738</td>\n",
       "      <td>0.000</td>\n",
       "    </tr>\n",
       "    <tr>\n",
       "      <td>x</td>\n",
       "      <td>-1224.556890</td>\n",
       "      <td>0.000</td>\n",
       "    </tr>\n",
       "    <tr>\n",
       "      <td>clarity_I1</td>\n",
       "      <td>-2917.263040</td>\n",
       "      <td>0.000</td>\n",
       "    </tr>\n",
       "  </tbody>\n",
       "</table>\n",
       "</div>"
      ],
      "text/plain": [
       "                     coef   pval\n",
       "carat         9069.546020  0.000\n",
       "clarity_IF    1200.484073  0.000\n",
       "clarity_VVS1   996.764005  0.000\n",
       "y              994.253759  0.000\n",
       "clarity_VVS2   974.865601  0.000\n",
       "color_D        849.578679  0.000\n",
       "color_E        649.361294  0.000\n",
       "color_F        593.558236  0.000\n",
       "clarity_VS1    569.532289  0.000\n",
       "color_G        426.596159  0.000\n",
       "clarity_VS2    280.952408  0.000\n",
       "cut_Ideal      145.543005  0.000\n",
       "cut_Premium    125.490192  0.000\n",
       "table          -20.718665  0.000\n",
       "const         -214.835539  0.231\n",
       "clarity_SI1   -248.194137  0.000\n",
       "z             -337.359816  0.000\n",
       "color_I       -470.229799  0.000\n",
       "cut_Fair      -500.569718  0.000\n",
       "color_J      -1050.432910  0.000\n",
       "clarity_SI2  -1071.976738  0.000\n",
       "x            -1224.556890  0.000\n",
       "clarity_I1   -2917.263040  0.000"
      ]
     },
     "execution_count": 63,
     "metadata": {},
     "output_type": "execute_result"
    }
   ],
   "source": [
    "reg_coeff = pd.DataFrame(model_MLR_new.params, columns=['coef'])\n",
    "reg_coeff['pval'] = model_MLR_new.pvalues.round(3)\n",
    "reg_coeff.sort_values(by='coef', ascending = False)"
   ]
  },
  {
   "cell_type": "markdown",
   "metadata": {},
   "source": [
    "## Feature Selection - Multicollinearity and VIF"
   ]
  },
  {
   "cell_type": "markdown",
   "metadata": {},
   "source": [
    "# The formula for VIF calculation is :\n",
    "# vif = $\\frac{1}{1 - {R^2}}$\n",
    "\n",
    "Below is the function that is created to calculate the Variance Inflation Factor (VIF) values.\n",
    "- 1st line code is about defining a function \"vif_cal\" which we shall use to call the function.\n",
    "- We then define the x or the predictor variables. \n",
    "- The second step is to get the data in each of the column variable\n",
    "- Then we define a 'for' loop where the y or the target variable is defined as one of the variables of the input data set.\n",
    "- The x or the predictor variables are then defined as all the variables of the input data except the y or the target variable defined in the last step.\n",
    "- We then fit a regression function and calculate the ${R^2}$ value which is being stored in the variable rsq.\n",
    "- Another variable by the name of vif is defined and the ${R^2}$ value is put into the formula of the vif calculation.\n",
    "- Lastly, we print this value.\n",
    "\n",
    "This process is being repeated for all the predictor variables.\n"
   ]
  },
  {
   "cell_type": "code",
   "execution_count": 64,
   "metadata": {},
   "outputs": [],
   "source": [
    "import statsmodels.formula.api as SM"
   ]
  },
  {
   "cell_type": "code",
   "execution_count": 65,
   "metadata": {},
   "outputs": [],
   "source": [
    "def vif_cal(input_data):\n",
    "    x_vars=input_data\n",
    "    xvar_names=input_data.columns\n",
    "    for i in range(0,xvar_names.shape[0]):\n",
    "        y=x_vars[xvar_names[i]] \n",
    "        x=x_vars[xvar_names.drop(xvar_names[i])]\n",
    "        rsq=SM.ols(formula=\"y~x\", data=x_vars).fit().rsquared  \n",
    "        vif=round(1/(1-rsq),2)\n",
    "        print (xvar_names[i], \" VIF = \" , vif)"
   ]
  },
  {
   "cell_type": "code",
   "execution_count": 66,
   "metadata": {},
   "outputs": [
    {
     "data": {
      "text/plain": [
       "Index(['carat', 'depth', 'table', 'x', 'y', 'z', 'cut_Fair', 'cut_Good',\n",
       "       'cut_Ideal', 'cut_Premium', 'cut_Very Good', 'color_D', 'color_E',\n",
       "       'color_F', 'color_G', 'color_H', 'color_I', 'color_J', 'clarity_I1',\n",
       "       'clarity_IF', 'clarity_SI1', 'clarity_SI2', 'clarity_VS1',\n",
       "       'clarity_VS2', 'clarity_VVS1', 'clarity_VVS2'],\n",
       "      dtype='object')"
      ]
     },
     "execution_count": 66,
     "metadata": {},
     "output_type": "execute_result"
    }
   ],
   "source": [
    "xvar = df.drop(['price'], axis=1)\n",
    "xvar = pd.get_dummies(xvar)\n",
    "xvar.columns"
   ]
  },
  {
   "cell_type": "code",
   "execution_count": 67,
   "metadata": {},
   "outputs": [
    {
     "name": "stdout",
     "output_type": "stream",
     "text": [
      "carat  VIF =  332.37\n",
      "depth  VIF =  332.37\n",
      "table  VIF =  332.37\n",
      "x  VIF =  332.37\n",
      "y  VIF =  332.37\n",
      "z  VIF =  332.37\n",
      "cut_Fair  VIF =  332.37\n",
      "cut_Good  VIF =  332.37\n",
      "cut_Ideal  VIF =  332.37\n",
      "cut_Premium  VIF =  332.37\n",
      "cut_Very Good  VIF =  332.37\n",
      "color_D  VIF =  332.37\n",
      "color_E  VIF =  332.37\n",
      "color_F  VIF =  332.37\n",
      "color_G  VIF =  332.37\n",
      "color_H  VIF =  332.37\n",
      "color_I  VIF =  332.37\n",
      "color_J  VIF =  332.37\n",
      "clarity_I1  VIF =  332.37\n",
      "clarity_IF  VIF =  332.37\n",
      "clarity_SI1  VIF =  332.37\n",
      "clarity_SI2  VIF =  332.37\n",
      "clarity_VS1  VIF =  332.37\n",
      "clarity_VS2  VIF =  332.37\n",
      "clarity_VVS1  VIF =  332.37\n",
      "clarity_VVS2  VIF =  332.37\n"
     ]
    }
   ],
   "source": [
    "vif_cal(xvar)"
   ]
  },
  {
   "cell_type": "markdown",
   "metadata": {},
   "source": [
    "3. Alternatively, if prediction accuracy of the price is the only objective, then you may want to divide the data into a training and a test set, chosen randomly, and use the training set to develop a model and test set to validate your model. Use the models developed in Part (2) to compare accuracy in training and test sets. Compare the final model of Part (2) and the proposed one in Part (3). Which model provides the most accurate prediction? If the model found in Part (2) is different from the proposed model in Part (3), give an explanation."
   ]
  },
  {
   "cell_type": "markdown",
   "metadata": {},
   "source": [
    "## Multiple Linear Regression - Model 2"
   ]
  },
  {
   "cell_type": "markdown",
   "metadata": {},
   "source": [
    "**drop some correlated variable to avoid multicolinearity**"
   ]
  },
  {
   "cell_type": "code",
   "execution_count": 68,
   "metadata": {},
   "outputs": [
    {
     "data": {
      "text/plain": [
       "Index(['carat', 'depth', 'table', 'cut_Fair', 'cut_Good', 'cut_Ideal',\n",
       "       'cut_Premium', 'cut_Very Good', 'color_D', 'color_E', 'color_F',\n",
       "       'color_G', 'color_H', 'color_I', 'color_J', 'clarity_I1', 'clarity_IF',\n",
       "       'clarity_SI1', 'clarity_SI2', 'clarity_VS1', 'clarity_VS2',\n",
       "       'clarity_VVS1', 'clarity_VVS2'],\n",
       "      dtype='object')"
      ]
     },
     "execution_count": 68,
     "metadata": {},
     "output_type": "execute_result"
    }
   ],
   "source": [
    "xvar.drop(['x','y','z'], axis=1, inplace=True)\n",
    "xvar.columns"
   ]
  },
  {
   "cell_type": "code",
   "execution_count": 69,
   "metadata": {},
   "outputs": [
    {
     "name": "stdout",
     "output_type": "stream",
     "text": [
      "carat  VIF =  1.33\n",
      "depth  VIF =  1.35\n",
      "table  VIF =  1.8\n",
      "cut_Fair  VIF =  inf\n",
      "cut_Good  VIF =  inf\n",
      "cut_Ideal  VIF =  inf\n",
      "cut_Premium  VIF =  inf\n",
      "cut_Very Good  VIF =  inf\n",
      "color_D  VIF =  inf\n",
      "color_E  VIF =  inf\n",
      "color_F  VIF =  inf\n",
      "color_G  VIF =  inf\n",
      "color_H  VIF =  inf\n",
      "color_I  VIF =  inf\n",
      "color_J  VIF =  inf\n",
      "clarity_I1  VIF =  inf\n",
      "clarity_IF  VIF =  inf\n",
      "clarity_SI1  VIF =  inf\n",
      "clarity_SI2  VIF =  inf\n",
      "clarity_VS1  VIF =  inf\n",
      "clarity_VS2  VIF =  inf\n",
      "clarity_VVS1  VIF =  inf\n",
      "clarity_VVS2  VIF =  inf\n"
     ]
    }
   ],
   "source": [
    "vif_cal(xvar)"
   ]
  },
  {
   "cell_type": "code",
   "execution_count": 70,
   "metadata": {},
   "outputs": [
    {
     "data": {
      "text/plain": [
       "Index(['carat', 'depth', 'table', 'cut_Fair', 'cut_Ideal', 'cut_Premium',\n",
       "       'cut_Very Good', 'color_D', 'color_E', 'color_F', 'color_G', 'color_I',\n",
       "       'color_J', 'clarity_I1', 'clarity_IF', 'clarity_SI1', 'clarity_SI2',\n",
       "       'clarity_VS1', 'clarity_VS2', 'clarity_VVS1'],\n",
       "      dtype='object')"
      ]
     },
     "execution_count": 70,
     "metadata": {},
     "output_type": "execute_result"
    }
   ],
   "source": [
    "xvar.drop(['color_H','cut_Good','clarity_VVS2'], axis=1, inplace=True)\n",
    "xvar.columns"
   ]
  },
  {
   "cell_type": "code",
   "execution_count": 71,
   "metadata": {},
   "outputs": [
    {
     "name": "stdout",
     "output_type": "stream",
     "text": [
      "carat  VIF =  1.33\n",
      "depth  VIF =  1.35\n",
      "table  VIF =  1.8\n",
      "cut_Fair  VIF =  1.32\n",
      "cut_Ideal  VIF =  4.31\n",
      "cut_Premium  VIF =  3.09\n",
      "cut_Very Good  VIF =  2.83\n",
      "color_D  VIF =  1.65\n",
      "color_E  VIF =  1.86\n",
      "color_F  VIF =  1.8\n",
      "color_G  VIF =  1.91\n",
      "color_I  VIF =  1.51\n",
      "color_J  VIF =  1.3\n",
      "clarity_I1  VIF =  1.19\n",
      "clarity_IF  VIF =  1.32\n",
      "clarity_SI1  VIF =  2.84\n",
      "clarity_SI2  VIF =  2.55\n",
      "clarity_VS1  VIF =  2.24\n",
      "clarity_VS2  VIF =  2.69\n",
      "clarity_VVS1  VIF =  1.62\n"
     ]
    }
   ],
   "source": [
    "vif_cal(xvar)"
   ]
  },
  {
   "cell_type": "code",
   "execution_count": 72,
   "metadata": {},
   "outputs": [
    {
     "data": {
      "text/plain": [
       "Index(['carat', 'depth', 'table', 'cut_Fair', 'cut_Premium', 'cut_Very Good',\n",
       "       'color_D', 'color_E', 'color_F', 'color_G', 'color_I', 'color_J',\n",
       "       'clarity_I1', 'clarity_IF', 'clarity_SI1', 'clarity_SI2', 'clarity_VS1',\n",
       "       'clarity_VS2', 'clarity_VVS1'],\n",
       "      dtype='object')"
      ]
     },
     "execution_count": 72,
     "metadata": {},
     "output_type": "execute_result"
    }
   ],
   "source": [
    "xvar.drop(['cut_Ideal'], axis=1, inplace=True)\n",
    "xvar.columns"
   ]
  },
  {
   "cell_type": "code",
   "execution_count": 73,
   "metadata": {},
   "outputs": [
    {
     "name": "stdout",
     "output_type": "stream",
     "text": [
      "carat  VIF =  1.33\n",
      "depth  VIF =  1.22\n",
      "table  VIF =  1.44\n",
      "cut_Fair  VIF =  1.18\n",
      "cut_Premium  VIF =  1.42\n",
      "cut_Very Good  VIF =  1.25\n",
      "color_D  VIF =  1.65\n",
      "color_E  VIF =  1.86\n",
      "color_F  VIF =  1.8\n",
      "color_G  VIF =  1.91\n",
      "color_I  VIF =  1.51\n",
      "color_J  VIF =  1.3\n",
      "clarity_I1  VIF =  1.18\n",
      "clarity_IF  VIF =  1.32\n",
      "clarity_SI1  VIF =  2.83\n",
      "clarity_SI2  VIF =  2.55\n",
      "clarity_VS1  VIF =  2.24\n",
      "clarity_VS2  VIF =  2.69\n",
      "clarity_VVS1  VIF =  1.62\n"
     ]
    }
   ],
   "source": [
    "vif_cal(xvar)"
   ]
  },
  {
   "cell_type": "code",
   "execution_count": 74,
   "metadata": {},
   "outputs": [],
   "source": [
    "#Split data into X and Y\n",
    "X1 = df.drop(['price', 'x', 'y', 'z'], axis=1)\n",
    "Y = df[['price']]"
   ]
  },
  {
   "cell_type": "code",
   "execution_count": 75,
   "metadata": {},
   "outputs": [
    {
     "data": {
      "text/plain": [
       "Index(['carat', 'depth', 'table', 'cut_Fair', 'cut_Good', 'cut_Ideal',\n",
       "       'cut_Premium', 'cut_Very Good', 'color_D', 'color_E', 'color_F',\n",
       "       'color_G', 'color_H', 'color_I', 'color_J', 'clarity_I1', 'clarity_IF',\n",
       "       'clarity_SI1', 'clarity_SI2', 'clarity_VS1', 'clarity_VS2',\n",
       "       'clarity_VVS1', 'clarity_VVS2'],\n",
       "      dtype='object')"
      ]
     },
     "execution_count": 75,
     "metadata": {},
     "output_type": "execute_result"
    }
   ],
   "source": [
    "#One hot encoding X\n",
    "X1 = pd.get_dummies(X1)\n",
    "X1.columns"
   ]
  },
  {
   "cell_type": "code",
   "execution_count": 76,
   "metadata": {},
   "outputs": [],
   "source": [
    "# Add an intercept to X for our model\n",
    "X1  = sm.add_constant(X1)"
   ]
  },
  {
   "cell_type": "code",
   "execution_count": 77,
   "metadata": {},
   "outputs": [],
   "source": [
    "#Build Model\n",
    "model_MLR1 = sm.OLS(Y, X1).fit()"
   ]
  },
  {
   "cell_type": "code",
   "execution_count": 78,
   "metadata": {},
   "outputs": [
    {
     "data": {
      "text/html": [
       "<table class=\"simpletable\">\n",
       "<caption>OLS Regression Results</caption>\n",
       "<tr>\n",
       "  <th>Dep. Variable:</th>          <td>price</td>      <th>  R-squared:         </th>  <td>   0.940</td>  \n",
       "</tr>\n",
       "<tr>\n",
       "  <th>Model:</th>                   <td>OLS</td>       <th>  Adj. R-squared:    </th>  <td>   0.940</td>  \n",
       "</tr>\n",
       "<tr>\n",
       "  <th>Method:</th>             <td>Least Squares</td>  <th>  F-statistic:       </th>  <td>2.105e+04</td> \n",
       "</tr>\n",
       "<tr>\n",
       "  <th>Date:</th>             <td>Sun, 11 Apr 2021</td> <th>  Prob (F-statistic):</th>   <td>  0.00</td>   \n",
       "</tr>\n",
       "<tr>\n",
       "  <th>Time:</th>                 <td>00:57:10</td>     <th>  Log-Likelihood:    </th> <td>-2.2021e+05</td>\n",
       "</tr>\n",
       "<tr>\n",
       "  <th>No. Observations:</th>      <td> 26967</td>      <th>  AIC:               </th>  <td>4.405e+05</td> \n",
       "</tr>\n",
       "<tr>\n",
       "  <th>Df Residuals:</th>          <td> 26946</td>      <th>  BIC:               </th>  <td>4.406e+05</td> \n",
       "</tr>\n",
       "<tr>\n",
       "  <th>Df Model:</th>              <td>    20</td>      <th>                     </th>      <td> </td>     \n",
       "</tr>\n",
       "<tr>\n",
       "  <th>Covariance Type:</th>      <td>nonrobust</td>    <th>                     </th>      <td> </td>     \n",
       "</tr>\n",
       "</table>\n",
       "<table class=\"simpletable\">\n",
       "<tr>\n",
       "        <td></td>           <th>coef</th>     <th>std err</th>      <th>t</th>      <th>P>|t|</th>  <th>[0.025</th>    <th>0.975]</th>  \n",
       "</tr>\n",
       "<tr>\n",
       "  <th>const</th>         <td> -904.1074</td> <td>  284.907</td> <td>   -3.173</td> <td> 0.002</td> <td>-1462.541</td> <td> -345.674</td>\n",
       "</tr>\n",
       "<tr>\n",
       "  <th>carat</th>         <td> 8019.3625</td> <td>   12.913</td> <td>  621.038</td> <td> 0.000</td> <td> 7994.053</td> <td> 8044.672</td>\n",
       "</tr>\n",
       "<tr>\n",
       "  <th>depth</th>         <td>   -8.8431</td> <td>    4.952</td> <td>   -1.786</td> <td> 0.074</td> <td>  -18.550</td> <td>    0.864</td>\n",
       "</tr>\n",
       "<tr>\n",
       "  <th>table</th>         <td>  -20.0232</td> <td>    3.225</td> <td>   -6.208</td> <td> 0.000</td> <td>  -26.345</td> <td>  -13.701</td>\n",
       "</tr>\n",
       "<tr>\n",
       "  <th>cut_Fair</th>      <td> -680.2589</td> <td>   68.967</td> <td>   -9.864</td> <td> 0.000</td> <td> -815.438</td> <td> -545.080</td>\n",
       "</tr>\n",
       "<tr>\n",
       "  <th>cut_Good</th>      <td> -188.7754</td> <td>   61.996</td> <td>   -3.045</td> <td> 0.002</td> <td> -310.291</td> <td>  -67.260</td>\n",
       "</tr>\n",
       "<tr>\n",
       "  <th>cut_Ideal</th>     <td>   36.6946</td> <td>   51.492</td> <td>    0.713</td> <td> 0.476</td> <td>  -64.232</td> <td>  137.621</td>\n",
       "</tr>\n",
       "<tr>\n",
       "  <th>cut_Premium</th>   <td>  -23.3428</td> <td>   56.011</td> <td>   -0.417</td> <td> 0.677</td> <td> -133.128</td> <td>   86.442</td>\n",
       "</tr>\n",
       "<tr>\n",
       "  <th>cut_Very Good</th> <td>  -48.4248</td> <td>   56.748</td> <td>   -0.853</td> <td> 0.393</td> <td> -159.654</td> <td>   62.805</td>\n",
       "</tr>\n",
       "<tr>\n",
       "  <th>color_D</th>       <td>  576.5925</td> <td>   42.788</td> <td>   13.475</td> <td> 0.000</td> <td>  492.725</td> <td>  660.460</td>\n",
       "</tr>\n",
       "<tr>\n",
       "  <th>color_E</th>       <td>  375.1174</td> <td>   42.206</td> <td>    8.888</td> <td> 0.000</td> <td>  292.391</td> <td>  457.844</td>\n",
       "</tr>\n",
       "<tr>\n",
       "  <th>color_F</th>       <td>  311.3485</td> <td>   42.005</td> <td>    7.412</td> <td> 0.000</td> <td>  229.016</td> <td>  393.681</td>\n",
       "</tr>\n",
       "<tr>\n",
       "  <th>color_G</th>       <td>  143.4208</td> <td>   42.140</td> <td>    3.403</td> <td> 0.001</td> <td>   60.824</td> <td>  226.018</td>\n",
       "</tr>\n",
       "<tr>\n",
       "  <th>color_H</th>       <td> -272.6554</td> <td>   42.685</td> <td>   -6.388</td> <td> 0.000</td> <td> -356.321</td> <td> -188.990</td>\n",
       "</tr>\n",
       "<tr>\n",
       "  <th>color_I</th>       <td> -731.4678</td> <td>   43.794</td> <td>  -16.703</td> <td> 0.000</td> <td> -817.306</td> <td> -645.630</td>\n",
       "</tr>\n",
       "<tr>\n",
       "  <th>color_J</th>       <td>-1306.4634</td> <td>   45.881</td> <td>  -28.475</td> <td> 0.000</td> <td>-1396.392</td> <td>-1216.535</td>\n",
       "</tr>\n",
       "<tr>\n",
       "  <th>clarity_I1</th>    <td>-3041.0899</td> <td>   54.807</td> <td>  -55.488</td> <td> 0.000</td> <td>-3148.514</td> <td>-2933.666</td>\n",
       "</tr>\n",
       "<tr>\n",
       "  <th>clarity_IF</th>    <td> 1155.1993</td> <td>   43.416</td> <td>   26.608</td> <td> 0.000</td> <td> 1070.102</td> <td> 1240.297</td>\n",
       "</tr>\n",
       "<tr>\n",
       "  <th>clarity_SI1</th>   <td> -355.3552</td> <td>   38.021</td> <td>   -9.346</td> <td> 0.000</td> <td> -429.879</td> <td> -280.832</td>\n",
       "</tr>\n",
       "<tr>\n",
       "  <th>clarity_SI2</th>   <td>-1181.4761</td> <td>   38.489</td> <td>  -30.696</td> <td> 0.000</td> <td>-1256.917</td> <td>-1106.035</td>\n",
       "</tr>\n",
       "<tr>\n",
       "  <th>clarity_VS1</th>   <td>  478.6279</td> <td>   37.948</td> <td>   12.613</td> <td> 0.000</td> <td>  404.247</td> <td>  553.008</td>\n",
       "</tr>\n",
       "<tr>\n",
       "  <th>clarity_VS2</th>   <td>  188.1455</td> <td>   37.763</td> <td>    4.982</td> <td> 0.000</td> <td>  114.128</td> <td>  262.163</td>\n",
       "</tr>\n",
       "<tr>\n",
       "  <th>clarity_VVS1</th>  <td>  946.3169</td> <td>   40.207</td> <td>   23.536</td> <td> 0.000</td> <td>  867.508</td> <td> 1025.125</td>\n",
       "</tr>\n",
       "<tr>\n",
       "  <th>clarity_VVS2</th>  <td>  905.5243</td> <td>   39.136</td> <td>   23.138</td> <td> 0.000</td> <td>  828.816</td> <td>  982.232</td>\n",
       "</tr>\n",
       "</table>\n",
       "<table class=\"simpletable\">\n",
       "<tr>\n",
       "  <th>Omnibus:</th>       <td>5945.280</td> <th>  Durbin-Watson:     </th> <td>   2.005</td> \n",
       "</tr>\n",
       "<tr>\n",
       "  <th>Prob(Omnibus):</th>  <td> 0.000</td>  <th>  Jarque-Bera (JB):  </th> <td>18609.003</td>\n",
       "</tr>\n",
       "<tr>\n",
       "  <th>Skew:</th>           <td> 1.129</td>  <th>  Prob(JB):          </th> <td>    0.00</td> \n",
       "</tr>\n",
       "<tr>\n",
       "  <th>Kurtosis:</th>       <td> 6.386</td>  <th>  Cond. No.          </th> <td>1.31e+18</td> \n",
       "</tr>\n",
       "</table><br/><br/>Warnings:<br/>[1] Standard Errors assume that the covariance matrix of the errors is correctly specified.<br/>[2] The smallest eigenvalue is 1.12e-28. This might indicate that there are<br/>strong multicollinearity problems or that the design matrix is singular."
      ],
      "text/plain": [
       "<class 'statsmodels.iolib.summary.Summary'>\n",
       "\"\"\"\n",
       "                            OLS Regression Results                            \n",
       "==============================================================================\n",
       "Dep. Variable:                  price   R-squared:                       0.940\n",
       "Model:                            OLS   Adj. R-squared:                  0.940\n",
       "Method:                 Least Squares   F-statistic:                 2.105e+04\n",
       "Date:                Sun, 11 Apr 2021   Prob (F-statistic):               0.00\n",
       "Time:                        00:57:10   Log-Likelihood:            -2.2021e+05\n",
       "No. Observations:               26967   AIC:                         4.405e+05\n",
       "Df Residuals:                   26946   BIC:                         4.406e+05\n",
       "Df Model:                          20                                         \n",
       "Covariance Type:            nonrobust                                         \n",
       "=================================================================================\n",
       "                    coef    std err          t      P>|t|      [0.025      0.975]\n",
       "---------------------------------------------------------------------------------\n",
       "const          -904.1074    284.907     -3.173      0.002   -1462.541    -345.674\n",
       "carat          8019.3625     12.913    621.038      0.000    7994.053    8044.672\n",
       "depth            -8.8431      4.952     -1.786      0.074     -18.550       0.864\n",
       "table           -20.0232      3.225     -6.208      0.000     -26.345     -13.701\n",
       "cut_Fair       -680.2589     68.967     -9.864      0.000    -815.438    -545.080\n",
       "cut_Good       -188.7754     61.996     -3.045      0.002    -310.291     -67.260\n",
       "cut_Ideal        36.6946     51.492      0.713      0.476     -64.232     137.621\n",
       "cut_Premium     -23.3428     56.011     -0.417      0.677    -133.128      86.442\n",
       "cut_Very Good   -48.4248     56.748     -0.853      0.393    -159.654      62.805\n",
       "color_D         576.5925     42.788     13.475      0.000     492.725     660.460\n",
       "color_E         375.1174     42.206      8.888      0.000     292.391     457.844\n",
       "color_F         311.3485     42.005      7.412      0.000     229.016     393.681\n",
       "color_G         143.4208     42.140      3.403      0.001      60.824     226.018\n",
       "color_H        -272.6554     42.685     -6.388      0.000    -356.321    -188.990\n",
       "color_I        -731.4678     43.794    -16.703      0.000    -817.306    -645.630\n",
       "color_J       -1306.4634     45.881    -28.475      0.000   -1396.392   -1216.535\n",
       "clarity_I1    -3041.0899     54.807    -55.488      0.000   -3148.514   -2933.666\n",
       "clarity_IF     1155.1993     43.416     26.608      0.000    1070.102    1240.297\n",
       "clarity_SI1    -355.3552     38.021     -9.346      0.000    -429.879    -280.832\n",
       "clarity_SI2   -1181.4761     38.489    -30.696      0.000   -1256.917   -1106.035\n",
       "clarity_VS1     478.6279     37.948     12.613      0.000     404.247     553.008\n",
       "clarity_VS2     188.1455     37.763      4.982      0.000     114.128     262.163\n",
       "clarity_VVS1    946.3169     40.207     23.536      0.000     867.508    1025.125\n",
       "clarity_VVS2    905.5243     39.136     23.138      0.000     828.816     982.232\n",
       "==============================================================================\n",
       "Omnibus:                     5945.280   Durbin-Watson:                   2.005\n",
       "Prob(Omnibus):                  0.000   Jarque-Bera (JB):            18609.003\n",
       "Skew:                           1.129   Prob(JB):                         0.00\n",
       "Kurtosis:                       6.386   Cond. No.                     1.31e+18\n",
       "==============================================================================\n",
       "\n",
       "Warnings:\n",
       "[1] Standard Errors assume that the covariance matrix of the errors is correctly specified.\n",
       "[2] The smallest eigenvalue is 1.12e-28. This might indicate that there are\n",
       "strong multicollinearity problems or that the design matrix is singular.\n",
       "\"\"\""
      ]
     },
     "execution_count": 78,
     "metadata": {},
     "output_type": "execute_result"
    }
   ],
   "source": [
    "model_MLR1.summary()"
   ]
  },
  {
   "cell_type": "markdown",
   "metadata": {},
   "source": [
    "**Collect the regression coefficients and p-values of independent variables in a new dataframe. Find out which coefficients are significant and their impact on the Y variable.**"
   ]
  },
  {
   "cell_type": "code",
   "execution_count": 79,
   "metadata": {},
   "outputs": [
    {
     "data": {
      "text/html": [
       "<div>\n",
       "<style scoped>\n",
       "    .dataframe tbody tr th:only-of-type {\n",
       "        vertical-align: middle;\n",
       "    }\n",
       "\n",
       "    .dataframe tbody tr th {\n",
       "        vertical-align: top;\n",
       "    }\n",
       "\n",
       "    .dataframe thead th {\n",
       "        text-align: right;\n",
       "    }\n",
       "</style>\n",
       "<table border=\"1\" class=\"dataframe\">\n",
       "  <thead>\n",
       "    <tr style=\"text-align: right;\">\n",
       "      <th></th>\n",
       "      <th>coef</th>\n",
       "    </tr>\n",
       "  </thead>\n",
       "  <tbody>\n",
       "    <tr>\n",
       "      <td>const</td>\n",
       "      <td>-904.107353</td>\n",
       "    </tr>\n",
       "    <tr>\n",
       "      <td>carat</td>\n",
       "      <td>8019.362461</td>\n",
       "    </tr>\n",
       "    <tr>\n",
       "      <td>depth</td>\n",
       "      <td>-8.843122</td>\n",
       "    </tr>\n",
       "    <tr>\n",
       "      <td>table</td>\n",
       "      <td>-20.023164</td>\n",
       "    </tr>\n",
       "    <tr>\n",
       "      <td>cut_Fair</td>\n",
       "      <td>-680.258911</td>\n",
       "    </tr>\n",
       "    <tr>\n",
       "      <td>cut_Good</td>\n",
       "      <td>-188.775375</td>\n",
       "    </tr>\n",
       "    <tr>\n",
       "      <td>cut_Ideal</td>\n",
       "      <td>36.694568</td>\n",
       "    </tr>\n",
       "    <tr>\n",
       "      <td>cut_Premium</td>\n",
       "      <td>-23.342823</td>\n",
       "    </tr>\n",
       "    <tr>\n",
       "      <td>cut_Very Good</td>\n",
       "      <td>-48.424812</td>\n",
       "    </tr>\n",
       "    <tr>\n",
       "      <td>color_D</td>\n",
       "      <td>576.592460</td>\n",
       "    </tr>\n",
       "    <tr>\n",
       "      <td>color_E</td>\n",
       "      <td>375.117419</td>\n",
       "    </tr>\n",
       "    <tr>\n",
       "      <td>color_F</td>\n",
       "      <td>311.348542</td>\n",
       "    </tr>\n",
       "    <tr>\n",
       "      <td>color_G</td>\n",
       "      <td>143.420760</td>\n",
       "    </tr>\n",
       "    <tr>\n",
       "      <td>color_H</td>\n",
       "      <td>-272.655382</td>\n",
       "    </tr>\n",
       "    <tr>\n",
       "      <td>color_I</td>\n",
       "      <td>-731.467767</td>\n",
       "    </tr>\n",
       "    <tr>\n",
       "      <td>color_J</td>\n",
       "      <td>-1306.463384</td>\n",
       "    </tr>\n",
       "    <tr>\n",
       "      <td>clarity_I1</td>\n",
       "      <td>-3041.089864</td>\n",
       "    </tr>\n",
       "    <tr>\n",
       "      <td>clarity_IF</td>\n",
       "      <td>1155.199309</td>\n",
       "    </tr>\n",
       "    <tr>\n",
       "      <td>clarity_SI1</td>\n",
       "      <td>-355.355212</td>\n",
       "    </tr>\n",
       "    <tr>\n",
       "      <td>clarity_SI2</td>\n",
       "      <td>-1181.476097</td>\n",
       "    </tr>\n",
       "    <tr>\n",
       "      <td>clarity_VS1</td>\n",
       "      <td>478.627861</td>\n",
       "    </tr>\n",
       "    <tr>\n",
       "      <td>clarity_VS2</td>\n",
       "      <td>188.145464</td>\n",
       "    </tr>\n",
       "    <tr>\n",
       "      <td>clarity_VVS1</td>\n",
       "      <td>946.316926</td>\n",
       "    </tr>\n",
       "    <tr>\n",
       "      <td>clarity_VVS2</td>\n",
       "      <td>905.524260</td>\n",
       "    </tr>\n",
       "  </tbody>\n",
       "</table>\n",
       "</div>"
      ],
      "text/plain": [
       "                      coef\n",
       "const          -904.107353\n",
       "carat          8019.362461\n",
       "depth            -8.843122\n",
       "table           -20.023164\n",
       "cut_Fair       -680.258911\n",
       "cut_Good       -188.775375\n",
       "cut_Ideal        36.694568\n",
       "cut_Premium     -23.342823\n",
       "cut_Very Good   -48.424812\n",
       "color_D         576.592460\n",
       "color_E         375.117419\n",
       "color_F         311.348542\n",
       "color_G         143.420760\n",
       "color_H        -272.655382\n",
       "color_I        -731.467767\n",
       "color_J       -1306.463384\n",
       "clarity_I1    -3041.089864\n",
       "clarity_IF     1155.199309\n",
       "clarity_SI1    -355.355212\n",
       "clarity_SI2   -1181.476097\n",
       "clarity_VS1     478.627861\n",
       "clarity_VS2     188.145464\n",
       "clarity_VVS1    946.316926\n",
       "clarity_VVS2    905.524260"
      ]
     },
     "execution_count": 79,
     "metadata": {},
     "output_type": "execute_result"
    }
   ],
   "source": [
    "reg_coeff = pd.DataFrame(model_MLR1.params, columns=['coef'])\n",
    "reg_coeff"
   ]
  },
  {
   "cell_type": "code",
   "execution_count": 80,
   "metadata": {},
   "outputs": [
    {
     "data": {
      "text/html": [
       "<div>\n",
       "<style scoped>\n",
       "    .dataframe tbody tr th:only-of-type {\n",
       "        vertical-align: middle;\n",
       "    }\n",
       "\n",
       "    .dataframe tbody tr th {\n",
       "        vertical-align: top;\n",
       "    }\n",
       "\n",
       "    .dataframe thead th {\n",
       "        text-align: right;\n",
       "    }\n",
       "</style>\n",
       "<table border=\"1\" class=\"dataframe\">\n",
       "  <thead>\n",
       "    <tr style=\"text-align: right;\">\n",
       "      <th></th>\n",
       "      <th>coef</th>\n",
       "      <th>pval</th>\n",
       "    </tr>\n",
       "  </thead>\n",
       "  <tbody>\n",
       "    <tr>\n",
       "      <td>const</td>\n",
       "      <td>-904.107353</td>\n",
       "      <td>0.002</td>\n",
       "    </tr>\n",
       "    <tr>\n",
       "      <td>carat</td>\n",
       "      <td>8019.362461</td>\n",
       "      <td>0.000</td>\n",
       "    </tr>\n",
       "    <tr>\n",
       "      <td>depth</td>\n",
       "      <td>-8.843122</td>\n",
       "      <td>0.074</td>\n",
       "    </tr>\n",
       "    <tr>\n",
       "      <td>table</td>\n",
       "      <td>-20.023164</td>\n",
       "      <td>0.000</td>\n",
       "    </tr>\n",
       "    <tr>\n",
       "      <td>cut_Fair</td>\n",
       "      <td>-680.258911</td>\n",
       "      <td>0.000</td>\n",
       "    </tr>\n",
       "    <tr>\n",
       "      <td>cut_Good</td>\n",
       "      <td>-188.775375</td>\n",
       "      <td>0.002</td>\n",
       "    </tr>\n",
       "    <tr>\n",
       "      <td>cut_Ideal</td>\n",
       "      <td>36.694568</td>\n",
       "      <td>0.476</td>\n",
       "    </tr>\n",
       "    <tr>\n",
       "      <td>cut_Premium</td>\n",
       "      <td>-23.342823</td>\n",
       "      <td>0.677</td>\n",
       "    </tr>\n",
       "    <tr>\n",
       "      <td>cut_Very Good</td>\n",
       "      <td>-48.424812</td>\n",
       "      <td>0.393</td>\n",
       "    </tr>\n",
       "    <tr>\n",
       "      <td>color_D</td>\n",
       "      <td>576.592460</td>\n",
       "      <td>0.000</td>\n",
       "    </tr>\n",
       "    <tr>\n",
       "      <td>color_E</td>\n",
       "      <td>375.117419</td>\n",
       "      <td>0.000</td>\n",
       "    </tr>\n",
       "    <tr>\n",
       "      <td>color_F</td>\n",
       "      <td>311.348542</td>\n",
       "      <td>0.000</td>\n",
       "    </tr>\n",
       "    <tr>\n",
       "      <td>color_G</td>\n",
       "      <td>143.420760</td>\n",
       "      <td>0.001</td>\n",
       "    </tr>\n",
       "    <tr>\n",
       "      <td>color_H</td>\n",
       "      <td>-272.655382</td>\n",
       "      <td>0.000</td>\n",
       "    </tr>\n",
       "    <tr>\n",
       "      <td>color_I</td>\n",
       "      <td>-731.467767</td>\n",
       "      <td>0.000</td>\n",
       "    </tr>\n",
       "    <tr>\n",
       "      <td>color_J</td>\n",
       "      <td>-1306.463384</td>\n",
       "      <td>0.000</td>\n",
       "    </tr>\n",
       "    <tr>\n",
       "      <td>clarity_I1</td>\n",
       "      <td>-3041.089864</td>\n",
       "      <td>0.000</td>\n",
       "    </tr>\n",
       "    <tr>\n",
       "      <td>clarity_IF</td>\n",
       "      <td>1155.199309</td>\n",
       "      <td>0.000</td>\n",
       "    </tr>\n",
       "    <tr>\n",
       "      <td>clarity_SI1</td>\n",
       "      <td>-355.355212</td>\n",
       "      <td>0.000</td>\n",
       "    </tr>\n",
       "    <tr>\n",
       "      <td>clarity_SI2</td>\n",
       "      <td>-1181.476097</td>\n",
       "      <td>0.000</td>\n",
       "    </tr>\n",
       "    <tr>\n",
       "      <td>clarity_VS1</td>\n",
       "      <td>478.627861</td>\n",
       "      <td>0.000</td>\n",
       "    </tr>\n",
       "    <tr>\n",
       "      <td>clarity_VS2</td>\n",
       "      <td>188.145464</td>\n",
       "      <td>0.000</td>\n",
       "    </tr>\n",
       "    <tr>\n",
       "      <td>clarity_VVS1</td>\n",
       "      <td>946.316926</td>\n",
       "      <td>0.000</td>\n",
       "    </tr>\n",
       "    <tr>\n",
       "      <td>clarity_VVS2</td>\n",
       "      <td>905.524260</td>\n",
       "      <td>0.000</td>\n",
       "    </tr>\n",
       "  </tbody>\n",
       "</table>\n",
       "</div>"
      ],
      "text/plain": [
       "                      coef   pval\n",
       "const          -904.107353  0.002\n",
       "carat          8019.362461  0.000\n",
       "depth            -8.843122  0.074\n",
       "table           -20.023164  0.000\n",
       "cut_Fair       -680.258911  0.000\n",
       "cut_Good       -188.775375  0.002\n",
       "cut_Ideal        36.694568  0.476\n",
       "cut_Premium     -23.342823  0.677\n",
       "cut_Very Good   -48.424812  0.393\n",
       "color_D         576.592460  0.000\n",
       "color_E         375.117419  0.000\n",
       "color_F         311.348542  0.000\n",
       "color_G         143.420760  0.001\n",
       "color_H        -272.655382  0.000\n",
       "color_I        -731.467767  0.000\n",
       "color_J       -1306.463384  0.000\n",
       "clarity_I1    -3041.089864  0.000\n",
       "clarity_IF     1155.199309  0.000\n",
       "clarity_SI1    -355.355212  0.000\n",
       "clarity_SI2   -1181.476097  0.000\n",
       "clarity_VS1     478.627861  0.000\n",
       "clarity_VS2     188.145464  0.000\n",
       "clarity_VVS1    946.316926  0.000\n",
       "clarity_VVS2    905.524260  0.000"
      ]
     },
     "execution_count": 80,
     "metadata": {},
     "output_type": "execute_result"
    }
   ],
   "source": [
    "reg_coeff['pval'] = model_MLR1.pvalues.round(3)\n",
    "reg_coeff"
   ]
  },
  {
   "cell_type": "markdown",
   "metadata": {},
   "source": [
    "### Feature Selection - Remove Depth, Cut Premium, Cut very good - pval not significant"
   ]
  },
  {
   "cell_type": "code",
   "execution_count": 81,
   "metadata": {},
   "outputs": [],
   "source": [
    "X1.drop(['depth', 'cut_Premium', 'cut_Very Good'], axis=1, inplace=True)"
   ]
  },
  {
   "cell_type": "code",
   "execution_count": 82,
   "metadata": {},
   "outputs": [],
   "source": [
    "# Add an intercept to X for our model\n",
    "X1  = sm.add_constant(X1)\n",
    "\n",
    "model_MLR1_new = sm.OLS(Y, X1).fit()"
   ]
  },
  {
   "cell_type": "code",
   "execution_count": 83,
   "metadata": {},
   "outputs": [
    {
     "data": {
      "text/html": [
       "<table class=\"simpletable\">\n",
       "<caption>OLS Regression Results</caption>\n",
       "<tr>\n",
       "  <th>Dep. Variable:</th>          <td>price</td>      <th>  R-squared:         </th>  <td>   0.940</td>  \n",
       "</tr>\n",
       "<tr>\n",
       "  <th>Model:</th>                   <td>OLS</td>       <th>  Adj. R-squared:    </th>  <td>   0.940</td>  \n",
       "</tr>\n",
       "<tr>\n",
       "  <th>Method:</th>             <td>Least Squares</td>  <th>  F-statistic:       </th>  <td>2.338e+04</td> \n",
       "</tr>\n",
       "<tr>\n",
       "  <th>Date:</th>             <td>Sun, 11 Apr 2021</td> <th>  Prob (F-statistic):</th>   <td>  0.00</td>   \n",
       "</tr>\n",
       "<tr>\n",
       "  <th>Time:</th>                 <td>00:57:16</td>     <th>  Log-Likelihood:    </th> <td>-2.2021e+05</td>\n",
       "</tr>\n",
       "<tr>\n",
       "  <th>No. Observations:</th>      <td> 26967</td>      <th>  AIC:               </th>  <td>4.405e+05</td> \n",
       "</tr>\n",
       "<tr>\n",
       "  <th>Df Residuals:</th>          <td> 26948</td>      <th>  BIC:               </th>  <td>4.406e+05</td> \n",
       "</tr>\n",
       "<tr>\n",
       "  <th>Df Model:</th>              <td>    18</td>      <th>                     </th>      <td> </td>     \n",
       "</tr>\n",
       "<tr>\n",
       "  <th>Covariance Type:</th>      <td>nonrobust</td>    <th>                     </th>      <td> </td>     \n",
       "</tr>\n",
       "</table>\n",
       "<table class=\"simpletable\">\n",
       "<tr>\n",
       "        <td></td>          <th>coef</th>     <th>std err</th>      <th>t</th>      <th>P>|t|</th>  <th>[0.025</th>    <th>0.975]</th>  \n",
       "</tr>\n",
       "<tr>\n",
       "  <th>const</th>        <td>-1501.7866</td> <td>  134.564</td> <td>  -11.160</td> <td> 0.000</td> <td>-1765.539</td> <td>-1238.035</td>\n",
       "</tr>\n",
       "<tr>\n",
       "  <th>carat</th>        <td> 8019.1491</td> <td>   12.906</td> <td>  621.352</td> <td> 0.000</td> <td> 7993.853</td> <td> 8044.445</td>\n",
       "</tr>\n",
       "<tr>\n",
       "  <th>table</th>        <td>  -16.9625</td> <td>    2.931</td> <td>   -5.787</td> <td> 0.000</td> <td>  -22.708</td> <td>  -11.217</td>\n",
       "</tr>\n",
       "<tr>\n",
       "  <th>cut_Fair</th>     <td> -662.1436</td> <td>   31.831</td> <td>  -20.802</td> <td> 0.000</td> <td> -724.534</td> <td> -599.753</td>\n",
       "</tr>\n",
       "<tr>\n",
       "  <th>cut_Good</th>     <td> -162.7101</td> <td>   18.845</td> <td>   -8.634</td> <td> 0.000</td> <td> -199.648</td> <td> -125.772</td>\n",
       "</tr>\n",
       "<tr>\n",
       "  <th>cut_Ideal</th>    <td>   77.5764</td> <td>   13.240</td> <td>    5.859</td> <td> 0.000</td> <td>   51.626</td> <td>  103.527</td>\n",
       "</tr>\n",
       "<tr>\n",
       "  <th>color_D</th>      <td>  491.6268</td> <td>   23.750</td> <td>   20.700</td> <td> 0.000</td> <td>  445.076</td> <td>  538.178</td>\n",
       "</tr>\n",
       "<tr>\n",
       "  <th>color_E</th>      <td>  289.9387</td> <td>   22.795</td> <td>   12.719</td> <td> 0.000</td> <td>  245.259</td> <td>  334.618</td>\n",
       "</tr>\n",
       "<tr>\n",
       "  <th>color_F</th>      <td>  226.7143</td> <td>   22.549</td> <td>   10.055</td> <td> 0.000</td> <td>  182.518</td> <td>  270.911</td>\n",
       "</tr>\n",
       "<tr>\n",
       "  <th>color_G</th>      <td>   58.5405</td> <td>   22.065</td> <td>    2.653</td> <td> 0.008</td> <td>   15.292</td> <td>  101.789</td>\n",
       "</tr>\n",
       "<tr>\n",
       "  <th>color_H</th>      <td> -357.9007</td> <td>   22.816</td> <td>  -15.686</td> <td> 0.000</td> <td> -402.622</td> <td> -313.180</td>\n",
       "</tr>\n",
       "<tr>\n",
       "  <th>color_I</th>      <td> -817.8657</td> <td>   24.457</td> <td>  -33.441</td> <td> 0.000</td> <td> -865.803</td> <td> -769.929</td>\n",
       "</tr>\n",
       "<tr>\n",
       "  <th>color_J</th>      <td>-1392.8405</td> <td>   28.101</td> <td>  -49.565</td> <td> 0.000</td> <td>-1447.920</td> <td>-1337.761</td>\n",
       "</tr>\n",
       "<tr>\n",
       "  <th>clarity_I1</th>   <td>-3115.9117</td> <td>   44.349</td> <td>  -70.258</td> <td> 0.000</td> <td>-3202.839</td> <td>-3028.984</td>\n",
       "</tr>\n",
       "<tr>\n",
       "  <th>clarity_IF</th>   <td> 1082.0924</td> <td>   31.118</td> <td>   34.774</td> <td> 0.000</td> <td> 1021.100</td> <td> 1143.085</td>\n",
       "</tr>\n",
       "<tr>\n",
       "  <th>clarity_SI1</th>  <td> -431.1837</td> <td>   20.531</td> <td>  -21.001</td> <td> 0.000</td> <td> -471.426</td> <td> -390.942</td>\n",
       "</tr>\n",
       "<tr>\n",
       "  <th>clarity_SI2</th>  <td>-1256.0235</td> <td>   22.000</td> <td>  -57.092</td> <td> 0.000</td> <td>-1299.145</td> <td>-1212.902</td>\n",
       "</tr>\n",
       "<tr>\n",
       "  <th>clarity_VS1</th>  <td>  404.3521</td> <td>   21.654</td> <td>   18.673</td> <td> 0.000</td> <td>  361.909</td> <td>  446.795</td>\n",
       "</tr>\n",
       "<tr>\n",
       "  <th>clarity_VS2</th>  <td>  113.7123</td> <td>   20.695</td> <td>    5.495</td> <td> 0.000</td> <td>   73.148</td> <td>  154.276</td>\n",
       "</tr>\n",
       "<tr>\n",
       "  <th>clarity_VVS1</th> <td>  871.3601</td> <td>   25.458</td> <td>   34.227</td> <td> 0.000</td> <td>  821.460</td> <td>  921.260</td>\n",
       "</tr>\n",
       "<tr>\n",
       "  <th>clarity_VVS2</th> <td>  829.8154</td> <td>   23.592</td> <td>   35.174</td> <td> 0.000</td> <td>  783.574</td> <td>  876.057</td>\n",
       "</tr>\n",
       "</table>\n",
       "<table class=\"simpletable\">\n",
       "<tr>\n",
       "  <th>Omnibus:</th>       <td>5947.851</td> <th>  Durbin-Watson:     </th> <td>   2.004</td> \n",
       "</tr>\n",
       "<tr>\n",
       "  <th>Prob(Omnibus):</th>  <td> 0.000</td>  <th>  Jarque-Bera (JB):  </th> <td>18583.509</td>\n",
       "</tr>\n",
       "<tr>\n",
       "  <th>Skew:</th>           <td> 1.130</td>  <th>  Prob(JB):          </th> <td>    0.00</td> \n",
       "</tr>\n",
       "<tr>\n",
       "  <th>Kurtosis:</th>       <td> 6.381</td>  <th>  Cond. No.          </th> <td>8.44e+17</td> \n",
       "</tr>\n",
       "</table><br/><br/>Warnings:<br/>[1] Standard Errors assume that the covariance matrix of the errors is correctly specified.<br/>[2] The smallest eigenvalue is 1.25e-28. This might indicate that there are<br/>strong multicollinearity problems or that the design matrix is singular."
      ],
      "text/plain": [
       "<class 'statsmodels.iolib.summary.Summary'>\n",
       "\"\"\"\n",
       "                            OLS Regression Results                            \n",
       "==============================================================================\n",
       "Dep. Variable:                  price   R-squared:                       0.940\n",
       "Model:                            OLS   Adj. R-squared:                  0.940\n",
       "Method:                 Least Squares   F-statistic:                 2.338e+04\n",
       "Date:                Sun, 11 Apr 2021   Prob (F-statistic):               0.00\n",
       "Time:                        00:57:16   Log-Likelihood:            -2.2021e+05\n",
       "No. Observations:               26967   AIC:                         4.405e+05\n",
       "Df Residuals:                   26948   BIC:                         4.406e+05\n",
       "Df Model:                          18                                         \n",
       "Covariance Type:            nonrobust                                         \n",
       "================================================================================\n",
       "                   coef    std err          t      P>|t|      [0.025      0.975]\n",
       "--------------------------------------------------------------------------------\n",
       "const        -1501.7866    134.564    -11.160      0.000   -1765.539   -1238.035\n",
       "carat         8019.1491     12.906    621.352      0.000    7993.853    8044.445\n",
       "table          -16.9625      2.931     -5.787      0.000     -22.708     -11.217\n",
       "cut_Fair      -662.1436     31.831    -20.802      0.000    -724.534    -599.753\n",
       "cut_Good      -162.7101     18.845     -8.634      0.000    -199.648    -125.772\n",
       "cut_Ideal       77.5764     13.240      5.859      0.000      51.626     103.527\n",
       "color_D        491.6268     23.750     20.700      0.000     445.076     538.178\n",
       "color_E        289.9387     22.795     12.719      0.000     245.259     334.618\n",
       "color_F        226.7143     22.549     10.055      0.000     182.518     270.911\n",
       "color_G         58.5405     22.065      2.653      0.008      15.292     101.789\n",
       "color_H       -357.9007     22.816    -15.686      0.000    -402.622    -313.180\n",
       "color_I       -817.8657     24.457    -33.441      0.000    -865.803    -769.929\n",
       "color_J      -1392.8405     28.101    -49.565      0.000   -1447.920   -1337.761\n",
       "clarity_I1   -3115.9117     44.349    -70.258      0.000   -3202.839   -3028.984\n",
       "clarity_IF    1082.0924     31.118     34.774      0.000    1021.100    1143.085\n",
       "clarity_SI1   -431.1837     20.531    -21.001      0.000    -471.426    -390.942\n",
       "clarity_SI2  -1256.0235     22.000    -57.092      0.000   -1299.145   -1212.902\n",
       "clarity_VS1    404.3521     21.654     18.673      0.000     361.909     446.795\n",
       "clarity_VS2    113.7123     20.695      5.495      0.000      73.148     154.276\n",
       "clarity_VVS1   871.3601     25.458     34.227      0.000     821.460     921.260\n",
       "clarity_VVS2   829.8154     23.592     35.174      0.000     783.574     876.057\n",
       "==============================================================================\n",
       "Omnibus:                     5947.851   Durbin-Watson:                   2.004\n",
       "Prob(Omnibus):                  0.000   Jarque-Bera (JB):            18583.509\n",
       "Skew:                           1.130   Prob(JB):                         0.00\n",
       "Kurtosis:                       6.381   Cond. No.                     8.44e+17\n",
       "==============================================================================\n",
       "\n",
       "Warnings:\n",
       "[1] Standard Errors assume that the covariance matrix of the errors is correctly specified.\n",
       "[2] The smallest eigenvalue is 1.25e-28. This might indicate that there are\n",
       "strong multicollinearity problems or that the design matrix is singular.\n",
       "\"\"\""
      ]
     },
     "execution_count": 83,
     "metadata": {},
     "output_type": "execute_result"
    }
   ],
   "source": [
    "model_MLR1_new.summary()"
   ]
  },
  {
   "cell_type": "code",
   "execution_count": 84,
   "metadata": {},
   "outputs": [
    {
     "data": {
      "text/html": [
       "<div>\n",
       "<style scoped>\n",
       "    .dataframe tbody tr th:only-of-type {\n",
       "        vertical-align: middle;\n",
       "    }\n",
       "\n",
       "    .dataframe tbody tr th {\n",
       "        vertical-align: top;\n",
       "    }\n",
       "\n",
       "    .dataframe thead th {\n",
       "        text-align: right;\n",
       "    }\n",
       "</style>\n",
       "<table border=\"1\" class=\"dataframe\">\n",
       "  <thead>\n",
       "    <tr style=\"text-align: right;\">\n",
       "      <th></th>\n",
       "      <th>coef</th>\n",
       "      <th>pval</th>\n",
       "    </tr>\n",
       "  </thead>\n",
       "  <tbody>\n",
       "    <tr>\n",
       "      <td>carat</td>\n",
       "      <td>8019.149064</td>\n",
       "      <td>0.000</td>\n",
       "    </tr>\n",
       "    <tr>\n",
       "      <td>clarity_IF</td>\n",
       "      <td>1082.092436</td>\n",
       "      <td>0.000</td>\n",
       "    </tr>\n",
       "    <tr>\n",
       "      <td>clarity_VVS1</td>\n",
       "      <td>871.360105</td>\n",
       "      <td>0.000</td>\n",
       "    </tr>\n",
       "    <tr>\n",
       "      <td>clarity_VVS2</td>\n",
       "      <td>829.815363</td>\n",
       "      <td>0.000</td>\n",
       "    </tr>\n",
       "    <tr>\n",
       "      <td>color_D</td>\n",
       "      <td>491.626839</td>\n",
       "      <td>0.000</td>\n",
       "    </tr>\n",
       "    <tr>\n",
       "      <td>clarity_VS1</td>\n",
       "      <td>404.352107</td>\n",
       "      <td>0.000</td>\n",
       "    </tr>\n",
       "    <tr>\n",
       "      <td>color_E</td>\n",
       "      <td>289.938680</td>\n",
       "      <td>0.000</td>\n",
       "    </tr>\n",
       "    <tr>\n",
       "      <td>color_F</td>\n",
       "      <td>226.714253</td>\n",
       "      <td>0.000</td>\n",
       "    </tr>\n",
       "    <tr>\n",
       "      <td>clarity_VS2</td>\n",
       "      <td>113.712284</td>\n",
       "      <td>0.000</td>\n",
       "    </tr>\n",
       "    <tr>\n",
       "      <td>cut_Ideal</td>\n",
       "      <td>77.576371</td>\n",
       "      <td>0.000</td>\n",
       "    </tr>\n",
       "    <tr>\n",
       "      <td>color_G</td>\n",
       "      <td>58.540531</td>\n",
       "      <td>0.008</td>\n",
       "    </tr>\n",
       "    <tr>\n",
       "      <td>table</td>\n",
       "      <td>-16.962506</td>\n",
       "      <td>0.000</td>\n",
       "    </tr>\n",
       "    <tr>\n",
       "      <td>cut_Good</td>\n",
       "      <td>-162.710146</td>\n",
       "      <td>0.000</td>\n",
       "    </tr>\n",
       "    <tr>\n",
       "      <td>color_H</td>\n",
       "      <td>-357.900725</td>\n",
       "      <td>0.000</td>\n",
       "    </tr>\n",
       "    <tr>\n",
       "      <td>clarity_SI1</td>\n",
       "      <td>-431.183747</td>\n",
       "      <td>0.000</td>\n",
       "    </tr>\n",
       "    <tr>\n",
       "      <td>cut_Fair</td>\n",
       "      <td>-662.143609</td>\n",
       "      <td>0.000</td>\n",
       "    </tr>\n",
       "    <tr>\n",
       "      <td>color_I</td>\n",
       "      <td>-817.865667</td>\n",
       "      <td>0.000</td>\n",
       "    </tr>\n",
       "    <tr>\n",
       "      <td>clarity_SI2</td>\n",
       "      <td>-1256.023523</td>\n",
       "      <td>0.000</td>\n",
       "    </tr>\n",
       "    <tr>\n",
       "      <td>color_J</td>\n",
       "      <td>-1392.840549</td>\n",
       "      <td>0.000</td>\n",
       "    </tr>\n",
       "    <tr>\n",
       "      <td>const</td>\n",
       "      <td>-1501.786637</td>\n",
       "      <td>0.000</td>\n",
       "    </tr>\n",
       "    <tr>\n",
       "      <td>clarity_I1</td>\n",
       "      <td>-3115.911662</td>\n",
       "      <td>0.000</td>\n",
       "    </tr>\n",
       "  </tbody>\n",
       "</table>\n",
       "</div>"
      ],
      "text/plain": [
       "                     coef   pval\n",
       "carat         8019.149064  0.000\n",
       "clarity_IF    1082.092436  0.000\n",
       "clarity_VVS1   871.360105  0.000\n",
       "clarity_VVS2   829.815363  0.000\n",
       "color_D        491.626839  0.000\n",
       "clarity_VS1    404.352107  0.000\n",
       "color_E        289.938680  0.000\n",
       "color_F        226.714253  0.000\n",
       "clarity_VS2    113.712284  0.000\n",
       "cut_Ideal       77.576371  0.000\n",
       "color_G         58.540531  0.008\n",
       "table          -16.962506  0.000\n",
       "cut_Good      -162.710146  0.000\n",
       "color_H       -357.900725  0.000\n",
       "clarity_SI1   -431.183747  0.000\n",
       "cut_Fair      -662.143609  0.000\n",
       "color_I       -817.865667  0.000\n",
       "clarity_SI2  -1256.023523  0.000\n",
       "color_J      -1392.840549  0.000\n",
       "const        -1501.786637  0.000\n",
       "clarity_I1   -3115.911662  0.000"
      ]
     },
     "execution_count": 84,
     "metadata": {},
     "output_type": "execute_result"
    }
   ],
   "source": [
    "reg_coeff = pd.DataFrame(model_MLR1_new.params, columns=['coef'])\n",
    "reg_coeff['pval'] = model_MLR1_new.pvalues.round(3)\n",
    "reg_coeff.sort_values(by='coef', ascending = False)"
   ]
  },
  {
   "cell_type": "markdown",
   "metadata": {},
   "source": [
    "### Feature Selection - Multicollinearity and VIF"
   ]
  },
  {
   "cell_type": "code",
   "execution_count": 85,
   "metadata": {},
   "outputs": [],
   "source": [
    "def vif_cal(input_data):\n",
    "    x_vars1=input_data\n",
    "    xvar1_names=input_data.columns\n",
    "    for i in range(0,xvar1_names.shape[0]):\n",
    "        y=x_vars1[xvar1_names[i]] \n",
    "        x=x_vars1[xvar1_names.drop(xvar1_names[i])]\n",
    "        rsq=SM.ols(formula=\"y~x1\", data=x_vars).fit().rsquared  \n",
    "        vif=round(1/(1-rsq),2)\n",
    "        print (xvar1_names[i], \" VIF = \" , vif)"
   ]
  },
  {
   "cell_type": "code",
   "execution_count": 86,
   "metadata": {},
   "outputs": [
    {
     "data": {
      "text/plain": [
       "Index(['carat', 'depth', 'table', 'cut_Fair', 'cut_Premium', 'cut_Very Good',\n",
       "       'color_D', 'color_E', 'color_F', 'color_G', 'color_I', 'color_J',\n",
       "       'clarity_I1', 'clarity_IF', 'clarity_SI1', 'clarity_SI2', 'clarity_VS1',\n",
       "       'clarity_VS2', 'clarity_VVS1'],\n",
       "      dtype='object')"
      ]
     },
     "execution_count": 86,
     "metadata": {},
     "output_type": "execute_result"
    }
   ],
   "source": [
    "xvar1 = df.drop(['price'], axis=1)\n",
    "xvar = pd.get_dummies(xvar)\n",
    "xvar.columns"
   ]
  },
  {
   "cell_type": "markdown",
   "metadata": {},
   "source": [
    "## Model predictions"
   ]
  },
  {
   "cell_type": "code",
   "execution_count": 79,
   "metadata": {},
   "outputs": [
    {
     "data": {
      "text/plain": [
       "0        -143.535967\n",
       "1        1301.340169\n",
       "2        5817.451199\n",
       "3        1624.998360\n",
       "4        1159.012443\n",
       "            ...     \n",
       "26962    6043.000255\n",
       "26963    1013.362802\n",
       "26964    2007.804997\n",
       "26965     770.012886\n",
       "26966    5714.300044\n",
       "Length: 26967, dtype: float64"
      ]
     },
     "execution_count": 79,
     "metadata": {},
     "output_type": "execute_result"
    }
   ],
   "source": [
    "model_MLR1_new.fittedvalues"
   ]
  },
  {
   "cell_type": "markdown",
   "metadata": {},
   "source": [
    "## Regression Assumptions"
   ]
  },
  {
   "cell_type": "markdown",
   "metadata": {},
   "source": [
    "Before we check the RMSE value, let us go ahead and check the boxplot and histogram of the predicted values."
   ]
  },
  {
   "cell_type": "code",
   "execution_count": 80,
   "metadata": {
    "ExecuteTime": {
     "end_time": "2020-08-20T08:33:10.110552Z",
     "start_time": "2020-08-20T08:33:09.755791Z"
    }
   },
   "outputs": [
    {
     "data": {
      "image/png": "[encoded data removed]",
      "text/plain": [
       "<Figure size 432x288 with 1 Axes>"
      ]
     },
     "metadata": {
      "needs_background": "light"
     },
     "output_type": "display_data"
    }
   ],
   "source": [
    "sns.distplot(model_MLR1_new.fittedvalues);"
   ]
  },
  {
   "cell_type": "code",
   "execution_count": 81,
   "metadata": {},
   "outputs": [
    {
     "data": {
      "image/png": "[encoded data removed]",
      "text/plain": [
       "<Figure size 432x288 with 1 Axes>"
      ]
     },
     "metadata": {
      "needs_background": "light"
     },
     "output_type": "display_data"
    }
   ],
   "source": [
    "sns.distplot(model_MLR1_new.fittedvalues)\n",
    "sns.distplot(df['price']);"
   ]
  },
  {
   "cell_type": "code",
   "execution_count": 82,
   "metadata": {},
   "outputs": [
    {
     "data": {
      "image/png": "[encoded data removed]",
      "text/plain": [
       "<Figure size 432x288 with 1 Axes>"
      ]
     },
     "metadata": {
      "needs_background": "light"
     },
     "output_type": "display_data"
    }
   ],
   "source": [
    "sns.boxplot(model_MLR1_new.fittedvalues,orient='v');"
   ]
  },
  {
   "cell_type": "markdown",
   "metadata": {},
   "source": [
    "Checking the boxplot and the distplot of the residuals."
   ]
  },
  {
   "cell_type": "code",
   "execution_count": 83,
   "metadata": {
    "ExecuteTime": {
     "end_time": "2020-08-20T08:33:17.059454Z",
     "start_time": "2020-08-20T08:33:17.043768Z"
    }
   },
   "outputs": [],
   "source": [
    "from pylab import rcParams\n",
    "rcParams['figure.figsize'] = 16,8"
   ]
  },
  {
   "cell_type": "code",
   "execution_count": 96,
   "metadata": {
    "ExecuteTime": {
     "end_time": "2020-08-20T08:33:18.356467Z",
     "start_time": "2020-08-20T08:33:17.740776Z"
    }
   },
   "outputs": [
    {
     "data": {
      "image/png": "[encoded data removed]",
      "text/plain": [
       "<Figure size 1152x576 with 2 Axes>"
      ]
     },
     "metadata": {
      "needs_background": "light"
     },
     "output_type": "display_data"
    }
   ],
   "source": [
    "f,a =  plt.subplots(1,2,sharex=True,sharey=False,squeeze=False)\n",
    "\n",
    "#Plotting the distplot and the boxplot of the residuals for model 8\n",
    "\n",
    "plot_0 = sns.distplot(model_MLR1_new.resid,ax=a[0][0])\n",
    "a[0][0].set_title('Distplot of the residuals')\n",
    "a[0][0].grid()\n",
    "\n",
    "\n",
    "plot_1 = sns.boxplot(model_MLR_new.resid,orient='v',ax=a[0][1])\n",
    "a[0][1].set_title('Boxplot of the residuals')\n",
    "a[0][1].grid();\n"
   ]
  },
  {
   "cell_type": "markdown",
   "metadata": {},
   "source": [
    "## Model Evaluation Measures"
   ]
  },
  {
   "cell_type": "code",
   "execution_count": 84,
   "metadata": {},
   "outputs": [],
   "source": [
    "from sklearn.metrics import mean_squared_error\n",
    "from sklearn.metrics import mean_absolute_error"
   ]
  },
  {
   "cell_type": "code",
   "execution_count": 85,
   "metadata": {},
   "outputs": [],
   "source": [
    "pred = model_MLR1_new.fittedvalues"
   ]
  },
  {
   "cell_type": "code",
   "execution_count": 86,
   "metadata": {},
   "outputs": [
    {
     "data": {
      "text/plain": [
       "724990.6959323231"
      ]
     },
     "execution_count": 86,
     "metadata": {},
     "output_type": "execute_result"
    }
   ],
   "source": [
    "##MSE = mean_squared_error(df['Sales'], pred, squared = False)\n",
    "\n",
    "MSE=mean_squared_error(df['price'], pred)\n",
    "MSE"
   ]
  },
  {
   "cell_type": "code",
   "execution_count": 87,
   "metadata": {},
   "outputs": [
    {
     "data": {
      "text/plain": [
       "851.4638547421276"
      ]
     },
     "execution_count": 87,
     "metadata": {},
     "output_type": "execute_result"
    }
   ],
   "source": [
    "RMSE = np.sqrt(MSE)\n",
    "RMSE"
   ]
  },
  {
   "cell_type": "code",
   "execution_count": 89,
   "metadata": {},
   "outputs": [
    {
     "data": {
      "text/plain": [
       "622.1491575583627"
      ]
     },
     "execution_count": 89,
     "metadata": {},
     "output_type": "execute_result"
    }
   ],
   "source": [
    "mean_absolute_error(df['price'], pred)"
   ]
  },
  {
   "cell_type": "markdown",
   "metadata": {},
   "source": [
    "# Problem statement"
   ]
  },
  {
   "cell_type": "markdown",
   "metadata": {},
   "source": [
    "## Problem 2: Logistic Regression and Linear Discriminant Analysis(LDA)"
   ]
  },
  {
   "cell_type": "markdown",
   "metadata": {},
   "source": [
    "You are hired by a sports analysis agency to understand the selection process of high school football players into college with a full or partial scholarship. You are provided details of 6215 high school graduates who have been inducted into 4-year degree colleges with either full or partial scholarships.  You have to help the agency in predicting whether a high school graduate will win a full scholarship on the basis of the information given in the data set. Also, find out the important factors which are instrumental in winning a full scholarship in colleges."
   ]
  },
  {
   "cell_type": "markdown",
   "metadata": {},
   "source": [
    "# Data dictionary\n",
    "<b>Variable Name and description</b>\n",
    "\n",
    "1. <b>Scholarship Won a college scholarship:</b> Full / Partial\n",
    "\n",
    "2. <b>Academic Score:</b>  High school academic performance of a candidate\n",
    "\n",
    "3. <b>Score on Plays Made:</b> A composite score based on the achievements on the field\n",
    "\n",
    "4. <b>Missed Play Score:</b> A composite score based on the failures on the field\n",
    "\n",
    "5. <b>Injury Propensity:</b> This has 3 ordinal levels: High, Moderate, Normal and Low. It has been calculated based on what proportion of time a candidate had an injury problem\n",
    "\n",
    "6. <b>School Type:</b> 3 types of schools based on their location\n",
    "\n",
    "7. <b>School Score:</b> A composite score based on the overall achievement of the candidates’ school, based on the schools academic, sports and community service performance\n",
    "\n",
    "8. <b>Overall Score:</b> A composite score based on a candidate’s family financial state, school performance, psychosocial attitude etc\n",
    "\n",
    "9. <b>Region:</b> Region of the country where the school is located"
   ]
  },
  {
   "cell_type": "code",
   "execution_count": 87,
   "metadata": {},
   "outputs": [
    {
     "data": {
      "text/html": [
       "<div>\n",
       "<style scoped>\n",
       "    .dataframe tbody tr th:only-of-type {\n",
       "        vertical-align: middle;\n",
       "    }\n",
       "\n",
       "    .dataframe tbody tr th {\n",
       "        vertical-align: top;\n",
       "    }\n",
       "\n",
       "    .dataframe thead th {\n",
       "        text-align: right;\n",
       "    }\n",
       "</style>\n",
       "<table border=\"1\" class=\"dataframe\">\n",
       "  <thead>\n",
       "    <tr style=\"text-align: right;\">\n",
       "      <th></th>\n",
       "      <th>Academic_Score</th>\n",
       "      <th>Score_on_Plays_Made</th>\n",
       "      <th>Missed_Play_Score</th>\n",
       "      <th>Injury_Propensity</th>\n",
       "      <th>School_Type</th>\n",
       "      <th>School_Score</th>\n",
       "      <th>Overall_Score</th>\n",
       "      <th>Region</th>\n",
       "      <th>Scholarship</th>\n",
       "    </tr>\n",
       "  </thead>\n",
       "  <tbody>\n",
       "    <tr>\n",
       "      <td>0</td>\n",
       "      <td>7.0</td>\n",
       "      <td>0.27</td>\n",
       "      <td>0.36</td>\n",
       "      <td>High</td>\n",
       "      <td>D</td>\n",
       "      <td>0.45</td>\n",
       "      <td>8.8</td>\n",
       "      <td>Eastern</td>\n",
       "      <td>Partial</td>\n",
       "    </tr>\n",
       "    <tr>\n",
       "      <td>1</td>\n",
       "      <td>6.3</td>\n",
       "      <td>0.30</td>\n",
       "      <td>0.34</td>\n",
       "      <td>Low</td>\n",
       "      <td>C</td>\n",
       "      <td>0.49</td>\n",
       "      <td>9.5</td>\n",
       "      <td>Eastern</td>\n",
       "      <td>Partial</td>\n",
       "    </tr>\n",
       "    <tr>\n",
       "      <td>2</td>\n",
       "      <td>8.1</td>\n",
       "      <td>0.28</td>\n",
       "      <td>0.40</td>\n",
       "      <td>Moderate</td>\n",
       "      <td>C</td>\n",
       "      <td>0.44</td>\n",
       "      <td>10.1</td>\n",
       "      <td>Eastern</td>\n",
       "      <td>Partial</td>\n",
       "    </tr>\n",
       "    <tr>\n",
       "      <td>3</td>\n",
       "      <td>7.2</td>\n",
       "      <td>0.23</td>\n",
       "      <td>0.32</td>\n",
       "      <td>Moderate</td>\n",
       "      <td>C</td>\n",
       "      <td>0.40</td>\n",
       "      <td>9.9</td>\n",
       "      <td>Eastern</td>\n",
       "      <td>Partial</td>\n",
       "    </tr>\n",
       "    <tr>\n",
       "      <td>4</td>\n",
       "      <td>7.2</td>\n",
       "      <td>0.23</td>\n",
       "      <td>0.32</td>\n",
       "      <td>Moderate</td>\n",
       "      <td>C</td>\n",
       "      <td>0.40</td>\n",
       "      <td>9.9</td>\n",
       "      <td>Eastern</td>\n",
       "      <td>Partial</td>\n",
       "    </tr>\n",
       "  </tbody>\n",
       "</table>\n",
       "</div>"
      ],
      "text/plain": [
       "   Academic_Score  Score_on_Plays_Made  Missed_Play_Score Injury_Propensity  \\\n",
       "0             7.0                 0.27               0.36              High   \n",
       "1             6.3                 0.30               0.34               Low   \n",
       "2             8.1                 0.28               0.40          Moderate   \n",
       "3             7.2                 0.23               0.32          Moderate   \n",
       "4             7.2                 0.23               0.32          Moderate   \n",
       "\n",
       "  School_Type  School_Score  Overall_Score   Region Scholarship  \n",
       "0           D          0.45            8.8  Eastern     Partial  \n",
       "1           C          0.49            9.5  Eastern     Partial  \n",
       "2           C          0.44           10.1  Eastern     Partial  \n",
       "3           C          0.40            9.9  Eastern     Partial  \n",
       "4           C          0.40            9.9  Eastern     Partial  "
      ]
     },
     "execution_count": 87,
     "metadata": {},
     "output_type": "execute_result"
    }
   ],
   "source": [
    "Football_data = pd.read_csv('Football+Scholarship.csv')\n",
    "Football_data.head()"
   ]
  },
  {
   "cell_type": "markdown",
   "metadata": {},
   "source": [
    "1. The very first step of any data analysis assignment is to do the exploratory data analysis (EDA). Once you have understood the nature of all the variables, especially identified the response and the predictors, apply appropriate methods to determine whether there is any duplicate observation or missing data and whether the variables have a symmetric or skewed distribution. Note that data may contain various types of attributes and numerical and/or visual data summarization techniques need to be appropriately decided. Both univariate and bivariate analyses and pre-processing of data are important. Check for outliers and comment on removing or keeping them while model building. For this is a classification problem, the dependence of the response on the predictors needs to be investigated. Two different classification techniques are to be applied. However, the EDA part remains the same for both. For easier interpretation of the models, later on, it may be better to code Full = 1 and Partial = 0. You may assume the opposite, but then you have to be very careful about the interpretation of the logistic model coefficients later."
   ]
  },
  {
   "cell_type": "code",
   "execution_count": 88,
   "metadata": {},
   "outputs": [
    {
     "name": "stdout",
     "output_type": "stream",
     "text": [
      "<class 'pandas.core.frame.DataFrame'>\n",
      "RangeIndex: 6215 entries, 0 to 6214\n",
      "Data columns (total 9 columns):\n",
      "Academic_Score         6215 non-null float64\n",
      "Score_on_Plays_Made    6215 non-null float64\n",
      "Missed_Play_Score      6215 non-null float64\n",
      "Injury_Propensity      6215 non-null object\n",
      "School_Type            6215 non-null object\n",
      "School_Score           6215 non-null float64\n",
      "Overall_Score          6215 non-null float64\n",
      "Region                 6215 non-null object\n",
      "Scholarship            6215 non-null object\n",
      "dtypes: float64(5), object(4)\n",
      "memory usage: 437.1+ KB\n"
     ]
    }
   ],
   "source": [
    "Football_data.info()"
   ]
  },
  {
   "cell_type": "markdown",
   "metadata": {},
   "source": [
    "### Check for duplicate data across columns and drop those"
   ]
  },
  {
   "cell_type": "code",
   "execution_count": 89,
   "metadata": {},
   "outputs": [
    {
     "name": "stdout",
     "output_type": "stream",
     "text": [
      "Number of duplicate rows = 947\n",
      "(6215, 9)\n"
     ]
    }
   ],
   "source": [
    "dups = Football_data.duplicated()\n",
    "print('Number of duplicate rows = %d' % (dups.sum()))\n",
    "print(Football_data.shape)"
   ]
  },
  {
   "cell_type": "code",
   "execution_count": 90,
   "metadata": {},
   "outputs": [],
   "source": [
    "Football_data.drop_duplicates(inplace=True) "
   ]
  },
  {
   "cell_type": "code",
   "execution_count": 91,
   "metadata": {},
   "outputs": [
    {
     "name": "stdout",
     "output_type": "stream",
     "text": [
      "Number of duplicate rows = 0\n",
      "(5268, 9)\n"
     ]
    }
   ],
   "source": [
    "dups = Football_data.duplicated()\n",
    "print('Number of duplicate rows = %d' % (dups.sum()))\n",
    "print(Football_data.shape)"
   ]
  },
  {
   "cell_type": "markdown",
   "metadata": {},
   "source": [
    "### Check for missing values and impute the missing values, if any is present."
   ]
  },
  {
   "cell_type": "code",
   "execution_count": 92,
   "metadata": {},
   "outputs": [
    {
     "data": {
      "text/plain": [
       "Academic_Score         0\n",
       "Score_on_Plays_Made    0\n",
       "Missed_Play_Score      0\n",
       "Injury_Propensity      0\n",
       "School_Type            0\n",
       "School_Score           0\n",
       "Overall_Score          0\n",
       "Region                 0\n",
       "Scholarship            0\n",
       "dtype: int64"
      ]
     },
     "execution_count": 92,
     "metadata": {},
     "output_type": "execute_result"
    }
   ],
   "source": [
    "Football_data.isna().sum()"
   ]
  },
  {
   "cell_type": "markdown",
   "metadata": {},
   "source": [
    "### Check the data types of all the variables and get the unique counts of all the 'Object' type variables."
   ]
  },
  {
   "cell_type": "code",
   "execution_count": 93,
   "metadata": {},
   "outputs": [
    {
     "name": "stdout",
     "output_type": "stream",
     "text": [
      "Injury_Propensity\n",
      "Low         2323\n",
      "Normal      1162\n",
      "Moderate     893\n",
      "High         890\n",
      "Name: Injury_Propensity, dtype: int64\n",
      "\n",
      "\n",
      "School_Type\n",
      "C    2906\n",
      "B    1446\n",
      "D     916\n",
      "Name: School_Type, dtype: int64\n",
      "\n",
      "\n",
      "Region\n",
      "Eastern     2403\n",
      "Western     1457\n",
      "Southern    1408\n",
      "Name: Region, dtype: int64\n",
      "\n",
      "\n",
      "Scholarship\n",
      "Partial    3337\n",
      "Full       1931\n",
      "Name: Scholarship, dtype: int64\n",
      "\n",
      "\n"
     ]
    }
   ],
   "source": [
    "for feature in Football_data.columns: \n",
    "    if Football_data[feature].dtype == 'object': \n",
    "        print(feature)\n",
    "        print(Football_data[feature].value_counts())\n",
    "        print('\\n')"
   ]
  },
  {
   "cell_type": "markdown",
   "metadata": {},
   "source": [
    "#### Since there are a no values which not falling into any of the major category, no need to encode them into a  new category "
   ]
  },
  {
   "cell_type": "markdown",
   "metadata": {},
   "source": [
    "### Check for the basic measures of descriptive statistics."
   ]
  },
  {
   "cell_type": "code",
   "execution_count": 95,
   "metadata": {},
   "outputs": [
    {
     "data": {
      "text/html": [
       "<div>\n",
       "<style scoped>\n",
       "    .dataframe tbody tr th:only-of-type {\n",
       "        vertical-align: middle;\n",
       "    }\n",
       "\n",
       "    .dataframe tbody tr th {\n",
       "        vertical-align: top;\n",
       "    }\n",
       "\n",
       "    .dataframe thead th {\n",
       "        text-align: right;\n",
       "    }\n",
       "</style>\n",
       "<table border=\"1\" class=\"dataframe\">\n",
       "  <thead>\n",
       "    <tr style=\"text-align: right;\">\n",
       "      <th></th>\n",
       "      <th>Academic_Score</th>\n",
       "      <th>Score_on_Plays_Made</th>\n",
       "      <th>Missed_Play_Score</th>\n",
       "      <th>School_Score</th>\n",
       "      <th>Overall_Score</th>\n",
       "    </tr>\n",
       "  </thead>\n",
       "  <tbody>\n",
       "    <tr>\n",
       "      <td>count</td>\n",
       "      <td>5268.000000</td>\n",
       "      <td>5268.000000</td>\n",
       "      <td>5268.000000</td>\n",
       "      <td>5268.000000</td>\n",
       "      <td>5268.000000</td>\n",
       "    </tr>\n",
       "    <tr>\n",
       "      <td>mean</td>\n",
       "      <td>7.205363</td>\n",
       "      <td>0.337905</td>\n",
       "      <td>0.320306</td>\n",
       "      <td>0.531380</td>\n",
       "      <td>10.502904</td>\n",
       "    </tr>\n",
       "    <tr>\n",
       "      <td>std</td>\n",
       "      <td>1.299212</td>\n",
       "      <td>0.161308</td>\n",
       "      <td>0.146286</td>\n",
       "      <td>0.146938</td>\n",
       "      <td>1.169325</td>\n",
       "    </tr>\n",
       "    <tr>\n",
       "      <td>min</td>\n",
       "      <td>3.800000</td>\n",
       "      <td>0.080000</td>\n",
       "      <td>0.000000</td>\n",
       "      <td>0.220000</td>\n",
       "      <td>8.000000</td>\n",
       "    </tr>\n",
       "    <tr>\n",
       "      <td>25%</td>\n",
       "      <td>6.400000</td>\n",
       "      <td>0.230000</td>\n",
       "      <td>0.250000</td>\n",
       "      <td>0.430000</td>\n",
       "      <td>9.500000</td>\n",
       "    </tr>\n",
       "    <tr>\n",
       "      <td>50%</td>\n",
       "      <td>6.900000</td>\n",
       "      <td>0.290000</td>\n",
       "      <td>0.310000</td>\n",
       "      <td>0.510000</td>\n",
       "      <td>10.300000</td>\n",
       "    </tr>\n",
       "    <tr>\n",
       "      <td>75%</td>\n",
       "      <td>7.700000</td>\n",
       "      <td>0.400000</td>\n",
       "      <td>0.400000</td>\n",
       "      <td>0.600000</td>\n",
       "      <td>11.300000</td>\n",
       "    </tr>\n",
       "    <tr>\n",
       "      <td>max</td>\n",
       "      <td>15.900000</td>\n",
       "      <td>1.330000</td>\n",
       "      <td>1.660000</td>\n",
       "      <td>1.980000</td>\n",
       "      <td>14.900000</td>\n",
       "    </tr>\n",
       "  </tbody>\n",
       "</table>\n",
       "</div>"
      ],
      "text/plain": [
       "       Academic_Score  Score_on_Plays_Made  Missed_Play_Score  School_Score  \\\n",
       "count     5268.000000          5268.000000        5268.000000   5268.000000   \n",
       "mean         7.205363             0.337905           0.320306      0.531380   \n",
       "std          1.299212             0.161308           0.146286      0.146938   \n",
       "min          3.800000             0.080000           0.000000      0.220000   \n",
       "25%          6.400000             0.230000           0.250000      0.430000   \n",
       "50%          6.900000             0.290000           0.310000      0.510000   \n",
       "75%          7.700000             0.400000           0.400000      0.600000   \n",
       "max         15.900000             1.330000           1.660000      1.980000   \n",
       "\n",
       "       Overall_Score  \n",
       "count    5268.000000  \n",
       "mean       10.502904  \n",
       "std         1.169325  \n",
       "min         8.000000  \n",
       "25%         9.500000  \n",
       "50%        10.300000  \n",
       "75%        11.300000  \n",
       "max        14.900000  "
      ]
     },
     "execution_count": 95,
     "metadata": {},
     "output_type": "execute_result"
    }
   ],
   "source": [
    "Football_data.describe()"
   ]
  },
  {
   "cell_type": "markdown",
   "metadata": {},
   "source": [
    "### Check the spread of the data using boxplot for the continuous variables."
   ]
  },
  {
   "cell_type": "code",
   "execution_count": 96,
   "metadata": {},
   "outputs": [
    {
     "data": {
      "image/png": "[encoded data removed]",
      "text/plain": [
       "<Figure size 432x288 with 1 Axes>"
      ]
     },
     "metadata": {
      "needs_background": "light"
     },
     "output_type": "display_data"
    },
    {
     "data": {
      "image/png": "[encoded data removed]",
      "text/plain": [
       "<Figure size 432x288 with 1 Axes>"
      ]
     },
     "metadata": {
      "needs_background": "light"
     },
     "output_type": "display_data"
    },
    {
     "data": {
      "image/png": "[encoded data removed]",
      "text/plain": [
       "<Figure size 432x288 with 1 Axes>"
      ]
     },
     "metadata": {
      "needs_background": "light"
     },
     "output_type": "display_data"
    },
    {
     "data": {
      "image/png": "[encoded data removed]",
      "text/plain": [
       "<Figure size 432x288 with 1 Axes>"
      ]
     },
     "metadata": {
      "needs_background": "light"
     },
     "output_type": "display_data"
    },
    {
     "data": {
      "image/png": "[encoded data removed]",
      "text/plain": [
       "<Figure size 432x288 with 1 Axes>"
      ]
     },
     "metadata": {
      "needs_background": "light"
     },
     "output_type": "display_data"
    }
   ],
   "source": [
    "cols = ['Academic_Score','Score_on_Plays_Made','Missed_Play_Score','School_Score', 'Overall_Score']\n",
    "for i in cols:\n",
    "    sns.boxplot(Football_data[i],whis=1.5)\n",
    "    plt.grid()\n",
    "    plt.show();"
   ]
  },
  {
   "cell_type": "markdown",
   "metadata": {},
   "source": [
    "### Treating the outliers at 1.5 * IQR (Inter-Quartile Range)."
   ]
  },
  {
   "cell_type": "code",
   "execution_count": 97,
   "metadata": {},
   "outputs": [],
   "source": [
    "def remove_outlier(col):\n",
    "    sorted(col)\n",
    "    Q1,Q3=np.percentile(col,[25,75])\n",
    "    IQR=Q3-Q1\n",
    "    lower_range= Q1-(1.5 * IQR)\n",
    "    upper_range= Q3+(1.5 * IQR)\n",
    "    return lower_range, upper_range"
   ]
  },
  {
   "cell_type": "code",
   "execution_count": 98,
   "metadata": {},
   "outputs": [],
   "source": [
    "for column in Football_data.columns:\n",
    "    if Football_data[column].dtype != 'object': \n",
    "       lr,ur=remove_outlier(Football_data[column])\n",
    "       Football_data[column]=np.where(Football_data[column]>ur,ur,Football_data[column])\n",
    "       Football_data[column]=np.where(Football_data[column]<lr,lr,Football_data[column])"
   ]
  },
  {
   "cell_type": "markdown",
   "metadata": {},
   "source": [
    "## 2. Build various iterations of the Logistic Regression model using appropriate variable selection techniques for the full data. Compare values of model selection criteria for proposed models. Compare as many criteria as you feel are suitable."
   ]
  },
  {
   "cell_type": "code",
   "execution_count": 99,
   "metadata": {},
   "outputs": [
    {
     "data": {
      "text/html": [
       "<div>\n",
       "<style scoped>\n",
       "    .dataframe tbody tr th:only-of-type {\n",
       "        vertical-align: middle;\n",
       "    }\n",
       "\n",
       "    .dataframe tbody tr th {\n",
       "        vertical-align: top;\n",
       "    }\n",
       "\n",
       "    .dataframe thead th {\n",
       "        text-align: right;\n",
       "    }\n",
       "</style>\n",
       "<table border=\"1\" class=\"dataframe\">\n",
       "  <thead>\n",
       "    <tr style=\"text-align: right;\">\n",
       "      <th></th>\n",
       "      <th>Academic_Score</th>\n",
       "      <th>Score_on_Plays_Made</th>\n",
       "      <th>Missed_Play_Score</th>\n",
       "      <th>Injury_Propensity</th>\n",
       "      <th>School_Type</th>\n",
       "      <th>School_Score</th>\n",
       "      <th>Overall_Score</th>\n",
       "      <th>Region</th>\n",
       "      <th>Scholarship</th>\n",
       "    </tr>\n",
       "  </thead>\n",
       "  <tbody>\n",
       "    <tr>\n",
       "      <td>0</td>\n",
       "      <td>7.0</td>\n",
       "      <td>0.27</td>\n",
       "      <td>0.36</td>\n",
       "      <td>High</td>\n",
       "      <td>D</td>\n",
       "      <td>0.45</td>\n",
       "      <td>8.8</td>\n",
       "      <td>Eastern</td>\n",
       "      <td>Partial</td>\n",
       "    </tr>\n",
       "    <tr>\n",
       "      <td>1</td>\n",
       "      <td>6.3</td>\n",
       "      <td>0.30</td>\n",
       "      <td>0.34</td>\n",
       "      <td>Low</td>\n",
       "      <td>C</td>\n",
       "      <td>0.49</td>\n",
       "      <td>9.5</td>\n",
       "      <td>Eastern</td>\n",
       "      <td>Partial</td>\n",
       "    </tr>\n",
       "    <tr>\n",
       "      <td>2</td>\n",
       "      <td>8.1</td>\n",
       "      <td>0.28</td>\n",
       "      <td>0.40</td>\n",
       "      <td>Moderate</td>\n",
       "      <td>C</td>\n",
       "      <td>0.44</td>\n",
       "      <td>10.1</td>\n",
       "      <td>Eastern</td>\n",
       "      <td>Partial</td>\n",
       "    </tr>\n",
       "    <tr>\n",
       "      <td>3</td>\n",
       "      <td>7.2</td>\n",
       "      <td>0.23</td>\n",
       "      <td>0.32</td>\n",
       "      <td>Moderate</td>\n",
       "      <td>C</td>\n",
       "      <td>0.40</td>\n",
       "      <td>9.9</td>\n",
       "      <td>Eastern</td>\n",
       "      <td>Partial</td>\n",
       "    </tr>\n",
       "    <tr>\n",
       "      <td>6</td>\n",
       "      <td>6.2</td>\n",
       "      <td>0.32</td>\n",
       "      <td>0.16</td>\n",
       "      <td>Moderate</td>\n",
       "      <td>C</td>\n",
       "      <td>0.47</td>\n",
       "      <td>9.6</td>\n",
       "      <td>Eastern</td>\n",
       "      <td>Full</td>\n",
       "    </tr>\n",
       "  </tbody>\n",
       "</table>\n",
       "</div>"
      ],
      "text/plain": [
       "   Academic_Score  Score_on_Plays_Made  Missed_Play_Score Injury_Propensity  \\\n",
       "0             7.0                 0.27               0.36              High   \n",
       "1             6.3                 0.30               0.34               Low   \n",
       "2             8.1                 0.28               0.40          Moderate   \n",
       "3             7.2                 0.23               0.32          Moderate   \n",
       "6             6.2                 0.32               0.16          Moderate   \n",
       "\n",
       "  School_Type  School_Score  Overall_Score   Region Scholarship  \n",
       "0           D          0.45            8.8  Eastern     Partial  \n",
       "1           C          0.49            9.5  Eastern     Partial  \n",
       "2           C          0.44           10.1  Eastern     Partial  \n",
       "3           C          0.40            9.9  Eastern     Partial  \n",
       "6           C          0.47            9.6  Eastern        Full  "
      ]
     },
     "execution_count": 99,
     "metadata": {},
     "output_type": "execute_result"
    }
   ],
   "source": [
    "Football_data.head()"
   ]
  },
  {
   "cell_type": "code",
   "execution_count": 100,
   "metadata": {},
   "outputs": [],
   "source": [
    "## We are coding up the 'Scholarship' variable in an ordinal manner\n",
    "\n",
    "Football_data['Scholarship']=np.where(Football_data['Scholarship'] =='Partial', '0', Football_data['Scholarship'])\n",
    "Football_data['Scholarship']=np.where(Football_data['Scholarship'] =='Full', '1', Football_data['Scholarship'])\n"
   ]
  },
  {
   "cell_type": "code",
   "execution_count": 101,
   "metadata": {},
   "outputs": [],
   "source": [
    "## We are coding up the 'Region' variable in an ordinal manner\n",
    "\n",
    "\n",
    "Football_data['Region']=np.where(Football_data['Region'] =='Eastern', '1', Football_data['Region'])\n",
    "Football_data['Region']=np.where(Football_data['Region'] =='Western', '2', Football_data['Region'])\n",
    "Football_data['Region']=np.where(Football_data['Region'] =='Southern', '3', Football_data['Region'])\n"
   ]
  },
  {
   "cell_type": "code",
   "execution_count": 102,
   "metadata": {},
   "outputs": [],
   "source": [
    "## We are coding up the 'Injury_Propensity' variable in an ordinal manner\n",
    "\n",
    "Football_data['Injury_Propensity']=np.where(Football_data['Injury_Propensity'] =='Low', '1', Football_data['Injury_Propensity'])\n",
    "Football_data['Injury_Propensity']=np.where(Football_data['Injury_Propensity'] =='Normal', '2', Football_data['Injury_Propensity'])\n",
    "Football_data['Injury_Propensity']=np.where(Football_data['Injury_Propensity'] =='Moderate', '3', Football_data['Injury_Propensity'])\n",
    "Football_data['Injury_Propensity']=np.where(Football_data['Injury_Propensity'] =='High', '4', Football_data['Injury_Propensity'])"
   ]
  },
  {
   "cell_type": "code",
   "execution_count": 103,
   "metadata": {},
   "outputs": [],
   "source": [
    "## We are coding up the 'School_Type' variable in an ordinal manner\n",
    "Football_data['School_Type']=np.where(Football_data['School_Type'] =='C', '1', Football_data['School_Type'])\n",
    "Football_data['School_Type']=np.where(Football_data['School_Type'] =='B', '2', Football_data['School_Type'])\n",
    "Football_data['School_Type']=np.where(Football_data['School_Type'] =='D', '3', Football_data['School_Type'])\n"
   ]
  },
  {
   "cell_type": "code",
   "execution_count": 104,
   "metadata": {},
   "outputs": [
    {
     "data": {
      "text/html": [
       "<div>\n",
       "<style scoped>\n",
       "    .dataframe tbody tr th:only-of-type {\n",
       "        vertical-align: middle;\n",
       "    }\n",
       "\n",
       "    .dataframe tbody tr th {\n",
       "        vertical-align: top;\n",
       "    }\n",
       "\n",
       "    .dataframe thead th {\n",
       "        text-align: right;\n",
       "    }\n",
       "</style>\n",
       "<table border=\"1\" class=\"dataframe\">\n",
       "  <thead>\n",
       "    <tr style=\"text-align: right;\">\n",
       "      <th></th>\n",
       "      <th>Academic_Score</th>\n",
       "      <th>Score_on_Plays_Made</th>\n",
       "      <th>Missed_Play_Score</th>\n",
       "      <th>Injury_Propensity</th>\n",
       "      <th>School_Type</th>\n",
       "      <th>School_Score</th>\n",
       "      <th>Overall_Score</th>\n",
       "      <th>Region</th>\n",
       "      <th>Scholarship</th>\n",
       "    </tr>\n",
       "  </thead>\n",
       "  <tbody>\n",
       "    <tr>\n",
       "      <td>0</td>\n",
       "      <td>7.0</td>\n",
       "      <td>0.27</td>\n",
       "      <td>0.36</td>\n",
       "      <td>4</td>\n",
       "      <td>3</td>\n",
       "      <td>0.45</td>\n",
       "      <td>8.8</td>\n",
       "      <td>1</td>\n",
       "      <td>0</td>\n",
       "    </tr>\n",
       "    <tr>\n",
       "      <td>1</td>\n",
       "      <td>6.3</td>\n",
       "      <td>0.30</td>\n",
       "      <td>0.34</td>\n",
       "      <td>1</td>\n",
       "      <td>1</td>\n",
       "      <td>0.49</td>\n",
       "      <td>9.5</td>\n",
       "      <td>1</td>\n",
       "      <td>0</td>\n",
       "    </tr>\n",
       "    <tr>\n",
       "      <td>2</td>\n",
       "      <td>8.1</td>\n",
       "      <td>0.28</td>\n",
       "      <td>0.40</td>\n",
       "      <td>3</td>\n",
       "      <td>1</td>\n",
       "      <td>0.44</td>\n",
       "      <td>10.1</td>\n",
       "      <td>1</td>\n",
       "      <td>0</td>\n",
       "    </tr>\n",
       "    <tr>\n",
       "      <td>3</td>\n",
       "      <td>7.2</td>\n",
       "      <td>0.23</td>\n",
       "      <td>0.32</td>\n",
       "      <td>3</td>\n",
       "      <td>1</td>\n",
       "      <td>0.40</td>\n",
       "      <td>9.9</td>\n",
       "      <td>1</td>\n",
       "      <td>0</td>\n",
       "    </tr>\n",
       "    <tr>\n",
       "      <td>6</td>\n",
       "      <td>6.2</td>\n",
       "      <td>0.32</td>\n",
       "      <td>0.16</td>\n",
       "      <td>3</td>\n",
       "      <td>1</td>\n",
       "      <td>0.47</td>\n",
       "      <td>9.6</td>\n",
       "      <td>1</td>\n",
       "      <td>1</td>\n",
       "    </tr>\n",
       "  </tbody>\n",
       "</table>\n",
       "</div>"
      ],
      "text/plain": [
       "   Academic_Score  Score_on_Plays_Made  Missed_Play_Score Injury_Propensity  \\\n",
       "0             7.0                 0.27               0.36                 4   \n",
       "1             6.3                 0.30               0.34                 1   \n",
       "2             8.1                 0.28               0.40                 3   \n",
       "3             7.2                 0.23               0.32                 3   \n",
       "6             6.2                 0.32               0.16                 3   \n",
       "\n",
       "  School_Type  School_Score  Overall_Score Region Scholarship  \n",
       "0           3          0.45            8.8      1           0  \n",
       "1           1          0.49            9.5      1           0  \n",
       "2           1          0.44           10.1      1           0  \n",
       "3           1          0.40            9.9      1           0  \n",
       "6           1          0.47            9.6      1           1  "
      ]
     },
     "execution_count": 104,
     "metadata": {},
     "output_type": "execute_result"
    }
   ],
   "source": [
    "Football_data.head()"
   ]
  },
  {
   "cell_type": "code",
   "execution_count": 105,
   "metadata": {},
   "outputs": [
    {
     "name": "stdout",
     "output_type": "stream",
     "text": [
      "<class 'pandas.core.frame.DataFrame'>\n",
      "Int64Index: 5268 entries, 0 to 6214\n",
      "Data columns (total 9 columns):\n",
      "Academic_Score         5268 non-null float64\n",
      "Score_on_Plays_Made    5268 non-null float64\n",
      "Missed_Play_Score      5268 non-null float64\n",
      "Injury_Propensity      5268 non-null object\n",
      "School_Type            5268 non-null object\n",
      "School_Score           5268 non-null float64\n",
      "Overall_Score          5268 non-null float64\n",
      "Region                 5268 non-null object\n",
      "Scholarship            5268 non-null object\n",
      "dtypes: float64(5), object(4)\n",
      "memory usage: 411.6+ KB\n"
     ]
    }
   ],
   "source": [
    "Football_data.info()"
   ]
  },
  {
   "cell_type": "code",
   "execution_count": 106,
   "metadata": {},
   "outputs": [
    {
     "name": "stdout",
     "output_type": "stream",
     "text": [
      "<class 'pandas.core.frame.DataFrame'>\n",
      "Int64Index: 5268 entries, 0 to 6214\n",
      "Data columns (total 9 columns):\n",
      "Academic_Score         5268 non-null float64\n",
      "Score_on_Plays_Made    5268 non-null float64\n",
      "Missed_Play_Score      5268 non-null float64\n",
      "Injury_Propensity      5268 non-null int64\n",
      "School_Type            5268 non-null int64\n",
      "School_Score           5268 non-null float64\n",
      "Overall_Score          5268 non-null float64\n",
      "Region                 5268 non-null int64\n",
      "Scholarship            5268 non-null object\n",
      "dtypes: float64(5), int64(3), object(1)\n",
      "memory usage: 411.6+ KB\n"
     ]
    }
   ],
   "source": [
    "## Converting the Injury propesity and overall_scorevariable to numeric\n",
    "\n",
    "Football_data['Injury_Propensity'] = Football_data['Injury_Propensity'].astype('int64')\n",
    "Football_data['Region'] = Football_data['Region'].astype('int64')\n",
    "Football_data['School_Type'] = Football_data['School_Type'].astype('int64')\n",
    "\n",
    "\n",
    "\n",
    "Football_data.info()"
   ]
  },
  {
   "cell_type": "code",
   "execution_count": 107,
   "metadata": {},
   "outputs": [],
   "source": [
    "## Converting the 'Scholarship' Variable into numeric by using the LabelEncoder functionality inside sklearn.\n",
    "from sklearn.preprocessing import LabelEncoder\n",
    "\n",
    "## Defining a Label Encoder object instance\n",
    "LE = LabelEncoder()"
   ]
  },
  {
   "cell_type": "code",
   "execution_count": 108,
   "metadata": {},
   "outputs": [
    {
     "data": {
      "text/html": [
       "<div>\n",
       "<style scoped>\n",
       "    .dataframe tbody tr th:only-of-type {\n",
       "        vertical-align: middle;\n",
       "    }\n",
       "\n",
       "    .dataframe tbody tr th {\n",
       "        vertical-align: top;\n",
       "    }\n",
       "\n",
       "    .dataframe thead th {\n",
       "        text-align: right;\n",
       "    }\n",
       "</style>\n",
       "<table border=\"1\" class=\"dataframe\">\n",
       "  <thead>\n",
       "    <tr style=\"text-align: right;\">\n",
       "      <th></th>\n",
       "      <th>Academic_Score</th>\n",
       "      <th>Score_on_Plays_Made</th>\n",
       "      <th>Missed_Play_Score</th>\n",
       "      <th>Injury_Propensity</th>\n",
       "      <th>School_Type</th>\n",
       "      <th>School_Score</th>\n",
       "      <th>Overall_Score</th>\n",
       "      <th>Region</th>\n",
       "      <th>Scholarship</th>\n",
       "    </tr>\n",
       "  </thead>\n",
       "  <tbody>\n",
       "    <tr>\n",
       "      <td>0</td>\n",
       "      <td>7.0</td>\n",
       "      <td>0.27</td>\n",
       "      <td>0.36</td>\n",
       "      <td>4</td>\n",
       "      <td>3</td>\n",
       "      <td>0.45</td>\n",
       "      <td>8.8</td>\n",
       "      <td>1</td>\n",
       "      <td>0</td>\n",
       "    </tr>\n",
       "    <tr>\n",
       "      <td>1</td>\n",
       "      <td>6.3</td>\n",
       "      <td>0.30</td>\n",
       "      <td>0.34</td>\n",
       "      <td>1</td>\n",
       "      <td>1</td>\n",
       "      <td>0.49</td>\n",
       "      <td>9.5</td>\n",
       "      <td>1</td>\n",
       "      <td>0</td>\n",
       "    </tr>\n",
       "    <tr>\n",
       "      <td>2</td>\n",
       "      <td>8.1</td>\n",
       "      <td>0.28</td>\n",
       "      <td>0.40</td>\n",
       "      <td>3</td>\n",
       "      <td>1</td>\n",
       "      <td>0.44</td>\n",
       "      <td>10.1</td>\n",
       "      <td>1</td>\n",
       "      <td>0</td>\n",
       "    </tr>\n",
       "    <tr>\n",
       "      <td>3</td>\n",
       "      <td>7.2</td>\n",
       "      <td>0.23</td>\n",
       "      <td>0.32</td>\n",
       "      <td>3</td>\n",
       "      <td>1</td>\n",
       "      <td>0.40</td>\n",
       "      <td>9.9</td>\n",
       "      <td>1</td>\n",
       "      <td>0</td>\n",
       "    </tr>\n",
       "    <tr>\n",
       "      <td>6</td>\n",
       "      <td>6.2</td>\n",
       "      <td>0.32</td>\n",
       "      <td>0.16</td>\n",
       "      <td>3</td>\n",
       "      <td>1</td>\n",
       "      <td>0.47</td>\n",
       "      <td>9.6</td>\n",
       "      <td>1</td>\n",
       "      <td>1</td>\n",
       "    </tr>\n",
       "  </tbody>\n",
       "</table>\n",
       "</div>"
      ],
      "text/plain": [
       "   Academic_Score  Score_on_Plays_Made  Missed_Play_Score  Injury_Propensity  \\\n",
       "0             7.0                 0.27               0.36                  4   \n",
       "1             6.3                 0.30               0.34                  1   \n",
       "2             8.1                 0.28               0.40                  3   \n",
       "3             7.2                 0.23               0.32                  3   \n",
       "6             6.2                 0.32               0.16                  3   \n",
       "\n",
       "   School_Type  School_Score  Overall_Score  Region  Scholarship  \n",
       "0            3          0.45            8.8       1            0  \n",
       "1            1          0.49            9.5       1            0  \n",
       "2            1          0.44           10.1       1            0  \n",
       "3            1          0.40            9.9       1            0  \n",
       "6            1          0.47            9.6       1            1  "
      ]
     },
     "execution_count": 108,
     "metadata": {},
     "output_type": "execute_result"
    }
   ],
   "source": [
    "## Applying the created Label Encoder object for the target class\n",
    "## Assigning the 0 to <=50k and 1 to >50k\n",
    "\n",
    "Football_data['Scholarship'] = LE.fit_transform(Football_data['Scholarship'])\n",
    "Football_data.head()"
   ]
  },
  {
   "cell_type": "code",
   "execution_count": 109,
   "metadata": {},
   "outputs": [
    {
     "name": "stdout",
     "output_type": "stream",
     "text": [
      "<class 'pandas.core.frame.DataFrame'>\n",
      "Int64Index: 5268 entries, 0 to 6214\n",
      "Data columns (total 9 columns):\n",
      "Academic_Score         5268 non-null float64\n",
      "Score_on_Plays_Made    5268 non-null float64\n",
      "Missed_Play_Score      5268 non-null float64\n",
      "Injury_Propensity      5268 non-null int64\n",
      "School_Type            5268 non-null int64\n",
      "School_Score           5268 non-null float64\n",
      "Overall_Score          5268 non-null float64\n",
      "Region                 5268 non-null int64\n",
      "Scholarship            5268 non-null int32\n",
      "dtypes: float64(5), int32(1), int64(3)\n",
      "memory usage: 391.0 KB\n"
     ]
    }
   ],
   "source": [
    "Football_data.info()"
   ]
  },
  {
   "cell_type": "code",
   "execution_count": 110,
   "metadata": {},
   "outputs": [
    {
     "data": {
      "text/html": [
       "<div>\n",
       "<style scoped>\n",
       "    .dataframe tbody tr th:only-of-type {\n",
       "        vertical-align: middle;\n",
       "    }\n",
       "\n",
       "    .dataframe tbody tr th {\n",
       "        vertical-align: top;\n",
       "    }\n",
       "\n",
       "    .dataframe thead th {\n",
       "        text-align: right;\n",
       "    }\n",
       "</style>\n",
       "<table border=\"1\" class=\"dataframe\">\n",
       "  <thead>\n",
       "    <tr style=\"text-align: right;\">\n",
       "      <th></th>\n",
       "      <th>Academic_Score</th>\n",
       "      <th>Score_on_Plays_Made</th>\n",
       "      <th>Missed_Play_Score</th>\n",
       "      <th>Injury_Propensity</th>\n",
       "      <th>School_Type</th>\n",
       "      <th>School_Score</th>\n",
       "      <th>Overall_Score</th>\n",
       "      <th>Region</th>\n",
       "      <th>Scholarship</th>\n",
       "    </tr>\n",
       "  </thead>\n",
       "  <tbody>\n",
       "    <tr>\n",
       "      <td>0</td>\n",
       "      <td>7.0</td>\n",
       "      <td>0.27</td>\n",
       "      <td>0.36</td>\n",
       "      <td>4</td>\n",
       "      <td>3</td>\n",
       "      <td>0.45</td>\n",
       "      <td>8.8</td>\n",
       "      <td>1</td>\n",
       "      <td>0</td>\n",
       "    </tr>\n",
       "    <tr>\n",
       "      <td>1</td>\n",
       "      <td>6.3</td>\n",
       "      <td>0.30</td>\n",
       "      <td>0.34</td>\n",
       "      <td>1</td>\n",
       "      <td>1</td>\n",
       "      <td>0.49</td>\n",
       "      <td>9.5</td>\n",
       "      <td>1</td>\n",
       "      <td>0</td>\n",
       "    </tr>\n",
       "    <tr>\n",
       "      <td>2</td>\n",
       "      <td>8.1</td>\n",
       "      <td>0.28</td>\n",
       "      <td>0.40</td>\n",
       "      <td>3</td>\n",
       "      <td>1</td>\n",
       "      <td>0.44</td>\n",
       "      <td>10.1</td>\n",
       "      <td>1</td>\n",
       "      <td>0</td>\n",
       "    </tr>\n",
       "    <tr>\n",
       "      <td>3</td>\n",
       "      <td>7.2</td>\n",
       "      <td>0.23</td>\n",
       "      <td>0.32</td>\n",
       "      <td>3</td>\n",
       "      <td>1</td>\n",
       "      <td>0.40</td>\n",
       "      <td>9.9</td>\n",
       "      <td>1</td>\n",
       "      <td>0</td>\n",
       "    </tr>\n",
       "    <tr>\n",
       "      <td>6</td>\n",
       "      <td>6.2</td>\n",
       "      <td>0.32</td>\n",
       "      <td>0.16</td>\n",
       "      <td>3</td>\n",
       "      <td>1</td>\n",
       "      <td>0.47</td>\n",
       "      <td>9.6</td>\n",
       "      <td>1</td>\n",
       "      <td>1</td>\n",
       "    </tr>\n",
       "  </tbody>\n",
       "</table>\n",
       "</div>"
      ],
      "text/plain": [
       "   Academic_Score  Score_on_Plays_Made  Missed_Play_Score  Injury_Propensity  \\\n",
       "0             7.0                 0.27               0.36                  4   \n",
       "1             6.3                 0.30               0.34                  1   \n",
       "2             8.1                 0.28               0.40                  3   \n",
       "3             7.2                 0.23               0.32                  3   \n",
       "6             6.2                 0.32               0.16                  3   \n",
       "\n",
       "   School_Type  School_Score  Overall_Score  Region  Scholarship  \n",
       "0            3          0.45            8.8       1            0  \n",
       "1            1          0.49            9.5       1            0  \n",
       "2            1          0.44           10.1       1            0  \n",
       "3            1          0.40            9.9       1            0  \n",
       "6            1          0.47            9.6       1            1  "
      ]
     },
     "execution_count": 110,
     "metadata": {},
     "output_type": "execute_result"
    }
   ],
   "source": [
    "## Converting the other 'object' type variables as dummy variables\n",
    "\n",
    "Football_data_dummy = pd.get_dummies(Football_data,drop_first=True)\n",
    "Football_data_dummy.head()"
   ]
  },
  {
   "cell_type": "code",
   "execution_count": 111,
   "metadata": {},
   "outputs": [
    {
     "name": "stdout",
     "output_type": "stream",
     "text": [
      "<class 'pandas.core.frame.DataFrame'>\n",
      "Int64Index: 5268 entries, 0 to 6214\n",
      "Data columns (total 9 columns):\n",
      "Academic_Score         5268 non-null float64\n",
      "Score_on_Plays_Made    5268 non-null float64\n",
      "Missed_Play_Score      5268 non-null float64\n",
      "Injury_Propensity      5268 non-null int64\n",
      "School_Type            5268 non-null int64\n",
      "School_Score           5268 non-null float64\n",
      "Overall_Score          5268 non-null float64\n",
      "Region                 5268 non-null int64\n",
      "Scholarship            5268 non-null int32\n",
      "dtypes: float64(5), int32(1), int64(3)\n",
      "memory usage: 391.0 KB\n"
     ]
    }
   ],
   "source": [
    "Football_data_dummy.info()"
   ]
  },
  {
   "cell_type": "markdown",
   "metadata": {},
   "source": [
    "## Building the Logistic Regression Model using all the variables on the full data and check the summary statistics of the model. Check for multicollinearity in the predictor variables using Variance Inflation Factor (VIF)."
   ]
  },
  {
   "cell_type": "code",
   "execution_count": 112,
   "metadata": {},
   "outputs": [],
   "source": [
    "import statsmodels.formula.api as sm"
   ]
  },
  {
   "cell_type": "code",
   "execution_count": 113,
   "metadata": {},
   "outputs": [
    {
     "data": {
      "text/plain": [
       "Index(['Academic_Score', 'Score_on_Plays_Made', 'Missed_Play_Score',\n",
       "       'Injury_Propensity', 'School_Type', 'School_Score', 'Overall_Score',\n",
       "       'Region', 'Scholarship'],\n",
       "      dtype='object')"
      ]
     },
     "execution_count": 113,
     "metadata": {},
     "output_type": "execute_result"
    }
   ],
   "source": [
    "Football_data_dummy.columns"
   ]
  },
  {
   "cell_type": "code",
   "execution_count": 114,
   "metadata": {},
   "outputs": [],
   "source": [
    "\n",
    "formula_1='Scholarship~Academic_Score+Score_on_Plays_Made+Missed_Play_Score+Injury_Propensity+School_Type+School_Score+Overall_Score+Region'"
   ]
  },
  {
   "cell_type": "code",
   "execution_count": 115,
   "metadata": {},
   "outputs": [
    {
     "name": "stdout",
     "output_type": "stream",
     "text": [
      "Optimization terminated successfully.\n",
      "         Current function value: 0.458771\n",
      "         Iterations 6\n"
     ]
    }
   ],
   "source": [
    "Logistic_1 = sm.logit(formula=formula_1,data=Football_data_dummy).fit()"
   ]
  },
  {
   "cell_type": "code",
   "execution_count": 116,
   "metadata": {},
   "outputs": [
    {
     "data": {
      "text/html": [
       "<table class=\"simpletable\">\n",
       "<caption>Logit Regression Results</caption>\n",
       "<tr>\n",
       "  <th>Dep. Variable:</th>      <td>Scholarship</td>   <th>  No. Observations:  </th>  <td>  5268</td> \n",
       "</tr>\n",
       "<tr>\n",
       "  <th>Model:</th>                 <td>Logit</td>      <th>  Df Residuals:      </th>  <td>  5259</td> \n",
       "</tr>\n",
       "<tr>\n",
       "  <th>Method:</th>                 <td>MLE</td>       <th>  Df Model:          </th>  <td>     8</td> \n",
       "</tr>\n",
       "<tr>\n",
       "  <th>Date:</th>            <td>Sun, 11 Apr 2021</td> <th>  Pseudo R-squ.:     </th>  <td>0.3018</td> \n",
       "</tr>\n",
       "<tr>\n",
       "  <th>Time:</th>                <td>10:37:47</td>     <th>  Log-Likelihood:    </th> <td> -2416.8</td>\n",
       "</tr>\n",
       "<tr>\n",
       "  <th>converged:</th>             <td>True</td>       <th>  LL-Null:           </th> <td> -3461.6</td>\n",
       "</tr>\n",
       "<tr>\n",
       "  <th>Covariance Type:</th>     <td>nonrobust</td>    <th>  LLR p-value:       </th>  <td> 0.000</td> \n",
       "</tr>\n",
       "</table>\n",
       "<table class=\"simpletable\">\n",
       "<tr>\n",
       "           <td></td>              <th>coef</th>     <th>std err</th>      <th>z</th>      <th>P>|z|</th>  <th>[0.025</th>    <th>0.975]</th>  \n",
       "</tr>\n",
       "<tr>\n",
       "  <th>Intercept</th>           <td>   -6.4414</td> <td>    0.510</td> <td>  -12.618</td> <td> 0.000</td> <td>   -7.442</td> <td>   -5.441</td>\n",
       "</tr>\n",
       "<tr>\n",
       "  <th>Academic_Score</th>      <td>    0.6234</td> <td>    0.040</td> <td>   15.601</td> <td> 0.000</td> <td>    0.545</td> <td>    0.702</td>\n",
       "</tr>\n",
       "<tr>\n",
       "  <th>Score_on_Plays_Made</th> <td>    6.0923</td> <td>    0.309</td> <td>   19.694</td> <td> 0.000</td> <td>    5.486</td> <td>    6.699</td>\n",
       "</tr>\n",
       "<tr>\n",
       "  <th>Missed_Play_Score</th>   <td>   -1.4698</td> <td>    0.338</td> <td>   -4.349</td> <td> 0.000</td> <td>   -2.132</td> <td>   -0.807</td>\n",
       "</tr>\n",
       "<tr>\n",
       "  <th>Injury_Propensity</th>   <td>   -0.3209</td> <td>    0.036</td> <td>   -8.893</td> <td> 0.000</td> <td>   -0.392</td> <td>   -0.250</td>\n",
       "</tr>\n",
       "<tr>\n",
       "  <th>School_Type</th>         <td>    0.0280</td> <td>    0.051</td> <td>    0.545</td> <td> 0.586</td> <td>   -0.073</td> <td>    0.129</td>\n",
       "</tr>\n",
       "<tr>\n",
       "  <th>School_Score</th>        <td>    3.9704</td> <td>    0.294</td> <td>   13.492</td> <td> 0.000</td> <td>    3.394</td> <td>    4.547</td>\n",
       "</tr>\n",
       "<tr>\n",
       "  <th>Overall_Score</th>       <td>   -0.1226</td> <td>    0.033</td> <td>   -3.706</td> <td> 0.000</td> <td>   -0.187</td> <td>   -0.058</td>\n",
       "</tr>\n",
       "<tr>\n",
       "  <th>Region</th>              <td>   -0.2260</td> <td>    0.044</td> <td>   -5.122</td> <td> 0.000</td> <td>   -0.312</td> <td>   -0.140</td>\n",
       "</tr>\n",
       "</table>"
      ],
      "text/plain": [
       "<class 'statsmodels.iolib.summary.Summary'>\n",
       "\"\"\"\n",
       "                           Logit Regression Results                           \n",
       "==============================================================================\n",
       "Dep. Variable:            Scholarship   No. Observations:                 5268\n",
       "Model:                          Logit   Df Residuals:                     5259\n",
       "Method:                           MLE   Df Model:                            8\n",
       "Date:                Sun, 11 Apr 2021   Pseudo R-squ.:                  0.3018\n",
       "Time:                        10:37:47   Log-Likelihood:                -2416.8\n",
       "converged:                       True   LL-Null:                       -3461.6\n",
       "Covariance Type:            nonrobust   LLR p-value:                     0.000\n",
       "=======================================================================================\n",
       "                          coef    std err          z      P>|z|      [0.025      0.975]\n",
       "---------------------------------------------------------------------------------------\n",
       "Intercept              -6.4414      0.510    -12.618      0.000      -7.442      -5.441\n",
       "Academic_Score          0.6234      0.040     15.601      0.000       0.545       0.702\n",
       "Score_on_Plays_Made     6.0923      0.309     19.694      0.000       5.486       6.699\n",
       "Missed_Play_Score      -1.4698      0.338     -4.349      0.000      -2.132      -0.807\n",
       "Injury_Propensity      -0.3209      0.036     -8.893      0.000      -0.392      -0.250\n",
       "School_Type             0.0280      0.051      0.545      0.586      -0.073       0.129\n",
       "School_Score            3.9704      0.294     13.492      0.000       3.394       4.547\n",
       "Overall_Score          -0.1226      0.033     -3.706      0.000      -0.187      -0.058\n",
       "Region                 -0.2260      0.044     -5.122      0.000      -0.312      -0.140\n",
       "=======================================================================================\n",
       "\"\"\""
      ]
     },
     "execution_count": 116,
     "metadata": {},
     "output_type": "execute_result"
    }
   ],
   "source": [
    "Logistic_1.summary()"
   ]
  },
  {
   "cell_type": "markdown",
   "metadata": {},
   "source": [
    "### Check for multicollinearity in the predictor variables using Variance Inflation Factor (VIF)."
   ]
  },
  {
   "cell_type": "code",
   "execution_count": 117,
   "metadata": {},
   "outputs": [],
   "source": [
    "def vif_cal(input_data):\n",
    "    x_vars=input_data\n",
    "    xvar_names=input_data.columns\n",
    "    for i in range(0,xvar_names.shape[0]):\n",
    "        y=x_vars[xvar_names[i]] \n",
    "        x=x_vars[xvar_names.drop(xvar_names[i])]\n",
    "        rsq=sm.ols(formula=\"y~x\", data=x_vars).fit().rsquared  \n",
    "        vif=round(1/(1-rsq),2)\n",
    "        print (xvar_names[i], \" VIF = \" , vif)"
   ]
  },
  {
   "cell_type": "code",
   "execution_count": 118,
   "metadata": {},
   "outputs": [
    {
     "name": "stdout",
     "output_type": "stream",
     "text": [
      "Academic_Score  VIF =  1.41\n",
      "Score_on_Plays_Made  VIF =  1.47\n",
      "Missed_Play_Score  VIF =  1.52\n",
      "Injury_Propensity  VIF =  1.26\n",
      "School_Type  VIF =  1.09\n",
      "School_Score  VIF =  1.19\n",
      "Overall_Score  VIF =  1.18\n",
      "Region  VIF =  1.05\n"
     ]
    }
   ],
   "source": [
    "vif_cal(input_data=Football_data_dummy.drop('Scholarship',axis=1))"
   ]
  },
  {
   "cell_type": "markdown",
   "metadata": {},
   "source": [
    "### Dropping the variable which is the most insignificant in the previous model. Build a second iteration of the model on the full data. Check the VIF values of the predictor variables."
   ]
  },
  {
   "cell_type": "code",
   "execution_count": 119,
   "metadata": {},
   "outputs": [],
   "source": [
    "\n",
    "formula_2='Scholarship~Academic_Score+Score_on_Plays_Made+Missed_Play_Score+Injury_Propensity+School_Type+School_Score+Overall_Score'"
   ]
  },
  {
   "cell_type": "code",
   "execution_count": 120,
   "metadata": {},
   "outputs": [
    {
     "name": "stdout",
     "output_type": "stream",
     "text": [
      "Optimization terminated successfully.\n",
      "         Current function value: 0.461286\n",
      "         Iterations 6\n"
     ]
    }
   ],
   "source": [
    "Logistic_2 = sm.logit(formula=formula_2,data=Football_data_dummy).fit()"
   ]
  },
  {
   "cell_type": "code",
   "execution_count": 121,
   "metadata": {},
   "outputs": [
    {
     "data": {
      "text/html": [
       "<table class=\"simpletable\">\n",
       "<caption>Logit Regression Results</caption>\n",
       "<tr>\n",
       "  <th>Dep. Variable:</th>      <td>Scholarship</td>   <th>  No. Observations:  </th>  <td>  5268</td> \n",
       "</tr>\n",
       "<tr>\n",
       "  <th>Model:</th>                 <td>Logit</td>      <th>  Df Residuals:      </th>  <td>  5260</td> \n",
       "</tr>\n",
       "<tr>\n",
       "  <th>Method:</th>                 <td>MLE</td>       <th>  Df Model:          </th>  <td>     7</td> \n",
       "</tr>\n",
       "<tr>\n",
       "  <th>Date:</th>            <td>Sun, 11 Apr 2021</td> <th>  Pseudo R-squ.:     </th>  <td>0.2980</td> \n",
       "</tr>\n",
       "<tr>\n",
       "  <th>Time:</th>                <td>10:39:34</td>     <th>  Log-Likelihood:    </th> <td> -2430.1</td>\n",
       "</tr>\n",
       "<tr>\n",
       "  <th>converged:</th>             <td>True</td>       <th>  LL-Null:           </th> <td> -3461.6</td>\n",
       "</tr>\n",
       "<tr>\n",
       "  <th>Covariance Type:</th>     <td>nonrobust</td>    <th>  LLR p-value:       </th>  <td> 0.000</td> \n",
       "</tr>\n",
       "</table>\n",
       "<table class=\"simpletable\">\n",
       "<tr>\n",
       "           <td></td>              <th>coef</th>     <th>std err</th>      <th>z</th>      <th>P>|z|</th>  <th>[0.025</th>    <th>0.975]</th>  \n",
       "</tr>\n",
       "<tr>\n",
       "  <th>Intercept</th>           <td>   -7.1088</td> <td>    0.496</td> <td>  -14.325</td> <td> 0.000</td> <td>   -8.081</td> <td>   -6.136</td>\n",
       "</tr>\n",
       "<tr>\n",
       "  <th>Academic_Score</th>      <td>    0.6205</td> <td>    0.040</td> <td>   15.573</td> <td> 0.000</td> <td>    0.542</td> <td>    0.699</td>\n",
       "</tr>\n",
       "<tr>\n",
       "  <th>Score_on_Plays_Made</th> <td>    5.9444</td> <td>    0.306</td> <td>   19.432</td> <td> 0.000</td> <td>    5.345</td> <td>    6.544</td>\n",
       "</tr>\n",
       "<tr>\n",
       "  <th>Missed_Play_Score</th>   <td>   -1.5105</td> <td>    0.336</td> <td>   -4.501</td> <td> 0.000</td> <td>   -2.168</td> <td>   -0.853</td>\n",
       "</tr>\n",
       "<tr>\n",
       "  <th>Injury_Propensity</th>   <td>   -0.3237</td> <td>    0.036</td> <td>   -8.971</td> <td> 0.000</td> <td>   -0.394</td> <td>   -0.253</td>\n",
       "</tr>\n",
       "<tr>\n",
       "  <th>School_Type</th>         <td>    0.0302</td> <td>    0.051</td> <td>    0.588</td> <td> 0.556</td> <td>   -0.070</td> <td>    0.131</td>\n",
       "</tr>\n",
       "<tr>\n",
       "  <th>School_Score</th>        <td>    4.0196</td> <td>    0.294</td> <td>   13.669</td> <td> 0.000</td> <td>    3.443</td> <td>    4.596</td>\n",
       "</tr>\n",
       "<tr>\n",
       "  <th>Overall_Score</th>       <td>   -0.0929</td> <td>    0.032</td> <td>   -2.860</td> <td> 0.004</td> <td>   -0.157</td> <td>   -0.029</td>\n",
       "</tr>\n",
       "</table>"
      ],
      "text/plain": [
       "<class 'statsmodels.iolib.summary.Summary'>\n",
       "\"\"\"\n",
       "                           Logit Regression Results                           \n",
       "==============================================================================\n",
       "Dep. Variable:            Scholarship   No. Observations:                 5268\n",
       "Model:                          Logit   Df Residuals:                     5260\n",
       "Method:                           MLE   Df Model:                            7\n",
       "Date:                Sun, 11 Apr 2021   Pseudo R-squ.:                  0.2980\n",
       "Time:                        10:39:34   Log-Likelihood:                -2430.1\n",
       "converged:                       True   LL-Null:                       -3461.6\n",
       "Covariance Type:            nonrobust   LLR p-value:                     0.000\n",
       "=======================================================================================\n",
       "                          coef    std err          z      P>|z|      [0.025      0.975]\n",
       "---------------------------------------------------------------------------------------\n",
       "Intercept              -7.1088      0.496    -14.325      0.000      -8.081      -6.136\n",
       "Academic_Score          0.6205      0.040     15.573      0.000       0.542       0.699\n",
       "Score_on_Plays_Made     5.9444      0.306     19.432      0.000       5.345       6.544\n",
       "Missed_Play_Score      -1.5105      0.336     -4.501      0.000      -2.168      -0.853\n",
       "Injury_Propensity      -0.3237      0.036     -8.971      0.000      -0.394      -0.253\n",
       "School_Type             0.0302      0.051      0.588      0.556      -0.070       0.131\n",
       "School_Score            4.0196      0.294     13.669      0.000       3.443       4.596\n",
       "Overall_Score          -0.0929      0.032     -2.860      0.004      -0.157      -0.029\n",
       "=======================================================================================\n",
       "\"\"\""
      ]
     },
     "execution_count": 121,
     "metadata": {},
     "output_type": "execute_result"
    }
   ],
   "source": [
    "Logistic_2.summary()"
   ]
  },
  {
   "cell_type": "code",
   "execution_count": 122,
   "metadata": {},
   "outputs": [
    {
     "name": "stdout",
     "output_type": "stream",
     "text": [
      "Academic_Score  VIF =  1.41\n",
      "Score_on_Plays_Made  VIF =  1.46\n",
      "Missed_Play_Score  VIF =  1.51\n",
      "Injury_Propensity  VIF =  1.26\n",
      "School_Type  VIF =  1.09\n",
      "School_Score  VIF =  1.18\n",
      "Overall_Score  VIF =  1.15\n"
     ]
    }
   ],
   "source": [
    "vif_cal(input_data=Football_data_dummy.drop(['Scholarship','Region'],axis=1))"
   ]
  },
  {
   "cell_type": "markdown",
   "metadata": {},
   "source": [
    "## Model 3"
   ]
  },
  {
   "cell_type": "code",
   "execution_count": 123,
   "metadata": {},
   "outputs": [],
   "source": [
    "\n",
    "formula_3='Scholarship~Academic_Score+Score_on_Plays_Made+Missed_Play_Score+Injury_Propensity+School_Score+Overall_Score'"
   ]
  },
  {
   "cell_type": "code",
   "execution_count": 124,
   "metadata": {},
   "outputs": [
    {
     "name": "stdout",
     "output_type": "stream",
     "text": [
      "Optimization terminated successfully.\n",
      "         Current function value: 0.461319\n",
      "         Iterations 6\n"
     ]
    }
   ],
   "source": [
    "Logistic_3 = sm.logit(formula=formula_3,data=Football_data_dummy).fit()"
   ]
  },
  {
   "cell_type": "code",
   "execution_count": 125,
   "metadata": {},
   "outputs": [
    {
     "data": {
      "text/html": [
       "<table class=\"simpletable\">\n",
       "<caption>Logit Regression Results</caption>\n",
       "<tr>\n",
       "  <th>Dep. Variable:</th>      <td>Scholarship</td>   <th>  No. Observations:  </th>  <td>  5268</td> \n",
       "</tr>\n",
       "<tr>\n",
       "  <th>Model:</th>                 <td>Logit</td>      <th>  Df Residuals:      </th>  <td>  5261</td> \n",
       "</tr>\n",
       "<tr>\n",
       "  <th>Method:</th>                 <td>MLE</td>       <th>  Df Model:          </th>  <td>     6</td> \n",
       "</tr>\n",
       "<tr>\n",
       "  <th>Date:</th>            <td>Sun, 11 Apr 2021</td> <th>  Pseudo R-squ.:     </th>  <td>0.2979</td> \n",
       "</tr>\n",
       "<tr>\n",
       "  <th>Time:</th>                <td>10:40:17</td>     <th>  Log-Likelihood:    </th> <td> -2430.2</td>\n",
       "</tr>\n",
       "<tr>\n",
       "  <th>converged:</th>             <td>True</td>       <th>  LL-Null:           </th> <td> -3461.6</td>\n",
       "</tr>\n",
       "<tr>\n",
       "  <th>Covariance Type:</th>     <td>nonrobust</td>    <th>  LLR p-value:       </th>  <td> 0.000</td> \n",
       "</tr>\n",
       "</table>\n",
       "<table class=\"simpletable\">\n",
       "<tr>\n",
       "           <td></td>              <th>coef</th>     <th>std err</th>      <th>z</th>      <th>P>|z|</th>  <th>[0.025</th>    <th>0.975]</th>  \n",
       "</tr>\n",
       "<tr>\n",
       "  <th>Intercept</th>           <td>   -7.1187</td> <td>    0.496</td> <td>  -14.356</td> <td> 0.000</td> <td>   -8.091</td> <td>   -6.147</td>\n",
       "</tr>\n",
       "<tr>\n",
       "  <th>Academic_Score</th>      <td>    0.6221</td> <td>    0.040</td> <td>   15.659</td> <td> 0.000</td> <td>    0.544</td> <td>    0.700</td>\n",
       "</tr>\n",
       "<tr>\n",
       "  <th>Score_on_Plays_Made</th> <td>    5.9508</td> <td>    0.306</td> <td>   19.467</td> <td> 0.000</td> <td>    5.352</td> <td>    6.550</td>\n",
       "</tr>\n",
       "<tr>\n",
       "  <th>Missed_Play_Score</th>   <td>   -1.4848</td> <td>    0.333</td> <td>   -4.464</td> <td> 0.000</td> <td>   -2.137</td> <td>   -0.833</td>\n",
       "</tr>\n",
       "<tr>\n",
       "  <th>Injury_Propensity</th>   <td>   -0.3189</td> <td>    0.035</td> <td>   -9.077</td> <td> 0.000</td> <td>   -0.388</td> <td>   -0.250</td>\n",
       "</tr>\n",
       "<tr>\n",
       "  <th>School_Score</th>        <td>    4.0254</td> <td>    0.294</td> <td>   13.694</td> <td> 0.000</td> <td>    3.449</td> <td>    4.601</td>\n",
       "</tr>\n",
       "<tr>\n",
       "  <th>Overall_Score</th>       <td>   -0.0907</td> <td>    0.032</td> <td>   -2.811</td> <td> 0.005</td> <td>   -0.154</td> <td>   -0.027</td>\n",
       "</tr>\n",
       "</table>"
      ],
      "text/plain": [
       "<class 'statsmodels.iolib.summary.Summary'>\n",
       "\"\"\"\n",
       "                           Logit Regression Results                           \n",
       "==============================================================================\n",
       "Dep. Variable:            Scholarship   No. Observations:                 5268\n",
       "Model:                          Logit   Df Residuals:                     5261\n",
       "Method:                           MLE   Df Model:                            6\n",
       "Date:                Sun, 11 Apr 2021   Pseudo R-squ.:                  0.2979\n",
       "Time:                        10:40:17   Log-Likelihood:                -2430.2\n",
       "converged:                       True   LL-Null:                       -3461.6\n",
       "Covariance Type:            nonrobust   LLR p-value:                     0.000\n",
       "=======================================================================================\n",
       "                          coef    std err          z      P>|z|      [0.025      0.975]\n",
       "---------------------------------------------------------------------------------------\n",
       "Intercept              -7.1187      0.496    -14.356      0.000      -8.091      -6.147\n",
       "Academic_Score          0.6221      0.040     15.659      0.000       0.544       0.700\n",
       "Score_on_Plays_Made     5.9508      0.306     19.467      0.000       5.352       6.550\n",
       "Missed_Play_Score      -1.4848      0.333     -4.464      0.000      -2.137      -0.833\n",
       "Injury_Propensity      -0.3189      0.035     -9.077      0.000      -0.388      -0.250\n",
       "School_Score            4.0254      0.294     13.694      0.000       3.449       4.601\n",
       "Overall_Score          -0.0907      0.032     -2.811      0.005      -0.154      -0.027\n",
       "=======================================================================================\n",
       "\"\"\""
      ]
     },
     "execution_count": 125,
     "metadata": {},
     "output_type": "execute_result"
    }
   ],
   "source": [
    "Logistic_3.summary()"
   ]
  },
  {
   "cell_type": "code",
   "execution_count": 126,
   "metadata": {},
   "outputs": [
    {
     "name": "stdout",
     "output_type": "stream",
     "text": [
      "Academic_Score  VIF =  1.39\n",
      "Score_on_Plays_Made  VIF =  1.46\n",
      "Missed_Play_Score  VIF =  1.49\n",
      "Injury_Propensity  VIF =  1.22\n",
      "School_Score  VIF =  1.18\n",
      "Overall_Score  VIF =  1.14\n"
     ]
    }
   ],
   "source": [
    "vif_cal(input_data=Football_data_dummy.drop(['Scholarship','Region','School_Type'],axis=1))"
   ]
  },
  {
   "cell_type": "markdown",
   "metadata": {},
   "source": [
    "## 3. Split the data into training (70%) and test (30%). Build the various iterations of the Linear Regression models on the training data and use those models to predict on the test data using appropriate model evaluation metrics."
   ]
  },
  {
   "cell_type": "markdown",
   "metadata": {},
   "source": [
    "#### Splitting the data into training (70%) and test (30%) in such a way that the uniformity in the training as well as test is maintained every time the code is run. Check the whether the proportion of the different classes within the target variable is same across train and test."
   ]
  },
  {
   "cell_type": "code",
   "execution_count": 128,
   "metadata": {},
   "outputs": [],
   "source": [
    "from sklearn.model_selection import train_test_split"
   ]
  },
  {
   "cell_type": "code",
   "execution_count": 129,
   "metadata": {},
   "outputs": [],
   "source": [
    "Train,Test = train_test_split(Football_data_dummy,test_size=0.3,random_state=1,stratify=Football_data_dummy['Scholarship'])"
   ]
  },
  {
   "cell_type": "code",
   "execution_count": 130,
   "metadata": {},
   "outputs": [
    {
     "data": {
      "text/plain": [
       "(3687, 9)"
      ]
     },
     "execution_count": 130,
     "metadata": {},
     "output_type": "execute_result"
    }
   ],
   "source": [
    "Train.shape"
   ]
  },
  {
   "cell_type": "code",
   "execution_count": 131,
   "metadata": {},
   "outputs": [
    {
     "data": {
      "text/plain": [
       "(1581, 9)"
      ]
     },
     "execution_count": 131,
     "metadata": {},
     "output_type": "execute_result"
    }
   ],
   "source": [
    "Test.shape"
   ]
  },
  {
   "cell_type": "code",
   "execution_count": 132,
   "metadata": {},
   "outputs": [
    {
     "data": {
      "text/plain": [
       "0    0.633577\n",
       "1    0.366423\n",
       "Name: Scholarship, dtype: float64"
      ]
     },
     "execution_count": 132,
     "metadata": {},
     "output_type": "execute_result"
    }
   ],
   "source": [
    "Train['Scholarship'].value_counts(1)"
   ]
  },
  {
   "cell_type": "code",
   "execution_count": 133,
   "metadata": {},
   "outputs": [
    {
     "data": {
      "text/plain": [
       "0    0.633144\n",
       "1    0.366856\n",
       "Name: Scholarship, dtype: float64"
      ]
     },
     "execution_count": 133,
     "metadata": {},
     "output_type": "execute_result"
    }
   ],
   "source": [
    "Test['Scholarship'].value_counts(1)"
   ]
  },
  {
   "cell_type": "markdown",
   "metadata": {},
   "source": [
    "# Build the models 1 and 2 on the training data, check the accuracy score of each of the models on the training data and use those models to predict the classes and the corresponding probabilities on the test data. "
   ]
  },
  {
   "cell_type": "code",
   "execution_count": 135,
   "metadata": {},
   "outputs": [],
   "source": [
    "from sklearn.linear_model import LogisticRegression"
   ]
  },
  {
   "cell_type": "code",
   "execution_count": 136,
   "metadata": {},
   "outputs": [],
   "source": [
    "LR = LogisticRegression(solver='newton-cg',penalty='none')"
   ]
  },
  {
   "cell_type": "markdown",
   "metadata": {},
   "source": [
    "### Model 1 - Building the model on the Training Data and checking the Accuracy score on the training data."
   ]
  },
  {
   "cell_type": "code",
   "execution_count": 137,
   "metadata": {},
   "outputs": [],
   "source": [
    "model_1 = LR.fit(Train[['Academic_Score','Score_on_Plays_Made','Missed_Play_Score','Injury_Propensity','School_Type','School_Score','Overall_Score','Region']],Train['Scholarship'])\n"
   ]
  },
  {
   "cell_type": "code",
   "execution_count": 138,
   "metadata": {},
   "outputs": [
    {
     "name": "stdout",
     "output_type": "stream",
     "text": [
      "Accuracy Score of Model 1: 0.8310279359913209\n"
     ]
    }
   ],
   "source": [
    "\n",
    "print('Accuracy Score of Model 1:',model_1.score(Train[['Academic_Score','Score_on_Plays_Made','Missed_Play_Score','Injury_Propensity','School_Type','School_Score','Overall_Score','Region']],Train['Scholarship']))"
   ]
  },
  {
   "cell_type": "markdown",
   "metadata": {},
   "source": [
    "### Model 1 - Predicting the classes and the probabilities on the Test Data"
   ]
  },
  {
   "cell_type": "code",
   "execution_count": 139,
   "metadata": {},
   "outputs": [],
   "source": [
    "model_1_test_class = model_1.predict(Test[['Academic_Score','Score_on_Plays_Made','Missed_Play_Score','Injury_Propensity','School_Type','School_Score','Overall_Score','Region']])\n",
    "model_1_test_probabilities = model_1.predict_proba(Test[['Academic_Score','Score_on_Plays_Made','Missed_Play_Score','Injury_Propensity','School_Type','School_Score','Overall_Score','Region']])"
   ]
  },
  {
   "cell_type": "markdown",
   "metadata": {},
   "source": [
    "### Model 2 - Building the model on the Training Data and checking the Accuracy score on the training data."
   ]
  },
  {
   "cell_type": "code",
   "execution_count": 140,
   "metadata": {},
   "outputs": [],
   "source": [
    "\n",
    "model_2 = LR.fit(Train[['Academic_Score','Score_on_Plays_Made','Missed_Play_Score','Injury_Propensity','School_Type','School_Score','Overall_Score']],Train['Scholarship'])"
   ]
  },
  {
   "cell_type": "code",
   "execution_count": 141,
   "metadata": {},
   "outputs": [
    {
     "name": "stdout",
     "output_type": "stream",
     "text": [
      "Accuracy Score of Model 2: 0.8258746948738812\n"
     ]
    }
   ],
   "source": [
    "\n",
    "print('Accuracy Score of Model 2:',model_2.score(Train[['Academic_Score','Score_on_Plays_Made','Missed_Play_Score','Injury_Propensity','School_Type','School_Score','Overall_Score']],Train['Scholarship']))"
   ]
  },
  {
   "cell_type": "markdown",
   "metadata": {},
   "source": [
    "### Model 2 - Predicting the classes and the probabilities on the Test Data"
   ]
  },
  {
   "cell_type": "code",
   "execution_count": 142,
   "metadata": {},
   "outputs": [],
   "source": [
    "\n",
    "model_2_test_class = model_2.predict(Test[['Academic_Score','Score_on_Plays_Made','Missed_Play_Score','Injury_Propensity','School_Type','School_Score','Overall_Score']])\n",
    "model_2_test_probabilities = model_2.predict_proba(Test[['Academic_Score','Score_on_Plays_Made','Missed_Play_Score','Injury_Propensity','School_Type','School_Score','Overall_Score']])"
   ]
  },
  {
   "cell_type": "markdown",
   "metadata": {},
   "source": [
    "### Model 3 - Building the model on the Training Data and checking the Accuracy score on the training data."
   ]
  },
  {
   "cell_type": "code",
   "execution_count": 143,
   "metadata": {},
   "outputs": [],
   "source": [
    "\n",
    "model_3 = LR.fit(Train[['Academic_Score','Score_on_Plays_Made','Missed_Play_Score','Injury_Propensity','School_Score','Overall_Score']],Train['Scholarship'])"
   ]
  },
  {
   "cell_type": "code",
   "execution_count": 144,
   "metadata": {},
   "outputs": [
    {
     "name": "stdout",
     "output_type": "stream",
     "text": [
      "Accuracy Score of Model 3: 0.8266883645240033\n"
     ]
    }
   ],
   "source": [
    "\n",
    "print('Accuracy Score of Model 3:',model_3.score(Train[['Academic_Score','Score_on_Plays_Made','Missed_Play_Score','Injury_Propensity','School_Score','Overall_Score']],Train['Scholarship']))"
   ]
  },
  {
   "cell_type": "markdown",
   "metadata": {},
   "source": [
    "### Model 3 - Predicting the classes and the probabilities on the Test Data"
   ]
  },
  {
   "cell_type": "code",
   "execution_count": 145,
   "metadata": {},
   "outputs": [],
   "source": [
    "\n",
    "model_3_test_class = model_3.predict(Test[['Academic_Score','Score_on_Plays_Made','Missed_Play_Score','Injury_Propensity','School_Score','Overall_Score']])\n",
    "model_3_test_probabilities = model_3.predict_proba(Test[['Academic_Score','Score_on_Plays_Made','Missed_Play_Score','Injury_Propensity','School_Score','Overall_Score']])"
   ]
  },
  {
   "cell_type": "markdown",
   "metadata": {},
   "source": [
    "## Interpret Logistic Model - Using Sklearn Model\n",
    "\n",
    "Estimated Regression Equation:\n",
    "logit (p) = βo + β1 x1\n",
    "\n",
    "odds ration is = exp(coef(model_3))\n",
    "\n",
    "Probability of an even happening = exp(coef(model_3))/(1+exp(coef(model_3)))"
   ]
  },
  {
   "cell_type": "code",
   "execution_count": 146,
   "metadata": {},
   "outputs": [],
   "source": [
    "\n",
    "final_train= Train[['Academic_Score','Score_on_Plays_Made','Missed_Play_Score','Injury_Propensity','School_Score','Overall_Score']]"
   ]
  },
  {
   "cell_type": "code",
   "execution_count": 147,
   "metadata": {},
   "outputs": [
    {
     "data": {
      "text/html": [
       "<div>\n",
       "<style scoped>\n",
       "    .dataframe tbody tr th:only-of-type {\n",
       "        vertical-align: middle;\n",
       "    }\n",
       "\n",
       "    .dataframe tbody tr th {\n",
       "        vertical-align: top;\n",
       "    }\n",
       "\n",
       "    .dataframe thead th {\n",
       "        text-align: right;\n",
       "    }\n",
       "</style>\n",
       "<table border=\"1\" class=\"dataframe\">\n",
       "  <thead>\n",
       "    <tr style=\"text-align: right;\">\n",
       "      <th></th>\n",
       "      <th>odds_ratio</th>\n",
       "      <th>Probability</th>\n",
       "      <th>variable</th>\n",
       "    </tr>\n",
       "  </thead>\n",
       "  <tbody>\n",
       "    <tr>\n",
       "      <td>1</td>\n",
       "      <td>435.353941</td>\n",
       "      <td>[0.9977082824173269]</td>\n",
       "      <td>Score_on_Plays_Made</td>\n",
       "    </tr>\n",
       "    <tr>\n",
       "      <td>4</td>\n",
       "      <td>65.422581</td>\n",
       "      <td>[0.9849448788165032]</td>\n",
       "      <td>School_Score</td>\n",
       "    </tr>\n",
       "    <tr>\n",
       "      <td>0</td>\n",
       "      <td>1.838213</td>\n",
       "      <td>[0.6476655846410909]</td>\n",
       "      <td>Academic_Score</td>\n",
       "    </tr>\n",
       "    <tr>\n",
       "      <td>5</td>\n",
       "      <td>0.899330</td>\n",
       "      <td>[0.47349859399795574]</td>\n",
       "      <td>Overall_Score</td>\n",
       "    </tr>\n",
       "    <tr>\n",
       "      <td>3</td>\n",
       "      <td>0.726357</td>\n",
       "      <td>[0.4207455839149228]</td>\n",
       "      <td>Injury_Propensity</td>\n",
       "    </tr>\n",
       "    <tr>\n",
       "      <td>2</td>\n",
       "      <td>0.254235</td>\n",
       "      <td>[0.20270096026146872]</td>\n",
       "      <td>Missed_Play_Score</td>\n",
       "    </tr>\n",
       "  </tbody>\n",
       "</table>\n",
       "</div>"
      ],
      "text/plain": [
       "   odds_ratio            Probability             variable\n",
       "1  435.353941   [0.9977082824173269]  Score_on_Plays_Made\n",
       "4   65.422581   [0.9849448788165032]         School_Score\n",
       "0    1.838213   [0.6476655846410909]       Academic_Score\n",
       "5    0.899330  [0.47349859399795574]        Overall_Score\n",
       "3    0.726357   [0.4207455839149228]    Injury_Propensity\n",
       "2    0.254235  [0.20270096026146872]    Missed_Play_Score"
      ]
     },
     "execution_count": 147,
     "metadata": {},
     "output_type": "execute_result"
    }
   ],
   "source": [
    "df=pd.DataFrame({'odds_ratio':(np.exp(model_3.coef_).T).tolist(),'Probability':(np.exp(model_3.coef_)/(1+np.exp(model_3.coef_))).T.tolist()  ,'variable':final_train.columns.tolist()})\n",
    "df['odds_ratio'] = df['odds_ratio'].str.get(0)\n",
    "\n",
    "df=df.sort_values('odds_ratio', ascending=False)\n",
    "df"
   ]
  },
  {
   "cell_type": "code",
   "execution_count": 148,
   "metadata": {},
   "outputs": [
    {
     "name": "stdout",
     "output_type": "stream",
     "text": [
      "                             5%         95%  Odds Ratio\n",
      "Intercept              0.000306    0.002140    0.000810\n",
      "Academic_Score         1.723305    2.013696    1.862851\n",
      "Score_on_Plays_Made  210.965122  699.214782  384.070217\n",
      "Missed_Play_Score      0.118045    0.434766    0.226544\n",
      "Injury_Propensity      0.678583    0.778770    0.726953\n",
      "School_Score          31.476427   99.631529   56.000398\n",
      "Overall_Score          0.857269    0.972914    0.913262\n"
     ]
    }
   ],
   "source": [
    "## using statsmodel library\n",
    "\n",
    "params = Logistic_3.params\n",
    "conf = Logistic_3.conf_int()\n",
    "conf['Odds Ratio'] = params\n",
    "conf.columns = ['5%', '95%', 'Odds Ratio']\n",
    "print(np.exp(conf))"
   ]
  },
  {
   "cell_type": "markdown",
   "metadata": {},
   "source": [
    "## Evaluating the three models on the test data using the various statistics of the confusion matrix."
   ]
  },
  {
   "cell_type": "code",
   "execution_count": 149,
   "metadata": {},
   "outputs": [],
   "source": [
    "from sklearn import metrics"
   ]
  },
  {
   "cell_type": "markdown",
   "metadata": {},
   "source": [
    "### Confusion Matrix summary statistics Evaluation on the Test Data"
   ]
  },
  {
   "cell_type": "code",
   "execution_count": 150,
   "metadata": {},
   "outputs": [],
   "source": [
    "from pylab import rcParams\n",
    "rcParams['figure.figsize'] = 15,4"
   ]
  },
  {
   "cell_type": "code",
   "execution_count": 151,
   "metadata": {},
   "outputs": [
    {
     "data": {
      "image/png": "[encoded data removed]",
      "text/plain": [
       "<Figure size 1080x288 with 6 Axes>"
      ]
     },
     "metadata": {
      "needs_background": "light"
     },
     "output_type": "display_data"
    }
   ],
   "source": [
    "f,a =  plt.subplots(1,3,sharex=True,sharey=True,squeeze=False)\n",
    "\n",
    "#Plotting confusion matrix for the different models for the Training Data\n",
    "\n",
    "plot_0 = sns.heatmap((metrics.confusion_matrix(Test['Scholarship'],model_1_test_class)),annot=True,fmt='.5g',cmap='Greys',ax=a[0][0]);\n",
    "a[0][0].set_title('Model_1')\n",
    "\n",
    "plot_1 = sns.heatmap((metrics.confusion_matrix(Test['Scholarship'],model_2_test_class)),annot=True,fmt='.5g',cmap='Greys',ax=a[0][1]);\n",
    "a[0][1].set_title('Model 2');\n",
    "\n",
    "plot_1 = sns.heatmap((metrics.confusion_matrix(Test['Scholarship'],model_3_test_class)),annot=True,fmt='.5g',cmap='Greys',ax=a[0][2]);\n",
    "a[0][2].set_title('Model 3');"
   ]
  },
  {
   "cell_type": "code",
   "execution_count": 152,
   "metadata": {},
   "outputs": [
    {
     "name": "stdout",
     "output_type": "stream",
     "text": [
      "Model 1\n",
      "True Negative: 935 \n",
      "False Positives: 66 \n",
      "False Negatives: 214 \n",
      "True Positives: 366 \n",
      "\n",
      "\n",
      "Model 2\n",
      "True Negative: 928 \n",
      "False Positives: 73 \n",
      "False Negatives: 210 \n",
      "True Positives: 370 \n",
      "\n",
      "\n",
      "Model 3\n",
      "True Negative: 930 \n",
      "False Positives: 71 \n",
      "False Negatives: 212 \n",
      "True Positives: 368\n"
     ]
    }
   ],
   "source": [
    "print('Model 1')\n",
    "tn, fp, fn, tp = metrics.confusion_matrix(Test['Scholarship'],model_1_test_class).ravel()\n",
    "print('True Negative:',tn,'\\n''False Positives:' ,fp,'\\n''False Negatives:', fn,'\\n''True Positives:', tp,'\\n\\n')\n",
    "\n",
    "print('Model 2')\n",
    "tn, fp, fn, tp = metrics.confusion_matrix(Test['Scholarship'],model_2_test_class).ravel()\n",
    "print('True Negative:',tn,'\\n''False Positives:' ,fp,'\\n''False Negatives:', fn,'\\n''True Positives:', tp,'\\n\\n')\n",
    "\n",
    "print('Model 3')\n",
    "tn, fp, fn, tp = metrics.confusion_matrix(Test['Scholarship'],model_3_test_class).ravel()\n",
    "print('True Negative:',tn,'\\n''False Positives:' ,fp,'\\n''False Negatives:', fn,'\\n''True Positives:', tp)"
   ]
  },
  {
   "cell_type": "code",
   "execution_count": 153,
   "metadata": {},
   "outputs": [
    {
     "name": "stdout",
     "output_type": "stream",
     "text": [
      "Model 1\n",
      "              precision    recall  f1-score   support\n",
      "\n",
      "           0       0.81      0.93      0.87      1001\n",
      "           1       0.85      0.63      0.72       580\n",
      "\n",
      "    accuracy                           0.82      1581\n",
      "   macro avg       0.83      0.78      0.80      1581\n",
      "weighted avg       0.83      0.82      0.82      1581\n",
      " \n",
      "\n",
      "Model 2\n",
      "              precision    recall  f1-score   support\n",
      "\n",
      "           0       0.82      0.93      0.87      1001\n",
      "           1       0.84      0.64      0.72       580\n",
      "\n",
      "    accuracy                           0.82      1581\n",
      "   macro avg       0.83      0.78      0.80      1581\n",
      "weighted avg       0.82      0.82      0.81      1581\n",
      " \n",
      "\n",
      "Model 3\n",
      "              precision    recall  f1-score   support\n",
      "\n",
      "           0       0.81      0.93      0.87      1001\n",
      "           1       0.84      0.63      0.72       580\n",
      "\n",
      "    accuracy                           0.82      1581\n",
      "   macro avg       0.83      0.78      0.80      1581\n",
      "weighted avg       0.82      0.82      0.81      1581\n",
      "\n"
     ]
    }
   ],
   "source": [
    "print('Model 1')\n",
    "print(metrics.classification_report(Test['Scholarship'],model_1_test_class),'\\n')\n",
    "\n",
    "print('Model 2')\n",
    "print(metrics.classification_report(Test['Scholarship'],model_2_test_class),'\\n')\n",
    "\n",
    "print('Model 3')\n",
    "print(metrics.classification_report(Test['Scholarship'],model_3_test_class))"
   ]
  },
  {
   "cell_type": "markdown",
   "metadata": {},
   "source": [
    "##  Check the summary statistics of the AUC-ROC curve for all the three Logistic Regression Models built. This is for the test data."
   ]
  },
  {
   "cell_type": "code",
   "execution_count": 154,
   "metadata": {},
   "outputs": [],
   "source": [
    "from pylab import rcParams\n",
    "rcParams['figure.figsize'] = 15,8"
   ]
  },
  {
   "cell_type": "code",
   "execution_count": 155,
   "metadata": {},
   "outputs": [
    {
     "name": "stdout",
     "output_type": "stream",
     "text": [
      "Model 1 AUC: 0.80573\n"
     ]
    },
    {
     "data": {
      "image/png": "[encoded data removed]",
      "text/plain": [
       "<Figure size 1080x576 with 1 Axes>"
      ]
     },
     "metadata": {
      "needs_background": "light"
     },
     "output_type": "display_data"
    },
    {
     "name": "stdout",
     "output_type": "stream",
     "text": [
      "Model 2 AUC: 0.80531\n"
     ]
    },
    {
     "data": {
      "image/png": "[encoded data removed]",
      "text/plain": [
       "<Figure size 1080x576 with 1 Axes>"
      ]
     },
     "metadata": {
      "needs_background": "light"
     },
     "output_type": "display_data"
    },
    {
     "name": "stdout",
     "output_type": "stream",
     "text": [
      "Model 3 AUC: 0.80551\n"
     ]
    },
    {
     "data": {
      "image/png": "[encoded data removed]",
      "text/plain": [
       "<Figure size 1080x576 with 1 Axes>"
      ]
     },
     "metadata": {
      "needs_background": "light"
     },
     "output_type": "display_data"
    }
   ],
   "source": [
    "# AUC and ROC for the model 1\n",
    "\n",
    "\n",
    "# calculating on the basis of a person not defaulting\n",
    "# calculate AUC\n",
    "auc = metrics.roc_auc_score(Test['Scholarship'],model_1_test_probabilities[:, 1])#keeping only the probabilities for the desired class outcome\n",
    "print('Model 1 AUC: %.5f' % auc)\n",
    "# # calculate roc curve\n",
    "# from sklearn.metrics import roc_curve\n",
    "fpr, tpr, thresholds = metrics.roc_curve(Test['Scholarship'],model_1_test_probabilities[:, 1])#keeping only the probabilities for the desired \n",
    "#class outcome\n",
    "plt.plot([0, 1], [0, 1], linestyle='--')\n",
    "# plot the roc curve for the model\n",
    "plt.plot(fpr, tpr, marker='.')\n",
    "# show the plot\n",
    "plt.show()\n",
    "\n",
    "\n",
    "# AUC and ROC for the model 2\n",
    "\n",
    "\n",
    "# calculating on the basis of a person not defaulting\n",
    "# calculate AUC\n",
    "auc = metrics.roc_auc_score(Test['Scholarship'],model_2_test_probabilities[:, 1])#keeping only the probabilities for the desired class outcome\n",
    "print('Model 2 AUC: %.5f' % auc)\n",
    "# # calculate roc curve\n",
    "# from sklearn.metrics import roc_curve\n",
    "fpr, tpr, thresholds = metrics.roc_curve(Test['Scholarship'],model_2_test_probabilities[:, 1])#keeping only the probabilities for the desired \n",
    "#class outcome\n",
    "plt.plot([0, 1], [0, 1], linestyle='--')\n",
    "# plot the roc curve for the model\n",
    "plt.plot(fpr, tpr, marker='.')\n",
    "# show the plot\n",
    "plt.show()\n",
    "\n",
    "# AUC and ROC for the model 3\n",
    "\n",
    "\n",
    "# calculating on the basis of a person not defaulting\n",
    "# calculate AUC\n",
    "auc = metrics.roc_auc_score(Test['Scholarship'],model_3_test_probabilities[:, 1])#keeping only the probabilities for the desired class outcome\n",
    "print('Model 3 AUC: %.5f' % auc)\n",
    "# # calculate roc curve\n",
    "# from sklearn.metrics import roc_curve\n",
    "fpr, tpr, thresholds = metrics.roc_curve(Test['Scholarship'],model_3_test_probabilities[:, 1])#keeping only the probabilities for the desired \n",
    "#class outcome\n",
    "plt.plot([0, 1], [0, 1], linestyle='--')\n",
    "# plot the roc curve for the model\n",
    "plt.plot(fpr, tpr, marker='.')\n",
    "# show the plot\n",
    "plt.show()"
   ]
  },
  {
   "cell_type": "markdown",
   "metadata": {},
   "source": [
    "## 4. Use the same training-test data split in Part (III) to develop a suitable Linear Discriminant Analysis (LDA) model. Use the same to on the test data. Compare the final output from the logistic regression model and LDA."
   ]
  },
  {
   "cell_type": "markdown",
   "metadata": {},
   "source": [
    "### Building three Linear Discriminant Analysis models [using the variables used in the three different models of Logistic Regression] on the training data, check their accuracy scores on the training data and use those models to predict the classes and the corresponding probabilities on the test data."
   ]
  },
  {
   "cell_type": "code",
   "execution_count": 156,
   "metadata": {},
   "outputs": [],
   "source": [
    "from sklearn.discriminant_analysis import LinearDiscriminantAnalysis"
   ]
  },
  {
   "cell_type": "code",
   "execution_count": 157,
   "metadata": {},
   "outputs": [],
   "source": [
    "LDA = LinearDiscriminantAnalysis()"
   ]
  },
  {
   "cell_type": "markdown",
   "metadata": {},
   "source": [
    "### Model 1 - Building the LDA model on the Training Data and checking the Accuracy score on the training data."
   ]
  },
  {
   "cell_type": "code",
   "execution_count": 158,
   "metadata": {},
   "outputs": [],
   "source": [
    "model_1_LDA = LDA.fit(Train[['Academic_Score','Score_on_Plays_Made','Missed_Play_Score','Injury_Propensity','School_Type','School_Score','Overall_Score','Region']],Train['Scholarship'])"
   ]
  },
  {
   "cell_type": "code",
   "execution_count": 159,
   "metadata": {},
   "outputs": [
    {
     "name": "stdout",
     "output_type": "stream",
     "text": [
      "Accuracy Score of LDA Model 1: 0.8310279359913209\n"
     ]
    }
   ],
   "source": [
    "print('Accuracy Score of LDA Model 1:',model_1_LDA.score(Train[['Academic_Score','Score_on_Plays_Made','Missed_Play_Score','Injury_Propensity','School_Type','School_Score','Overall_Score','Region']],Train['Scholarship']))"
   ]
  },
  {
   "cell_type": "code",
   "execution_count": 160,
   "metadata": {},
   "outputs": [],
   "source": [
    "\n",
    "model_1_LDA_test_class = model_1_LDA.predict(Test[['Academic_Score','Score_on_Plays_Made','Missed_Play_Score','Injury_Propensity','School_Type','School_Score','Overall_Score','Region']])\n",
    "model_1_LDA_test_probabilities = model_1_LDA.predict_proba(Test[['Academic_Score','Score_on_Plays_Made','Missed_Play_Score','Injury_Propensity','School_Type','School_Score','Overall_Score','Region']])"
   ]
  },
  {
   "cell_type": "markdown",
   "metadata": {},
   "source": [
    "## Model 2 - Building the LDA model on the Training Data and checking the Accuracy score on the training data"
   ]
  },
  {
   "cell_type": "code",
   "execution_count": 161,
   "metadata": {},
   "outputs": [
    {
     "name": "stdout",
     "output_type": "stream",
     "text": [
      "Accuracy Score of LDA Model 2: 0.8307567127746135\n"
     ]
    }
   ],
   "source": [
    "model_2_LDA = LDA.fit(Train[['Academic_Score','Score_on_Plays_Made','Missed_Play_Score','Injury_Propensity','School_Type','School_Score','Overall_Score']],Train['Scholarship'])\n",
    "print('Accuracy Score of LDA Model 2:',model_2_LDA.score(Train[['Academic_Score','Score_on_Plays_Made','Missed_Play_Score','Injury_Propensity','School_Type','School_Score','Overall_Score']],Train['Scholarship']))"
   ]
  },
  {
   "cell_type": "code",
   "execution_count": 162,
   "metadata": {},
   "outputs": [],
   "source": [
    "\n",
    "model_2_LDA_test_class = model_2_LDA.predict(Test[['Academic_Score','Score_on_Plays_Made','Missed_Play_Score','Injury_Propensity','School_Type','School_Score','Overall_Score']])\n",
    "model_2_LDA_test_probabilities = model_2_LDA.predict_proba(Test[['Academic_Score','Score_on_Plays_Made','Missed_Play_Score','Injury_Propensity','School_Type','School_Score','Overall_Score']])"
   ]
  },
  {
   "cell_type": "markdown",
   "metadata": {},
   "source": [
    "\n",
    "## Model 3 - Building the LDA model on the Training Data and checking the Accuracy score on the training data."
   ]
  },
  {
   "cell_type": "code",
   "execution_count": 163,
   "metadata": {},
   "outputs": [
    {
     "name": "stdout",
     "output_type": "stream",
     "text": [
      "Accuracy Score of LDA Model 3: 0.8304854895579061\n"
     ]
    }
   ],
   "source": [
    "\n",
    "model_3_LDA = LDA.fit(Train[['Academic_Score','Score_on_Plays_Made','Missed_Play_Score','Injury_Propensity','School_Score','Overall_Score']],Train['Scholarship'])\n",
    "print('Accuracy Score of LDA Model 3:',model_3_LDA.score(Train[['Academic_Score','Score_on_Plays_Made','Missed_Play_Score','Injury_Propensity','School_Score','Overall_Score']],Train['Scholarship']))"
   ]
  },
  {
   "cell_type": "code",
   "execution_count": 164,
   "metadata": {},
   "outputs": [],
   "source": [
    "\n",
    "model_3_LDA_test_class = model_3_LDA.predict(Test[['Academic_Score','Score_on_Plays_Made','Missed_Play_Score','Injury_Propensity','School_Score','Overall_Score']])\n",
    "model_3_LDA_test_probabilities = model_3_LDA.predict_proba(Test[['Academic_Score','Score_on_Plays_Made','Missed_Play_Score','Injury_Propensity','School_Score','Overall_Score']])"
   ]
  },
  {
   "cell_type": "markdown",
   "metadata": {},
   "source": [
    "## Evaluating the three LDA models on the test data using the various statistics of the confusion matrix and the AUC-ROC curve."
   ]
  },
  {
   "cell_type": "markdown",
   "metadata": {},
   "source": [
    "### Confusion Matrix Summary Statistics evaluation on the Test Data"
   ]
  },
  {
   "cell_type": "code",
   "execution_count": 165,
   "metadata": {},
   "outputs": [],
   "source": [
    "from pylab import rcParams\n",
    "rcParams['figure.figsize'] = 15,4"
   ]
  },
  {
   "cell_type": "code",
   "execution_count": 166,
   "metadata": {},
   "outputs": [
    {
     "data": {
      "image/png": "[encoded data removed]",
      "text/plain": [
       "<Figure size 1080x288 with 6 Axes>"
      ]
     },
     "metadata": {
      "needs_background": "light"
     },
     "output_type": "display_data"
    }
   ],
   "source": [
    "f,a =  plt.subplots(1,3,sharex=True,sharey=True,squeeze=False)\n",
    "\n",
    "#Plotting confusion matrix for the different models for the Training Data\n",
    "\n",
    "plot_0 = sns.heatmap((metrics.confusion_matrix(Test['Scholarship'],model_1_LDA_test_class)),annot=True,fmt='.5g',cmap='Greys',ax=a[0][0]);\n",
    "a[0][0].set_title('LDA Model_1')\n",
    "\n",
    "plot_1 = sns.heatmap((metrics.confusion_matrix(Test['Scholarship'],model_2_LDA_test_class)),annot=True,fmt='.5g',cmap='Greys',ax=a[0][1]);\n",
    "a[0][1].set_title('LDA Model 2');\n",
    "\n",
    "plot_1 = sns.heatmap((metrics.confusion_matrix(Test['Scholarship'],model_3_LDA_test_class)),annot=True,fmt='.5g',cmap='Greys',ax=a[0][2]);\n",
    "a[0][2].set_title('LDA Model 3');\n",
    "\n"
   ]
  },
  {
   "cell_type": "code",
   "execution_count": 167,
   "metadata": {},
   "outputs": [
    {
     "name": "stdout",
     "output_type": "stream",
     "text": [
      "LDA Model 1\n",
      "True Negative: 939 \n",
      "False Positives: 62 \n",
      "False Negatives: 219 \n",
      "True Positives: 361 \n",
      "\n",
      "\n",
      "LDA Model 2\n",
      "True Negative: 932 \n",
      "False Positives: 69 \n",
      "False Negatives: 219 \n",
      "True Positives: 361 \n",
      "\n",
      "\n",
      "LDA Model 3\n",
      "True Negative: 934 \n",
      "False Positives: 67 \n",
      "False Negatives: 220 \n",
      "True Positives: 360\n"
     ]
    }
   ],
   "source": [
    "print('LDA Model 1')\n",
    "tn, fp, fn, tp = metrics.confusion_matrix(Test['Scholarship'],model_1_LDA_test_class).ravel()\n",
    "print('True Negative:',tn,'\\n''False Positives:' ,fp,'\\n''False Negatives:', fn,'\\n''True Positives:', tp,'\\n\\n')\n",
    "\n",
    "print('LDA Model 2')\n",
    "tn, fp, fn, tp = metrics.confusion_matrix(Test['Scholarship'],model_2_LDA_test_class).ravel()\n",
    "print('True Negative:',tn,'\\n''False Positives:' ,fp,'\\n''False Negatives:', fn,'\\n''True Positives:', tp,'\\n\\n')\n",
    "\n",
    "print('LDA Model 3')\n",
    "tn, fp, fn, tp = metrics.confusion_matrix(Test['Scholarship'],model_3_LDA_test_class).ravel()\n",
    "print('True Negative:',tn,'\\n''False Positives:' ,fp,'\\n''False Negatives:', fn,'\\n''True Positives:', tp)"
   ]
  },
  {
   "cell_type": "code",
   "execution_count": 168,
   "metadata": {},
   "outputs": [
    {
     "name": "stdout",
     "output_type": "stream",
     "text": [
      "LDA Model 1\n",
      "              precision    recall  f1-score   support\n",
      "\n",
      "           0       0.81      0.94      0.87      1001\n",
      "           1       0.85      0.62      0.72       580\n",
      "\n",
      "    accuracy                           0.82      1581\n",
      "   macro avg       0.83      0.78      0.79      1581\n",
      "weighted avg       0.83      0.82      0.81      1581\n",
      " \n",
      "\n",
      "LDA Model 2\n",
      "              precision    recall  f1-score   support\n",
      "\n",
      "           0       0.81      0.93      0.87      1001\n",
      "           1       0.84      0.62      0.71       580\n",
      "\n",
      "    accuracy                           0.82      1581\n",
      "   macro avg       0.82      0.78      0.79      1581\n",
      "weighted avg       0.82      0.82      0.81      1581\n",
      " \n",
      "\n",
      "LDA Model 3\n",
      "              precision    recall  f1-score   support\n",
      "\n",
      "           0       0.81      0.93      0.87      1001\n",
      "           1       0.84      0.62      0.71       580\n",
      "\n",
      "    accuracy                           0.82      1581\n",
      "   macro avg       0.83      0.78      0.79      1581\n",
      "weighted avg       0.82      0.82      0.81      1581\n",
      "\n"
     ]
    }
   ],
   "source": [
    "print('LDA Model 1')\n",
    "print(metrics.classification_report(Test['Scholarship'],model_1_LDA_test_class),'\\n')\n",
    "\n",
    "print('LDA Model 2')\n",
    "print(metrics.classification_report(Test['Scholarship'],model_2_LDA_test_class),'\\n')\n",
    "\n",
    "print('LDA Model 3')\n",
    "print(metrics.classification_report(Test['Scholarship'],model_3_LDA_test_class))"
   ]
  },
  {
   "cell_type": "markdown",
   "metadata": {},
   "source": [
    "### AUC-ROC summary statistics Evaluation on the Test Data. Calculate the AUC-ROC curves and the AUC values."
   ]
  },
  {
   "cell_type": "code",
   "execution_count": 169,
   "metadata": {},
   "outputs": [
    {
     "name": "stdout",
     "output_type": "stream",
     "text": [
      "LDA Model 1 AUC: 0.80527\n"
     ]
    },
    {
     "data": {
      "image/png": "[encoded data removed]",
      "text/plain": [
       "<Figure size 1080x288 with 1 Axes>"
      ]
     },
     "metadata": {
      "needs_background": "light"
     },
     "output_type": "display_data"
    },
    {
     "name": "stdout",
     "output_type": "stream",
     "text": [
      "LDA Model 2 AUC: 0.80482\n"
     ]
    },
    {
     "data": {
      "image/png": "[encoded data removed]",
      "text/plain": [
       "<Figure size 1080x288 with 1 Axes>"
      ]
     },
     "metadata": {
      "needs_background": "light"
     },
     "output_type": "display_data"
    },
    {
     "name": "stdout",
     "output_type": "stream",
     "text": [
      "LDA Model 3 AUC: 0.80522\n"
     ]
    },
    {
     "data": {
      "image/png": "[encoded data removed]",
      "text/plain": [
       "<Figure size 1080x288 with 1 Axes>"
      ]
     },
     "metadata": {
      "needs_background": "light"
     },
     "output_type": "display_data"
    }
   ],
   "source": [
    "# AUC and ROC for the model 1\n",
    "\n",
    "\n",
    "# calculating on the basis of a person not defaulting\n",
    "# calculate AUC\n",
    "auc = metrics.roc_auc_score(Test['Scholarship'],model_1_LDA_test_probabilities[:, 1])#keeping only the probabilities for the desired class outcome\n",
    "print('LDA Model 1 AUC: %.5f' % auc)\n",
    "# # calculate roc curve\n",
    "# from sklearn.metrics import roc_curve\n",
    "fpr, tpr, thresholds = metrics.roc_curve(Test['Scholarship'],model_1_LDA_test_probabilities[:, 1])#keeping only the probabilities for the desired \n",
    "#class outcome\n",
    "plt.plot([0, 1], [0, 1], linestyle='--')\n",
    "# plot the roc curve for the model\n",
    "plt.plot(fpr, tpr, marker='.')\n",
    "# show the plot\n",
    "plt.show()\n",
    "\n",
    "\n",
    "# AUC and ROC for the model 2\n",
    "\n",
    "\n",
    "# calculating on the basis of a person not defaulting\n",
    "# calculate AUC\n",
    "auc = metrics.roc_auc_score(Test['Scholarship'],model_2_LDA_test_probabilities[:, 1])#keeping only the probabilities for the desired class outcome\n",
    "print('LDA Model 2 AUC: %.5f' % auc)\n",
    "# # calculate roc curve\n",
    "# from sklearn.metrics import roc_curve\n",
    "fpr, tpr, thresholds = metrics.roc_curve(Test['Scholarship'],model_2_LDA_test_probabilities[:, 1])#keeping only the probabilities for the desired \n",
    "#class outcome\n",
    "plt.plot([0, 1], [0, 1], linestyle='--')\n",
    "# plot the roc curve for the model\n",
    "plt.plot(fpr, tpr, marker='.')\n",
    "# show the plot\n",
    "plt.show()\n",
    "\n",
    "# AUC and ROC for the model 3\n",
    "\n",
    "\n",
    "# calculating on the basis of a person not defaulting\n",
    "# calculate AUC\n",
    "auc = metrics.roc_auc_score(Test['Scholarship'],model_3_LDA_test_probabilities[:, 1])#keeping only the probabilities for the desired class outcome\n",
    "print('LDA Model 3 AUC: %.5f' % auc)\n",
    "# # calculate roc curve\n",
    "# from sklearn.metrics import roc_curve\n",
    "fpr, tpr, thresholds = metrics.roc_curve(Test['Scholarship'],model_3_LDA_test_probabilities[:, 1])#keeping only the probabilities for the desired \n",
    "#class outcome\n",
    "plt.plot([0, 1], [0, 1], linestyle='--')\n",
    "# plot the roc curve for the model\n",
    "plt.plot(fpr, tpr, marker='.')\n",
    "# show the plot\n",
    "plt.show()"
   ]
  }
 ],
 "metadata": {
  "kernelspec": {
   "display_name": "Python 3",
   "language": "python",
   "name": "python3"
  },
  "language_info": {
   "codemirror_mode": {
    "name": "ipython",
    "version": 3
   },
   "file_extension": ".py",
   "mimetype": "text/x-python",
   "name": "python",
   "nbconvert_exporter": "python",
   "pygments_lexer": "ipython3",
   "version": "3.7.4"
  }
 },
 "nbformat": 4,
 "nbformat_minor": 4
}
